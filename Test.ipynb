{
 "cells": [
  {
   "cell_type": "code",
   "execution_count": 1,
   "id": "3c1848a3",
   "metadata": {},
   "outputs": [],
   "source": [
    "#Importing Libraries\n",
    "from Plots import *\n",
    "import matplotlib.pyplot as plt\n",
    "import time    \n",
    "from IPython.display import HTML"
   ]
  },
  {
   "cell_type": "markdown",
   "id": "04cfc14e",
   "metadata": {},
   "source": [
    "# Bulb Model - Single Angle"
   ]
  },
  {
   "cell_type": "code",
   "execution_count": null,
   "id": "a173a2af",
   "metadata": {},
   "outputs": [],
   "source": [
    "from ODE_Bulb_SingleAngle import *"
   ]
  },
  {
   "cell_type": "code",
   "execution_count": null,
   "id": "e0685b86",
   "metadata": {},
   "outputs": [],
   "source": [
    "nu_types=['nu_e','nu_x']\n",
    "#t_bins=7000\n",
    "#R_nu=10 #km\n",
    "r_i,r_f=10,150 #km\n",
    "\n",
    "E_i,E_f=1,50\n",
    "E_step=1\n",
    "\n",
    "#Initial spectrum\n",
    "E_0=np.array([10,15,24,24]) #Mean energy in MeV\n",
    "#Luminosity\n",
    "Lum=np.array([1,1,1,1]) #Luminosity 10⁵¹ ergs/"
   ]
  },
  {
   "cell_type": "code",
   "execution_count": null,
   "id": "62ae022c",
   "metadata": {},
   "outputs": [],
   "source": [
    "start_time = time.time()\n",
    "y0,omega,E_vec,t_vec,mu_0,n_f,n_dim,n_E=initiate(nu_types,r_i,r_f,E_i,E_f,E_step,E_0,Lum)\n",
    "params=-1*np.array(omega),mu_0,n_f,n_dim,n_E\n",
    "psoln= odeint(func_Collective_nu, y0, t_vec, args=(params,))\n",
    "nu, nubar= read_output(psoln,(n_f,n_dim,n_E))\n",
    "nu_e_time,nubar_e_time,nu_x_time,nubar_x_time=read_two_flavor_v1(nu, nubar)\n",
    "print(\"Took %s minutes\" % ((time.time() - start_time)/60))"
   ]
  },
  {
   "cell_type": "code",
   "execution_count": null,
   "id": "5148c635",
   "metadata": {},
   "outputs": [],
   "source": [
    "Plot_Spectrum(E_vec,E_0,nu_e_time,nubar_e_time, nu_x_time,nubar_x_time,\"IH\")"
   ]
  },
  {
   "cell_type": "markdown",
   "id": "b6d34fcd",
   "metadata": {},
   "source": [
    "### Bulb Plot"
   ]
  },
  {
   "cell_type": "code",
   "execution_count": null,
   "id": "e774e55e",
   "metadata": {},
   "outputs": [],
   "source": [
    "def neutrinosphere(R_nu):\n",
    "    N = 400\n",
    "    t = np.linspace(0, 2 * np.pi, N)\n",
    "    x, y = R_nu * np.cos(t), R_nu * np.sin(t)\n",
    "    return x,y\n",
    "\n",
    "def trajectory(x0,y0,cos,r):\n",
    "    R=\n",
    "    x=x0\n",
    "    return x,y"
   ]
  },
  {
   "cell_type": "code",
   "execution_count": null,
   "id": "189a4df7",
   "metadata": {},
   "outputs": [],
   "source": [
    "fig= plt.figure(figsize=(15/2, 10/2), dpi= 80, facecolor='w', edgecolor='k')\n",
    "\n",
    "x,y=neutrinosphere(10)\n",
    "plt.plot(x,y,label=\"Neutrinosphere\")\n",
    "plt.xlabel(\"[km]\")\n",
    "plt.xlim(-50,100)\n",
    "plt.ylabel(\"[km]\")\n",
    "plt.ylim(-50,50)\n",
    "plt.legend()\n",
    "plt.show"
   ]
  },
  {
   "cell_type": "markdown",
   "id": "47ceeb9d",
   "metadata": {},
   "source": [
    "### Potential Plots"
   ]
  },
  {
   "cell_type": "code",
   "execution_count": null,
   "id": "1e20113b",
   "metadata": {},
   "outputs": [],
   "source": [
    "y0,omega,E_vec,t_vec,mu_0,n_f,n_dim,n_E=initiate(nu_types,r_i,r_f,E_i,E_f,E_step,E_0,Lum)\n",
    "len(t_vec)\n",
    "r_vec=t_vec/from_eV_to_1_over_km\n",
    "print(r_vec[0],\", \",r_vec[-1],\"km\")\n",
    "\n",
    "#mu_0 - v1\n",
    "omega=delta_m2_31/(2*E_vec*10**6)\n",
    "mu_01=(10)*max(omega)\n",
    "print(mu_01,\"eV\")\n",
    "\n",
    "#mu_0 - v2\n",
    "Flux=(Lum*(10**51)*erg_to_MeV /E_0)/(4*np.pi*((R_nu*10**5)**2)) # [cm⁻².s⁻¹]\n",
    "Flux=Flux/(2.998*10**10) #[cm⁻³] (c=1)\n",
    "Flux=Flux*from_1_over_cm3_to_eV3 #[eV³]\n",
    "mu_02=np.sqrt(2)*G_F*sum(Flux) #[eV]\n",
    "print(mu_02,\"eV\")"
   ]
  },
  {
   "cell_type": "code",
   "execution_count": null,
   "id": "ca1c9ae3",
   "metadata": {},
   "outputs": [],
   "source": [
    "fig= plt.figure(figsize=(10, 6), dpi= 80, facecolor='w', edgecolor='k')\n",
    "#mu\n",
    "#plt.plot(r_vec,mu_supernova_vec(r_vec,mu_01),label=r\"$\\mu_1$\")\n",
    "plt.plot(r_vec,mu_02*D_geom(r_vec,R_nu),label=r\"$\\mu_2$\")\n",
    "#Omega\n",
    "plt.axhline(y=max(omega), color='r', linestyle='--',label=r\"$\\omega_{max}$\")\n",
    "plt.axhline(y=min(omega), color='r', linestyle='--',label=r\"$\\omega_{min}$\")\n",
    "#Lambda\n",
    "plt.plot(r_vec,lambda_supernova(r_vec,\"SN\",t=0.5),label=r\"$\\lambda$ t=0.5s\")\n",
    "plt.plot(r_vec,lambda_supernova(r_vec,\"SN\",t=5),label=r\"$\\lambda$ t=5s\")\n",
    "plt.yscale('log')\n",
    "plt.ylabel(r\"$\\lambda, \\mu [eV]$\")\n",
    "plt.xlabel('r [km]')\n",
    "#plt.xscale('log')\n",
    "plt.legend()\n",
    "plt.show()"
   ]
  },
  {
   "cell_type": "code",
   "execution_count": null,
   "id": "1f59e967",
   "metadata": {},
   "outputs": [],
   "source": [
    "fig= plt.figure(figsize=(10, 6), dpi= 80, facecolor='w', edgecolor='k')\n",
    "r_vec=r=np.logspace(1, 5, 1000)\n",
    "#mu\n",
    "#plt.plot(r_vec,from_eV_to_1_over_km*mu_supernova_vec(r_vec,mu_01),label=r\"$\\mu_1$\")\n",
    "plt.plot(r_vec,from_eV_to_1_over_km*10*mu_02*D_geom(r_vec,R_nu),label=r\"$\\mu_2$\")\n",
    "#Omega\n",
    "plt.axhline(y=from_eV_to_1_over_km*max(omega), color='r', linestyle='--',label=r\"$\\omega_{max}$\")\n",
    "plt.axhline(y=from_eV_to_1_over_km*min(omega), color='r', linestyle='--',label=r\"$\\omega_{min}$\")\n",
    "#Lambda\n",
    "plt.plot(r_vec,from_eV_to_1_over_km*lambda_supernova(r_vec,\"SN\",t=0.5),label=r\"$\\lambda$ t=0.5s\")\n",
    "plt.plot(r_vec,from_eV_to_1_over_km*lambda_supernova(r_vec,\"SN\",t=1),label=r\"$\\lambda$ t=1s\")\n",
    "plt.plot(r_vec,from_eV_to_1_over_km*lambda_supernova(r_vec,\"SN\",t=2),label=r\"$\\lambda$ t=2s\")\n",
    "plt.plot(r_vec,from_eV_to_1_over_km*lambda_supernova(r_vec,\"SN\",t=5),label=r\"$\\lambda$ t=5s\")\n",
    "plt.yscale('log')\n",
    "plt.ylabel(r\"$\\lambda, \\mu [km^{-1}]$\")\n",
    "plt.xlabel('r [km]')\n",
    "plt.xscale('log')\n",
    "plt.ylim(10**-4,10**8)\n",
    "plt.xlim(10,10**5)\n",
    "plt.legend()\n",
    "plt.show()"
   ]
  },
  {
   "cell_type": "markdown",
   "id": "1d6240d2",
   "metadata": {},
   "source": [
    "# Isotropic"
   ]
  },
  {
   "cell_type": "code",
   "execution_count": null,
   "id": "23602d50",
   "metadata": {},
   "outputs": [],
   "source": [
    "from ODE_Isotropic_Spectrum import *"
   ]
  },
  {
   "cell_type": "code",
   "execution_count": null,
   "id": "2d6b6781",
   "metadata": {},
   "outputs": [],
   "source": [
    "nu_types=['nu_e','nu_x']\n",
    "t_bins=1000\n",
    "E_i,E_f=1,50\n",
    "E_step=0.05\n",
    "\n",
    "#Initial spectrum\n",
    "E_0=[10,15,24,24] #Mean energy in MeV\n",
    "Amplitude=[1,1*10/15,1*10/24,1*10/24]\n",
    "#Amplitude=[0.85,0.75,1,1]"
   ]
  },
  {
   "cell_type": "markdown",
   "id": "b8aaa42d",
   "metadata": {},
   "source": [
    "## Version 2"
   ]
  },
  {
   "cell_type": "code",
   "execution_count": null,
   "id": "292b5d8a",
   "metadata": {},
   "outputs": [],
   "source": [
    "y0,omega,E_vec,t_vec,mu_0,n_f,n_dim,n_E=initiate_v2(nu_types,t_bins,E_i,E_f,E_step,E_0,Amplitude)"
   ]
  },
  {
   "cell_type": "code",
   "execution_count": null,
   "id": "1c7a6225",
   "metadata": {},
   "outputs": [],
   "source": [
    "params=-1*np.array(omega),mu_0,n_f,n_dim,n_E\n",
    "start_time = time.time()\n",
    "psoln,infodict= odeint(func_Collective_nu_v2, y0, t_vec, args=(params,),full_output = 1)\n",
    "print(\"Took= %s minutes\" % ((time.time() - start_time)/60))"
   ]
  },
  {
   "cell_type": "code",
   "execution_count": null,
   "id": "d12d5d97",
   "metadata": {},
   "outputs": [],
   "source": [
    "def read_output_v2(psoln,params):\n",
    "  n_f,n_dim,n_E= params\n",
    "  num_diff_nu_compnents=2*n_dim\n",
    "    \n",
    "  nu,nubar=[],[]\n",
    "  Pee_nu,Pee_nubar=[],[]\n",
    "    \n",
    "  for l in range(n_dim):\n",
    "    nu.append([])\n",
    "    nubar.append([])\n",
    "    for j in range(len(psoln)):\n",
    "        nu[l].append([])\n",
    "        nubar[l].append([])\n",
    "        for i in range(n_E):\n",
    "          nu[l][j].append(psoln[j][(i*num_diff_nu_compnents)+(l)])\n",
    "          nubar[l][j].append(psoln[j][(i*num_diff_nu_compnents)+(l+n_dim)])\n",
    "    \n",
    "    \n",
    "  for j in range(len(psoln)):\n",
    "        Pee_nu.append([])\n",
    "        Pee_nubar.append([])\n",
    "        for i in range(n_E):  \n",
    "          #nu\n",
    "          Pee_aux=(1/2)*(1+ nu[2][j][i]/nu[2][0][i])\n",
    "          Pee_nu[j].append(Pee_aux)\n",
    "          #nubar\n",
    "          Pee_aux=(1/2)*(1+ nubar[2][j][i]/nubar[2][0][i])\n",
    "          Pee_nubar[j].append(Pee_aux)\n",
    "            \n",
    "  return nu,nubar,Pee_nu,Pee_nubar #[Pauli Matrix][time][energy]"
   ]
  },
  {
   "cell_type": "code",
   "execution_count": null,
   "id": "2239008f",
   "metadata": {},
   "outputs": [],
   "source": [
    "nu,nubar,Pee_nu,Pee_nubar = read_output_v2(psoln,(n_f,n_dim,n_E))"
   ]
  },
  {
   "cell_type": "code",
   "execution_count": null,
   "id": "40aecac1",
   "metadata": {},
   "outputs": [],
   "source": [
    "plt.plot(E_vec,Pee_nu[0],label=\"nu\")\n",
    "plt.plot(E_vec,Pee_nubar[0],label=\"nubar\")\n",
    "plt.plot(E_vec,Pee_nu[-1],label=\"nu\")\n",
    "plt.plot(E_vec,Pee_nubar[-1],label=\"nubar\")\n",
    "plt.legend()\n",
    "plt.show()"
   ]
  },
  {
   "cell_type": "code",
   "execution_count": null,
   "id": "802e5f9c",
   "metadata": {},
   "outputs": [],
   "source": [
    "nu_e_time,nubar_e_time, nu_x_time,nubar_x_time=[],[],[],[]\n",
    "\n",
    "nu_e0=Amplitude[0]*phi_vec(E_vec,E_0[0],2.3)\n",
    "nubar_e0=Amplitude[1]*phi_vec(E_vec,E_0[1],2.3)\n",
    "nu_x0=Amplitude[2]*phi_vec(E_vec,E_0[2],2.3)\n",
    "nubar_x0=Amplitude[3]*phi_vec(E_vec,E_0[3],2.3)"
   ]
  },
  {
   "cell_type": "code",
   "execution_count": null,
   "id": "95b6c465",
   "metadata": {},
   "outputs": [],
   "source": [
    "for i in range(len(Pee_nu)):\n",
    "        nu_e_time.append([])\n",
    "        nu_x_time.append([])\n",
    "        nubar_e_time.append([])\n",
    "        nubar_x_time.append([])\n",
    "        for j in range(len(Pee_nu[0])):\n",
    "            Pee_aux=Pee_nu[i][j]\n",
    "            nu_e_time[i].append(Pee_aux*nu_e0[j]+(1-Pee_aux)*nu_x0[j])\n",
    "            nu_x_time[i].append(Pee_aux*nu_x0[j]+(1-Pee_aux)*nu_e0[j])\n",
    "                        \n",
    "            Pee_aux=Pee_nubar[i][j]\n",
    "            nubar_e_time[i].append(Pee_aux*nubar_e0[j]+(1-Pee_aux)*nubar_x0[j])\n",
    "            nubar_x_time[i].append(Pee_aux*nubar_x0[j]+(1-Pee_aux)*nubar_e0[j])"
   ]
  },
  {
   "cell_type": "code",
   "execution_count": null,
   "id": "ee8a3a39",
   "metadata": {},
   "outputs": [],
   "source": [
    "fig= plt.figure(figsize=(15, 6), dpi= 80, facecolor='w', edgecolor='k')\n",
    "    \n",
    "ax1=fig.add_subplot(1,2,1)\n",
    "#nu_e\n",
    "ax1.plot(E_vec, nu_e_time[-1],color='b',label=r'$\\nu_e$')\n",
    "ax1.plot(E_vec, nu_e_time[0],color='b', linestyle=\"--\",label=r'$\\nu_e(t=0)$')#Initial\n",
    "#nu_x\n",
    "ax1.plot(E_vec,nu_x_time[-1],color='g',label=r'$\\nu_x$')\n",
    "ax1.plot(E_vec, nu_x_time[0],color='g', linestyle=\"--\",label=r'$\\nu_x(t=0)$')#Initial\n",
    "#Text\n",
    "ax1.set_title(\"Neutrinos\")\n",
    "ax1.set_xlabel(r'$E [MeV]$')\n",
    "ax1.set_ylabel(r'$\\phi(E) [MeV^{-1}]$')\n",
    "ax1.legend(loc='upper right')\n",
    "ax1.set_ylim(0,1.1*max(nu_e_time[0]))\n",
    "    \n",
    "ax2=fig.add_subplot(1,2,2)\n",
    "#nubar_e\n",
    "ax2.plot(E_vec,nubar_e_time[-1],color='r',label=r'$\\overline{\\nu}_e$')\n",
    "ax2.plot(E_vec, nubar_e_time[0],color='r', linestyle=\"--\",label=r'$\\overline{\\nu}_e(t=0)$')#Initial\n",
    "#nubar_x\n",
    "ax2.plot(E_vec,nubar_x_time[-1],color='orange',label=r'$\\overline{\\nu}_x$')\n",
    "ax2.plot(E_vec,nubar_x_time[0],color='orange', linestyle=\"--\",label=r'$\\nu_x(t=0)$')#Initial\n",
    "#Text\n",
    "ax2.set_title(\"Antineutrinos\")\n",
    "ax2.set_xlabel(r'$E [MeV]$')\n",
    "ax2.set_ylabel(r'$\\phi(E) [MeV^{-1}]$')\n",
    "ax2.legend(loc='upper right')\n",
    "#ax2.set_ylim(0,1.1*max(nu_e_time[0]))\n",
    "    \n",
    "fig.suptitle((r'Isotropic Neutrino Gas - Mass Hierarchy: IH')+\"\\n\"+\n",
    "                 (r\"$\\overline{E}_{\\nu_e}= %.1f$ MeV, $\\overline{E}_{\\overline{\\nu}_e}= %.1f$ MeV, $\\overline{E}_{\\nu_x}= %.1f$ MeV\"%(E_0[0],E_0[1],E_0[2])))\n",
    "#fig.savefig(\"Figures/Isotrpic_Gas_Spectrum_%s.png\"%title)"
   ]
  },
  {
   "cell_type": "markdown",
   "id": "f1988594",
   "metadata": {},
   "source": [
    "## Version 1"
   ]
  },
  {
   "cell_type": "code",
   "execution_count": null,
   "id": "8a77b410",
   "metadata": {},
   "outputs": [],
   "source": [
    "mass_ord=\"IH\"\n",
    "start_time = time.time()\n",
    "E_vec,t_vec,nu_e_time_IH,nubar_e_time_IH, nu_x_time_IH,nubar_x_time_IH,nu_IH,nubar_IH=solver_two_families(nu_types,t_bins,E_i,E_f,E_step,E_0,Amplitude,mass_ord)\n",
    "print(\"Took %s minutes\" % ((time.time() - start_time)/60))"
   ]
  },
  {
   "cell_type": "markdown",
   "id": "61c99fde",
   "metadata": {},
   "source": [
    "#### Sum $f_s(E)$ and Difference $f_d(E)$ Spectra"
   ]
  },
  {
   "cell_type": "code",
   "execution_count": null,
   "id": "36d34e5f",
   "metadata": {},
   "outputs": [],
   "source": [
    "f_s_nu=[]\n",
    "f_d_nu=[]\n",
    "f_s_nubar=[]\n",
    "f_d_nubar=[]\n",
    "\n",
    "for i in range(len(nu_e_time_IH)):\n",
    "    f_s_nu.append([])\n",
    "    f_d_nu.append([])\n",
    "    f_s_nubar.append([])\n",
    "    f_d_nubar.append([])\n",
    "    for j in range(len(nu_e_time_IH[0])):\n",
    "        #nu\n",
    "        aux=nu_e_time_IH[i][j]+nu_x_time_IH[i][j]\n",
    "        f_s_nu[i].append(aux)\n",
    "        aux=nu_e_time_IH[i][j]-nu_x_time_IH[i][j]\n",
    "        f_d_nu[i].append(aux)\n",
    "        #nubar\n",
    "        aux=nubar_e_time_IH[i][j]+nubar_x_time_IH[i][j]\n",
    "        f_s_nubar[i].append(aux)\n",
    "        aux=nubar_e_time_IH[i][j]-nubar_x_time_IH[i][j]\n",
    "        f_d_nubar[i].append(aux)"
   ]
  },
  {
   "cell_type": "code",
   "execution_count": null,
   "id": "45fd0566",
   "metadata": {},
   "outputs": [],
   "source": [
    "plt.figure(figsize=(15,5))\n",
    "plt.subplot(121)\n",
    "plt.plot(E_vec,f_d_nu[0],label=r\"$\\nu$ - Initial\")\n",
    "plt.plot(E_vec,f_d_nu[-1],ls='--',label=r\"$\\nu$ - Final\")\n",
    "plt.plot(E_vec,f_d_nubar[0],label=r\"$\\overline{\\nu}$ - Initial\")\n",
    "plt.plot(E_vec,f_d_nubar[-1],ls='--',label=r\"$\\overline{\\nu}$ - Final\")\n",
    "plt.xlabel(\"E [MeV]\")\n",
    "plt.title(\"Spectrum Difference\")\n",
    "plt.legend()\n",
    "plt.subplot(122)\n",
    "plt.plot(E_vec,f_s_nu[0],label=r\"$\\nu$ - Initial\")\n",
    "plt.plot(E_vec,f_s_nu[-1],ls='--',label=r\"$\\nu$ - Final\")\n",
    "plt.plot(E_vec,f_s_nubar[0],label=r\"$\\overline{\\nu}$ - Initial\")\n",
    "plt.plot(E_vec,f_s_nubar[-1],ls='--',label=r\"$\\overline{\\nu}$ - Final\")\n",
    "plt.xlabel(\"E [MeV]\")\n",
    "plt.title(\"Spectrum Sum\")\n",
    "plt.legend()\n",
    "plt.show()"
   ]
  },
  {
   "cell_type": "code",
   "execution_count": null,
   "id": "a017b1ba",
   "metadata": {},
   "outputs": [],
   "source": [
    "print(\"Initial Total lepton number\",sum(f_s_nu[0])-sum(f_s_nubar[0]))\n",
    "print(\"Final Total lepton number\",sum(f_s_nu[-1])-sum(f_s_nubar[-1]))"
   ]
  },
  {
   "cell_type": "markdown",
   "id": "56f6678a",
   "metadata": {},
   "source": [
    "#### Sum $\\vec S$ and Difference $\\vec D$ Vectors"
   ]
  },
  {
   "cell_type": "code",
   "execution_count": null,
   "id": "a61456c2",
   "metadata": {},
   "outputs": [],
   "source": [
    "S_w=[]\n",
    "S=[]\n",
    "D_w=[]\n",
    "D=[]\n",
    "\n",
    "for i in range(len(nu_IH)):\n",
    "    S.append([])\n",
    "    S_w.append([])\n",
    "    D.append([])\n",
    "    D_w.append([])\n",
    "    for k in range(len(nu_IH[0][0])):\n",
    "        aux=(np.array(nu_IH[i][0][k])+np.array(nu_IH[i][1][k]))+(np.array(nubar_IH[i][0][k])+np.array(nubar_IH[i][1][k]))\n",
    "        S[i].append(sum(aux))\n",
    "        S_w[i].append(aux)\n",
    "        aux=(np.array(nu_IH[i][0][k])+np.array(nu_IH[i][1][k]))-(np.array(nubar_IH[i][0][k])+np.array(nubar_IH[i][1][k]))\n",
    "        D[i].append(sum(aux))\n",
    "        D_w[i].append(aux)    "
   ]
  },
  {
   "cell_type": "code",
   "execution_count": null,
   "id": "0f52290f",
   "metadata": {},
   "outputs": [],
   "source": [
    "S=np.array(S)"
   ]
  },
  {
   "cell_type": "code",
   "execution_count": null,
   "id": "0ba71bd5",
   "metadata": {},
   "outputs": [],
   "source": [
    "S[0][1:-1]/S[0][1:-1]"
   ]
  },
  {
   "cell_type": "code",
   "execution_count": null,
   "id": "823f58ab",
   "metadata": {},
   "outputs": [],
   "source": [
    "t_f=t_bins\n",
    "E_i=int(len(E_vec)/2)\n",
    "\n",
    "fig = plt.figure(figsize=(5, 5), dpi= 80, facecolor='w', edgecolor='k')\n",
    "ax1 = fig.add_subplot(1,1,1,projection='3d')\n",
    "\n",
    "#B\n",
    "B1,B2,B3=B_vec(3)\n",
    "quiver_B = ax1.quiver(0, 0, 0, B1, B2, B3, arrow_length_ratio=0.05,color='r',normalize=True,label=r'$\\vec{B}$')\n",
    "\n",
    "#Sum\n",
    "S1,S2,S3= S[0][0],S[1][0],S[2][0]\n",
    "quiver_S = ax1.quiver(0, 0, 0,S1,S2,S3, arrow_length_ratio=0.05,normalize=True,color='b',label=r'$\\vec{S}$')\n",
    "#ax1.plot(S[0][::],S[1][::],S[2][::],c='b')\n",
    "\n",
    "#Diff\n",
    "D1,D2,D3= D[0][0],D[1][0],D[2][0]\n",
    "quiver_D = ax1.quiver(0, 0, 0,D1,D2,D3, arrow_length_ratio=0.05,normalize=True,color='g',label=r'$\\vec{D}$')\n",
    "\n",
    "#Pe\n",
    "P1,P2,P3= nu_IH[0][0][0][E_i],nu_IH[1][0][0][E_i],nu_IH[2][0][0][E_i]\n",
    "quiver_P = ax1.quiver(0, 0, 0,P1,P2,P3, arrow_length_ratio=0.05,normalize=True,color='y',label=r'$\\vec{P}_{\\nu_e}$')\n",
    "\n",
    "ax1.set_xlim(-1, 1)\n",
    "ax1.set_ylim(-1, 1)\n",
    "ax1.set_zlim(-1, 1)\n",
    "ax1.quiver(-0.5, 0, 0, 1, 0, 0, arrow_length_ratio=0.05,color='k')\n",
    "ax1.text(0.6,0,0, r\"$\\hat{e}^F_1$\", color='k')\n",
    "ax1.quiver(0, -0.5, 0, 0, 1, 0, arrow_length_ratio=0.05,color='k')\n",
    "ax1.text(0,0.6,0, r\"$\\hat{e}^F_2$\", color='k')\n",
    "ax1.quiver(0, 0, -0.5, 0, 0, 1, arrow_length_ratio=0.05,color='k')\n",
    "ax1.text(0,0,0.6, r\"$\\hat{e}^F_3$\", color='k')\n",
    "ax1.set_title(r'Inverted Hierarchy')\n",
    "ax1.legend()\n",
    "\n",
    "\n",
    "\n",
    "\n",
    "def update(t_i):\n",
    "    #Sum\n",
    "    global quiver_S\n",
    "    quiver_S.remove()\n",
    "    S1,S2,S3= S[0][t_i],S[1][t_i],S[2][t_i]\n",
    "    quiver_S = ax1.quiver(0, 0, 0,S1,S2,S3, arrow_length_ratio=0.05,normalize=True,color='b')\n",
    "    \n",
    "    #Diff\n",
    "    global quiver_D\n",
    "    quiver_D.remove()\n",
    "    D1,D2,D3= D[0][t_i],D[1][t_i],D[2][t_i]\n",
    "    quiver_D = ax1.quiver(0, 0, 0,D1,D2,D3, arrow_length_ratio=0.05,normalize=True,color='g')\n",
    "    \n",
    "    #Pe\n",
    "    global quiver_P\n",
    "    quiver_P.remove()\n",
    "    P1,P2,P3= nu_IH[0][0][t_i][E_i],nu_IH[1][0][t_i][E_i],nu_IH[2][0][t_i][E_i]\n",
    "    quiver_P = ax1.quiver(0, 0, 0,P1,P2,P3, arrow_length_ratio=0.05,normalize=True,color='y')\n",
    "\n",
    "\n",
    "ani = FuncAnimation(fig, update, frames=np.arange(0,t_f,1), interval=100)"
   ]
  },
  {
   "cell_type": "code",
   "execution_count": null,
   "id": "f2733c84",
   "metadata": {},
   "outputs": [],
   "source": [
    "HTML(ani.to_html5_video())"
   ]
  },
  {
   "cell_type": "markdown",
   "id": "bbe919e3",
   "metadata": {},
   "source": [
    "# $\\lambda,\\mu$ profiles"
   ]
  },
  {
   "cell_type": "code",
   "execution_count": null,
   "id": "1acef4b8",
   "metadata": {},
   "outputs": [],
   "source": [
    "#r=np.arange(0.1,10000,1)\n",
    "r=np.logspace(0, 6.0, 1000)\n",
    "plt.plot(r,SN_density_profile(r,0.5),label=\"t<1s\")\n",
    "plt.plot(r,SN_density_profile(r,1),label=\"t=1s\")\n",
    "plt.plot(r,SN_density_profile(r,2),label=\"t=2s\")\n",
    "plt.plot(r,SN_density_profile(r,5),label=\"t=5s\")\n",
    "plt.plot(r,SN_density_profile(r,10),label=\"t=10s\")\n",
    "plt.plot(r,SN_density_profile(r,20),label=\"t=20s\")\n",
    "plt.yscale('log')\n",
    "plt.ylabel(r\"$\\rho [g/cm³]$\")\n",
    "plt.xlabel('r [km]')\n",
    "plt.xscale('log')\n",
    "plt.legend()\n",
    "plt.show()"
   ]
  },
  {
   "cell_type": "code",
   "execution_count": null,
   "id": "50de684a",
   "metadata": {},
   "outputs": [],
   "source": [
    "r=np.arange(10,200,0.1)\n",
    "plt.plot(r,lambda_supernova(r,\"SN\",t=0.5),label=\"t<1s\")\n",
    "plt.plot(r,lambda_supernova(r,\"SN\",t=1),label=\"t=1s\")\n",
    "#plt.plot(r,lambda_supernova(r,\"SN\",t=2),label=\"t=2s\")\n",
    "#plt.plot(r,lambda_supernova(r,\"SN\",t=5),label=\"t=5s\")\n",
    "#plt.plot(r,lambda_supernova(r,\"SN\",t=10),label=\"t=10s\")\n",
    "#plt.plot(r,lambda_supernova(r,\"SN\",t=20),label=\"t=20s\")\n",
    "plt.plot(r,mu_supernova_vec(r,0.0001),label=\"t=1s\")\n",
    "plt.yscale('log')\n",
    "plt.ylabel(r\"$\\lambda, \\mu [eV]$\")\n",
    "plt.xlabel('r [km]')\n",
    "#plt.xscale('log')\n",
    "plt.legend()\n",
    "plt.show()"
   ]
  },
  {
   "cell_type": "code",
   "execution_count": null,
   "id": "5f624f14",
   "metadata": {},
   "outputs": [],
   "source": [
    "r=np.arange(25,200,0.1)\n",
    "plt.plot(r,from_eV_to_1_over_km*lambda_supernova(r,\"SN\",t=0.5),label=\"t<1s\")\n",
    "plt.plot(r,from_eV_to_1_over_km*lambda_supernova(r,\"SN\",t=1),label=\"t=1s\")\n",
    "#plt.plot(r,from_eV_to_1_over_km*lambda_supernova(r,\"SN\",t=2),label=\"t=2s\")\n",
    "#plt.plot(r,from_eV_to_1_over_km*lambda_supernova(r,\"SN\",t=5),label=\"t=5s\")\n",
    "#plt.plot(r,from_eV_to_1_over_km*lambda_supernova(r,\"SN\",t=10),label=\"t=10s\")\n",
    "#plt.plot(r,from_eV_to_1_over_km*lambda_supernova(r,\"SN\",t=20),label=\"t=20s\")\n",
    "plt.plot(r,from_eV_to_1_over_km*mu_supernova_vec(r,0.0001),label=\"t=1s\")\n",
    "plt.yscale('log')\n",
    "plt.ylabel(r\"$\\lambda, \\mu [km⁻¹]$\")\n",
    "plt.xlabel('r [km]')\n",
    "#plt.xscale('log')\n",
    "plt.ylim(0.1,10**5)\n",
    "plt.legend()\n",
    "plt.show()"
   ]
  },
  {
   "cell_type": "markdown",
   "id": "e3480bdf",
   "metadata": {},
   "source": [
    "# Solar"
   ]
  },
  {
   "cell_type": "code",
   "execution_count": null,
   "id": "d7a554c3",
   "metadata": {},
   "outputs": [],
   "source": [
    "from ODE_Solar import solver_solar\n",
    "\n",
    "E_high=30 #Mev\n",
    "E_low=0.1 #Mev\n",
    "r_i,r_f =0,1 #R_solar\n",
    "\n",
    "S_high,B_high,r_per_R_sol=solver_solar(E_high,r_i,r_f)\n",
    "#S_low,B_low,r_per_R_sol=solver_solar(E_low,r_i,r_f)"
   ]
  },
  {
   "cell_type": "markdown",
   "id": "d2f67dc3",
   "metadata": {},
   "source": [
    "### Probability Plots"
   ]
  },
  {
   "cell_type": "code",
   "execution_count": null,
   "id": "29684a08",
   "metadata": {},
   "outputs": [],
   "source": [
    "Plot_Probability_Solar(S_high[2],r_per_R_sol,E_high)\n",
    "#Plot_Probability_Solar(S_low[2][-500:-1],r_per_R_sol[-500:-1],E_low)"
   ]
  },
  {
   "cell_type": "markdown",
   "id": "a6034e94",
   "metadata": {},
   "source": [
    "### Animation"
   ]
  },
  {
   "cell_type": "code",
   "execution_count": null,
   "id": "244a91f1",
   "metadata": {},
   "outputs": [],
   "source": [
    "def Pol_Vec_Anim_Solar(S,B,r_per_R_sol,E):\n",
    "    r_f=len(r_per_R_sol)\n",
    "    r_step=int(r_f/100)\n",
    "    if r_step<1:\n",
    "        r_step=1\n",
    "\n",
    "    fig = plt.figure(figsize=(16, 5), dpi= 80, facecolor='w', edgecolor='k')\n",
    "    ax1 = fig.add_subplot(1,2,1,projection='3d')\n",
    "\n",
    "    B1,B2,B3=B[0][0],B[1][0],B[2][0]\n",
    "    quiver_B = ax1.quiver(0, 0, 0, B1, B2, B3, arrow_length_ratio=0.05,color='r',label=r'$\\vec{B}$',normalize=True)\n",
    "\n",
    "    P1,P2,P3= S[0][0],S[1][0],S[2][0]\n",
    "    quiver = ax1.quiver(0, 0, 0,P1,P2,P3, arrow_length_ratio=0.05,color='b',label=r'$\\vec{P}$')\n",
    "\n",
    "    ax1.set_xlim(-1, 1)\n",
    "    ax1.set_ylim(-1, 1)\n",
    "    ax1.set_zlim(-1, 1)\n",
    "    ax1.quiver(-0.5, 0, 0, 1, 0, 0, arrow_length_ratio=0.05,color='k')\n",
    "    ax1.quiver(0, -0.5, 0, 0, 1, 0, arrow_length_ratio=0.05,color='k')\n",
    "    ax1.quiver(0, 0, -0.5, 0, 0, 1, arrow_length_ratio=0.05,color='k')\n",
    "    ax1.set_title(r'Polarization Vectors - $E_\\nu=%.1f$ MeV'%(E))\n",
    "    ax1.legend()\n",
    "\n",
    "    ax2 = fig.add_subplot(1, 2, 2)\n",
    "    ax2.set_ylim(0, 1)\n",
    "    ax2.set_xlim(0, r_per_R_sol[r_f-1])\n",
    "    ax2.set_xlabel(r'$r/R_{\\odot}$')\n",
    "    ax2.set_ylabel(\"$P_{e}$\")\n",
    "    ax2.set_title(r\"P($\\nu_e \\rightarrow \\nu_e$)\")\n",
    "    Pe, = ax2.plot([], [])\n",
    "\n",
    "    def update(t_i):\n",
    "        #3D plot\n",
    "        ax1.cla()\n",
    "        #Bvector\n",
    "        B1,B2,B3 =B[0][t_i],B[1][t_i],B[2][t_i]\n",
    "        quiver_B = ax1.quiver(0, 0, 0, B1, B2, B3, arrow_length_ratio=0.05,color='r',normalize=True,label=r'$\\vec{B}$')\n",
    "        #P vector\n",
    "        P1,P2,P3= S[0][t_i],S[1][t_i],S[2][t_i]\n",
    "        quiver = ax1.quiver(0, 0, 0,P1,P2,P3, arrow_length_ratio=0.05,color='b',label=r'$\\vec{P}$')\n",
    "        ax1.set_xlim(-1, 1)\n",
    "        ax1.set_ylim(-1, 1)\n",
    "        ax1.set_zlim(-1, 1)\n",
    "        ax1.quiver(-0.5, 0, 0, 1, 0, 0, arrow_length_ratio=0.05,color='k')\n",
    "        ax1.quiver(0, -0.5, 0, 0, 1, 0, arrow_length_ratio=0.05,color='k')\n",
    "        ax1.quiver(0, 0, -0.5, 0, 0, 1, arrow_length_ratio=0.05,color='k')\n",
    "        ax1.set_title(r'Polarization Vectors - $E_\\nu=%.1f$ MeV'%(E))\n",
    "        ax1.legend()\n",
    "        #Probability plots\n",
    "        Pe.set_data(r_per_R_sol[0:t_i], 1/2*(1+S_high[2][0:t_i]))\n",
    "\n",
    "    #ani = FuncAnimation(fig, update,fargs=(E), frames=np.arange(0,r_f,r_step), interval=100)\n",
    "    ani = FuncAnimation(fig, update, frames=np.arange(0,r_f,r_step), interval=100)\n",
    "    plt.close()   \n",
    "    HTML(ani.to_html5_video())\n",
    "    #return ani"
   ]
  },
  {
   "cell_type": "code",
   "execution_count": null,
   "id": "abe3e7ff",
   "metadata": {},
   "outputs": [],
   "source": [
    "#ani=Pol_Vec_Anim_Solar(S_high,B_high,r_per_R_sol,E_high)\n",
    "Pol_Vec_Anim_Solar(S_high,B_high,r_per_R_sol,E_high)"
   ]
  },
  {
   "cell_type": "code",
   "execution_count": null,
   "id": "07d43656",
   "metadata": {},
   "outputs": [],
   "source": [
    "HTML(ani.to_html5_video())"
   ]
  },
  {
   "cell_type": "code",
   "execution_count": null,
   "id": "0b9cf42e",
   "metadata": {},
   "outputs": [],
   "source": []
  }
 ],
 "metadata": {
  "kernelspec": {
   "display_name": "Python 3 (ipykernel)",
   "language": "python",
   "name": "python3"
  },
  "language_info": {
   "codemirror_mode": {
    "name": "ipython",
    "version": 3
   },
   "file_extension": ".py",
   "mimetype": "text/x-python",
   "name": "python",
   "nbconvert_exporter": "python",
   "pygments_lexer": "ipython3",
   "version": "3.9.7"
  }
 },
 "nbformat": 4,
 "nbformat_minor": 5
}
