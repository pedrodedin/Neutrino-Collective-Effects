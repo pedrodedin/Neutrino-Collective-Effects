{
 "cells": [
  {
   "cell_type": "markdown",
   "metadata": {
    "id": "g3EQILqiudxp"
   },
   "source": [
    "# Collective Effects - Bipolar Isotropic Gas with Spectrum"
   ]
  },
  {
   "cell_type": "code",
   "execution_count": 1,
   "metadata": {},
   "outputs": [],
   "source": [
    "#Importing Libraries\n",
    "from Initial_Conditions import *\n",
    "from ODE_Functions import *\n",
    "import matplotlib.pyplot as plt\n",
    "from scipy.integrate import odeint"
   ]
  },
  {
   "cell_type": "code",
   "execution_count": 2,
   "metadata": {},
   "outputs": [],
   "source": [
    "nu_types=['nu_e','nu_x']\n",
    "E_step=0.1\n",
    "E_i,E_f=1,50\n",
    "E_step=0.1\n",
    "E_vec=np.arange(E_i,E_f,E_step)\n",
    "\n",
    "#Initial spectrum\n",
    "E_0=[10,15,24,24] #Mean energy in MeV\n",
    "Amplitude=[1,1,1,1]"
   ]
  },
  {
   "cell_type": "code",
   "execution_count": 3,
   "metadata": {},
   "outputs": [],
   "source": [
    "y0,B,t_vec,mu_0,n_f,n_dim,n_E=initiate(nu_types,E_vec,E_0,Amplitude)"
   ]
  },
  {
   "cell_type": "code",
   "execution_count": 4,
   "metadata": {},
   "outputs": [],
   "source": [
    "params_NH=np.array(B),mu_0,n_f,n_dim,n_E\n",
    "params_IH=-1*np.array(B),mu_0,n_f,n_dim,n_E"
   ]
  },
  {
   "cell_type": "code",
   "execution_count": 5,
   "metadata": {},
   "outputs": [],
   "source": [
    "psoln_nu_x_NH= odeint(func_Collective_nu, y0, t_vec, args=(params_NH,))"
   ]
  },
  {
   "cell_type": "code",
   "execution_count": 6,
   "metadata": {},
   "outputs": [],
   "source": [
    "psoln_nu_x_IH= odeint(func_Collective_nu, y0, t_vec, args=(params_IH,))"
   ]
  },
  {
   "cell_type": "code",
   "execution_count": 8,
   "metadata": {},
   "outputs": [
    {
     "ename": "NameError",
     "evalue": "name 'nu_NH' is not defined",
     "output_type": "error",
     "traceback": [
      "\u001b[0;31m---------------------------------------------------------------------------\u001b[0m",
      "\u001b[0;31mNameError\u001b[0m                                 Traceback (most recent call last)",
      "\u001b[0;32m/tmp/ipykernel_15312/1402908244.py\u001b[0m in \u001b[0;36m<module>\u001b[0;34m\u001b[0m\n\u001b[1;32m      1\u001b[0m \u001b[0;31m#NH\u001b[0m\u001b[0;34m\u001b[0m\u001b[0;34m\u001b[0m\u001b[0m\n\u001b[1;32m      2\u001b[0m \u001b[0mnu_NH\u001b[0m\u001b[0;34m,\u001b[0m \u001b[0mnubar_NH\u001b[0m\u001b[0;34m=\u001b[0m \u001b[0mread_output\u001b[0m\u001b[0;34m(\u001b[0m\u001b[0mpsoln_nu_x_NH\u001b[0m\u001b[0;34m,\u001b[0m\u001b[0mparams_NH\u001b[0m\u001b[0;34m)\u001b[0m\u001b[0;34m\u001b[0m\u001b[0;34m\u001b[0m\u001b[0m\n\u001b[0;32m----> 3\u001b[0;31m \u001b[0mnu_e_time_NH\u001b[0m\u001b[0;34m,\u001b[0m\u001b[0mnubar_e_time_NH\u001b[0m\u001b[0;34m,\u001b[0m \u001b[0mnu_x_time_NH\u001b[0m\u001b[0;34m,\u001b[0m\u001b[0mnubar_x_time_NH\u001b[0m\u001b[0;34m=\u001b[0m\u001b[0mread_two_flavor\u001b[0m\u001b[0;34m(\u001b[0m\u001b[0mnu_NH\u001b[0m\u001b[0;34m,\u001b[0m \u001b[0mnubar_NH\u001b[0m\u001b[0;34m)\u001b[0m\u001b[0;34m\u001b[0m\u001b[0;34m\u001b[0m\u001b[0m\n\u001b[0m\u001b[1;32m      4\u001b[0m \u001b[0;31m#IH\u001b[0m\u001b[0;34m\u001b[0m\u001b[0;34m\u001b[0m\u001b[0m\n\u001b[1;32m      5\u001b[0m \u001b[0mnu_IH\u001b[0m\u001b[0;34m,\u001b[0m \u001b[0mnubar_IH\u001b[0m\u001b[0;34m=\u001b[0m \u001b[0mread_output\u001b[0m\u001b[0;34m(\u001b[0m\u001b[0mpsoln_nu_x_IH\u001b[0m\u001b[0;34m,\u001b[0m\u001b[0mparams_IH\u001b[0m\u001b[0;34m)\u001b[0m\u001b[0;34m\u001b[0m\u001b[0;34m\u001b[0m\u001b[0m\n",
      "\u001b[0;32m~/Downloads/SN/Neutrino-Collective-Effects/Auxiliar_Functions.py\u001b[0m in \u001b[0;36mread_two_flavor\u001b[0;34m(nu, nubar)\u001b[0m\n\u001b[1;32m     82\u001b[0m   \u001b[0mnu_x_time\u001b[0m\u001b[0;34m,\u001b[0m\u001b[0mnubar_x_time\u001b[0m\u001b[0;34m=\u001b[0m\u001b[0;34m[\u001b[0m\u001b[0;34m]\u001b[0m\u001b[0;34m,\u001b[0m\u001b[0;34m[\u001b[0m\u001b[0;34m]\u001b[0m\u001b[0;34m\u001b[0m\u001b[0;34m\u001b[0m\u001b[0m\n\u001b[1;32m     83\u001b[0m \u001b[0;34m\u001b[0m\u001b[0m\n\u001b[0;32m---> 84\u001b[0;31m   \u001b[0;32mfor\u001b[0m \u001b[0ml\u001b[0m \u001b[0;32min\u001b[0m \u001b[0mrange\u001b[0m\u001b[0;34m(\u001b[0m\u001b[0mlen\u001b[0m\u001b[0;34m(\u001b[0m\u001b[0mnu_NH\u001b[0m\u001b[0;34m[\u001b[0m\u001b[0;36m0\u001b[0m\u001b[0;34m]\u001b[0m\u001b[0;34m[\u001b[0m\u001b[0;36m0\u001b[0m\u001b[0;34m]\u001b[0m\u001b[0;34m)\u001b[0m\u001b[0;34m)\u001b[0m\u001b[0;34m:\u001b[0m \u001b[0;31m#time array length\u001b[0m\u001b[0;34m\u001b[0m\u001b[0;34m\u001b[0m\u001b[0m\n\u001b[0m\u001b[1;32m     85\u001b[0m       \u001b[0mnu_e_time\u001b[0m\u001b[0;34m.\u001b[0m\u001b[0mappend\u001b[0m\u001b[0;34m(\u001b[0m\u001b[0;34m[\u001b[0m\u001b[0;34m]\u001b[0m\u001b[0;34m)\u001b[0m\u001b[0;34m\u001b[0m\u001b[0;34m\u001b[0m\u001b[0m\n\u001b[1;32m     86\u001b[0m       \u001b[0mnubar_e_time\u001b[0m\u001b[0;34m.\u001b[0m\u001b[0mappend\u001b[0m\u001b[0;34m(\u001b[0m\u001b[0;34m[\u001b[0m\u001b[0;34m]\u001b[0m\u001b[0;34m)\u001b[0m\u001b[0;34m\u001b[0m\u001b[0;34m\u001b[0m\u001b[0m\n",
      "\u001b[0;31mNameError\u001b[0m: name 'nu_NH' is not defined"
     ]
    }
   ],
   "source": [
    "#NH\n",
    "nu_NH, nubar_NH= read_output(psoln_nu_x_NH,params_NH)\n",
    "nu_e_time_NH,nubar_e_time_NH, nu_x_time_NH,nubar_x_time_NH=read_two_flavor(nu_NH, nubar_NH)\n",
    "#IH\n",
    "nu_IH, nubar_IH= read_output(psoln_nu_x_IH,params_IH)\n",
    "nu_e_time_IH,nubar_e_time_IH, nu_x_time_IH,nubar_x_time_IH=read_two_flavor(nu_IH, nubar_IH)"
   ]
  },
  {
   "cell_type": "code",
   "execution_count": null,
   "metadata": {},
   "outputs": [],
   "source": [
    "plt.figure()\n",
    "plt.plot(E_vec,nubar_e_time_NH[0])\n",
    "plt.plot(E_vec,nubar_e_time_NH[500])\n",
    "\n",
    "plt.figure()\n",
    "plt.plot(E_vec,nubar_x_time_IH[0])\n",
    "plt.plot(E_vec,nubar_x_time_IH[500])"
   ]
  }
 ],
 "metadata": {
  "colab": {
   "collapsed_sections": [],
   "name": "3.Collective Effects - Bipolar Isotropic Gas with Spectrum",
   "provenance": [],
   "toc_visible": true
  },
  "kernelspec": {
   "display_name": "Python 3 (ipykernel)",
   "language": "python",
   "name": "python3"
  },
  "language_info": {
   "codemirror_mode": {
    "name": "ipython",
    "version": 3
   },
   "file_extension": ".py",
   "mimetype": "text/x-python",
   "name": "python",
   "nbconvert_exporter": "python",
   "pygments_lexer": "ipython3",
   "version": "3.9.7"
  }
 },
 "nbformat": 4,
 "nbformat_minor": 4
}
