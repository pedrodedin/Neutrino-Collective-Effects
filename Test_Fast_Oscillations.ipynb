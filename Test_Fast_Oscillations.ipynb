{
 "cells": [
  {
   "cell_type": "code",
   "execution_count": 1,
   "id": "3c1848a3",
   "metadata": {},
   "outputs": [],
   "source": [
    "#Importing Libraries\n",
    "from Plots import *\n",
    "from Auxiliar_Functions import *\n",
    "from scipy.integrate import odeint\n",
    "import matplotlib.pyplot as plt\n",
    "import time    \n",
    "from IPython.display import HTML"
   ]
  },
  {
   "cell_type": "code",
   "execution_count": 2,
   "id": "99b9ed90",
   "metadata": {},
   "outputs": [],
   "source": [
    "def theta_dist(theta,nu_type,case):\n",
    "    if case==1:\n",
    "        if nu_type==\"nu_e\":\n",
    "            return np.where(theta<-100,0,0.5)\n",
    "        if nu_type==\"nubar_e\":\n",
    "            return np.where(theta<math.pi/3,1,0.25)\n",
    "    elif case==2:\n",
    "        if nu_type==\"nu_e\":\n",
    "            return np.where(theta<-100,0,0.5)\n",
    "        if nu_type==\"nubar_e\":\n",
    "            return np.where(theta<math.pi/4,1,0.5)\n",
    "    elif case==3:\n",
    "        if nu_type==\"nu_e\":\n",
    "            return np.where(theta<-100,0,0.5)\n",
    "        if nu_type==\"nubar_e\":\n",
    "            return np.where(theta<math.pi/3,0.5*1.5,0.5)\n",
    "    else:\n",
    "        print(\"Not a valid angular distribution!\")"
   ]
  },
  {
   "cell_type": "code",
   "execution_count": 3,
   "id": "a4088c07",
   "metadata": {},
   "outputs": [
    {
     "data": {
      "image/png": "[encoded data removed]",
      "text/plain": [
       "<Figure size 432x288 with 1 Axes>"
      ]
     },
     "metadata": {
      "needs_background": "light"
     },
     "output_type": "display_data"
    }
   ],
   "source": [
    "theta_vec=np.arange(0,math.pi,0.01)\n",
    "plt.plot(theta_vec,theta_dist(theta_vec,\"nu_e\",1),label=r\"$\\rho_{ee}(0)$\")\n",
    "plt.plot(theta_vec,theta_dist(theta_vec,\"nubar_e\",1),ls=\"--\",label=r\"$\\rho_{\\overline{ee}}(0)$ - Case 1\")\n",
    "plt.plot(theta_vec,theta_dist(theta_vec,\"nubar_e\",2),ls=\"--\",label=r\"$\\rho_{\\overline{ee}}(0)$ - Case 2\")\n",
    "plt.plot(theta_vec,theta_dist(theta_vec,\"nubar_e\",3),ls=\"--\",label=r\"$\\rho_{\\overline{ee}}(0)$ - Case 3\")\n",
    "plt.xlabel(r\"$\\theta$\")\n",
    "plt.ylabel(r\"$\\rho_{ee}$/$\\rho_{\\overline{ee}}$\")\n",
    "plt.legend()\n",
    "plt.show()"
   ]
  },
  {
   "cell_type": "code",
   "execution_count": 68,
   "id": "d1cfc4e3",
   "metadata": {},
   "outputs": [],
   "source": [
    "def initiate(nu_types,t_i,t_f,E_nu,mu_0,theta_step,case):\n",
    "    y0=[] #Initial state\n",
    "    flavor_sign=1\n",
    "    omega=delta_m2_31/(2*E_nu*10**6) #eV \n",
    "\n",
    "    theta_vec=np.arange(0,np.pi,theta_step)\n",
    "    n_theta=len(theta_vec)\n",
    "    n_f=len(nu_types)\n",
    "    n_dim=(n_f**2)-1\n",
    "\n",
    "    for i in range(n_theta):        \n",
    "      for j in range(n_f):\n",
    "        if nu_types[j]==\"nu_x\":\n",
    "          flavor_sign=-1\n",
    "        if nu_types[j]==\"nu_e\":\n",
    "          flavor_sign=1\n",
    "        #nu\n",
    "        nu_spec=theta_dist(theta_vec[i],\"nu_e\",case)*theta_step\n",
    "        y0.append(0)\n",
    "        y0.append(0)\n",
    "        y0.append(flavor_sign*nu_spec)\n",
    "        #nubar\n",
    "        nu_spec=theta_dist(theta_vec[i],\"nubar_e\",case)*theta_step\n",
    "        y0.append(0)\n",
    "        y0.append(0)\n",
    "        y0.append(flavor_sign*nu_spec)\n",
    "\n",
    "    #r array\n",
    "    t_i = (t_i*3*10**5)*from_eV_to_1_over_km #eV⁻¹\n",
    "    t_f = (t_f*3*10**5)*from_eV_to_1_over_km #eV⁻¹\n",
    "    t_step = t_f/1000 #eV⁻¹\n",
    "    t = np.arange(t_i,t_f,t_step) #eV⁻¹\n",
    "\n",
    "    return y0,omega,E_nu,t,mu_0,n_f,n_dim,n_theta,theta_vec"
   ]
  },
  {
   "cell_type": "code",
   "execution_count": 69,
   "id": "92f0e9b6",
   "metadata": {},
   "outputs": [],
   "source": [
    "t_i,t_f=0,5*10**(-6)\n",
    "case=1\n",
    "E_nu=10 #MeV\n",
    "theta_step=0.01\n",
    "\n",
    "mu_0=10**3 #km⁻¹\n",
    "mu_0=mu_0/from_eV_to_1_over_km\n",
    "nu_types=['nu_e','nu_x']\n",
    "\n",
    "y0,omega,E,t,mu_0,n_f,n_dim,n_theta,theta_vec=initiate(nu_types,t_i,t_f,E_nu,mu_0,theta_step,case)"
   ]
  },
  {
   "cell_type": "code",
   "execution_count": 45,
   "id": "bd72b9c5",
   "metadata": {},
   "outputs": [],
   "source": [
    "def func_Collective_nu(y, time, params):\n",
    "    omega,E,t,mu_0,n_f,n_dim,n_theta,theta_vec= params  # unpack parameters\n",
    "    B=np.array(B_vec(n_dim,theta_31))\n",
    "    L=np.array(L_vec(n_dim))\n",
    "    \n",
    "#     r=time/from_eV_to_1_over_km #From eV⁻¹ to km\n",
    "#     mu=mu_supernova(r,mu_opt,mu_0)\n",
    "    mu=mu_0\n",
    "    lamb=lambda_supernova(t,\"no\",0)\n",
    "    \n",
    "    derivs=[]\n",
    "    nu, nubar = [],[]\n",
    "    num_diff_nu_compnents=2*n_f*n_dim\n",
    "\n",
    "    #Filling [Theta bin][Nu_types][3components]\n",
    "    for i in range(n_theta):\n",
    "      nu.append([])\n",
    "      nubar.append([])\n",
    "      for j in range(n_f):\n",
    "        nu[i].append([])\n",
    "        nubar[i].append([])\n",
    "        for k in range(n_dim):\n",
    "          #nu \n",
    "          nu_index=(i*num_diff_nu_compnents)+k+2*j*n_dim\n",
    "          nu[i][j].append(y[nu_index])\n",
    "          #nubar   \n",
    "          nubar_index=(i*num_diff_nu_compnents)+(k+n_dim)+2*j*n_dim\n",
    "          nubar[i][j].append(y[nubar_index])\n",
    "    \n",
    "    #Summed nu and nubar components\n",
    "    nu_sum, nubar_sum=[],[]\n",
    "    nu_aux=np.transpose(nu,(2,0,1))\n",
    "    nubar_aux=np.transpose(nubar,(2,0,1))\n",
    "\n",
    "    for i in range(n_dim):\n",
    "      nu_sum.append(sum(map(sum,nu_aux[i])))\n",
    "      nubar_sum.append(sum(map(sum,nubar_aux[i])))\n",
    "    \n",
    "    B=np.array(B)\n",
    "    nu_sum=np.array(nu_sum)\n",
    "    nubar_sum=np.array(nubar_sum)\n",
    "    # list of dy/dt=f functions\n",
    "    for i in range(n_theta):\n",
    "      for j in range(n_f):\n",
    "        #nu\n",
    "        \n",
    "        aux=B*omega+L*lamb-mu*(nu_sum-nubar_sum)\n",
    "        P_aux= cross_prod(nu[i][j],aux)\n",
    "        #P_aux= cross_prod(nu[i][j],(B*omega[i]+L*lamb-mu*(nu_sum-nubar_sum)))\n",
    "        for k in range(n_dim):\n",
    "          derivs.append(P_aux[k])\n",
    "        \n",
    "        #nubar\n",
    "        P_aux= cross_prod(nubar[i][j],(-1*B*omega+L*lamb-mu*(nu_sum-(nubar_sum-nubar[i][j]))))\n",
    "        #P_aux= cross_prod(nubar[i][j],(-1*B*omega[i]+L*lamb-mu*(nu_sum-nubar_sum)))\n",
    "        for k in range(n_dim):\n",
    "          derivs.append(P_aux[k])\n",
    "\n",
    "    return derivs"
   ]
  },
  {
   "cell_type": "code",
   "execution_count": 46,
   "id": "5ba9d9c4",
   "metadata": {},
   "outputs": [],
   "source": [
    "mass_ord=\"NH\"\n",
    "y0,omega,E,t,mu_0,n_f,n_dim,n_theta=initiate(nu_types,t_i,t_f,E_nu,mu_0,theta_step,case)\n",
    "\n",
    "if mass_ord==\"NH\": \n",
    "    params=omega,E,t,mu_0,n_f,n_dim,n_theta\n",
    "elif mass_ord==\"IH\":\n",
    "    params=-1*omega,E,t,mu_0,n_f,n_dim,n_theta\n",
    "else:\n",
    "    print(\"Not a mass ordering option!\")\n",
    "psoln= odeint(func_Collective_nu, y0, t, args=(params,))"
   ]
  },
  {
   "cell_type": "code",
   "execution_count": 47,
   "id": "a1156b9e",
   "metadata": {},
   "outputs": [],
   "source": [
    "nu, nubar= read_output(psoln,(n_f,n_dim,n_theta))"
   ]
  },
  {
   "cell_type": "code",
   "execution_count": 48,
   "id": "941cb32d",
   "metadata": {},
   "outputs": [],
   "source": [
    "nu_e_time,nubar_e_time,nu_x_time,nubar_x_time=read_two_flavor_v1(nu, nubar)"
   ]
  },
  {
   "cell_type": "code",
   "execution_count": 56,
   "id": "8b416f1a",
   "metadata": {},
   "outputs": [
    {
     "data": {
      "image/png": "[encoded data removed]",
      "text/plain": [
       "<Figure size 432x288 with 1 Axes>"
      ]
     },
     "metadata": {
      "needs_background": "light"
     },
     "output_type": "display_data"
    }
   ],
   "source": [
    "theta_vec=np.arange(0,np.pi,theta_step)\n",
    "plt.plot(theta_vec,np.array(nu_e_time[0])/theta_step,label=r\"$\\rho_{ee}(0)$\")\n",
    "plt.plot(theta_vec,np.array(nubar_e_time[0])/theta_step,label=r\"$\\rho_{ee}(0)$\")\n",
    "plt.plot(theta_vec,np.array(nu_e_time[-1])/theta_step,ls='--',label=r\"$\\rho_{ee}(t)$\")\n",
    "plt.plot(theta_vec,np.array(nubar_e_time[-1])/theta_step,ls='--',label=r\"$\\rho_{ee}(t)$\")\n",
    "plt.xlabel(r\"$\\theta$\")\n",
    "plt.ylabel(r\"$\\rho_{ee}$/$\\rho_{\\overline{ee}}$\")\n",
    "plt.legend()\n",
    "plt.show()"
   ]
  },
  {
   "cell_type": "code",
   "execution_count": 60,
   "id": "5ed1f95d",
   "metadata": {},
   "outputs": [
    {
     "data": {
      "image/png": "[encoded data removed]",
      "text/plain": [
       "<Figure size 432x288 with 1 Axes>"
      ]
     },
     "metadata": {
      "needs_background": "light"
     },
     "output_type": "display_data"
    }
   ],
   "source": [
    "nu_e_theta=np.transpose(nu_e_time,(1,0))\n",
    "plt.plot(t/from_eV_to_1_over_km/(3*10**5),np.array(nu_e_theta[0])/theta_step,label=theta_vec[0])\n",
    "plt.plot(t/from_eV_to_1_over_km/(3*10**5),np.array(nu_e_theta[100])/theta_step,label=theta_vec[100])\n",
    "plt.xlabel(r\"t [s]\")\n",
    "plt.legend()\n",
    "plt.show()"
   ]
  },
  {
   "cell_type": "code",
   "execution_count": 67,
   "id": "a0a2ef9b",
   "metadata": {},
   "outputs": [
    {
     "name": "stdout",
     "output_type": "stream",
     "text": [
      "1.25e-10\n",
      "3.306069617037404e-05\n",
      "1.973164956590371e-07\n"
     ]
    }
   ],
   "source": [
    "print(omega)\n",
    "print(2*math.pi/(omega*from_eV_to_1_over_km*3*10**(5)))\n",
    "print(mu_0)"
   ]
  },
  {
   "cell_type": "code",
   "execution_count": null,
   "id": "4f1fec76",
   "metadata": {},
   "outputs": [],
   "source": []
  }
 ],
 "metadata": {
  "kernelspec": {
   "display_name": "Python 3 (ipykernel)",
   "language": "python",
   "name": "python3"
  },
  "language_info": {
   "codemirror_mode": {
    "name": "ipython",
    "version": 3
   },
   "file_extension": ".py",
   "mimetype": "text/x-python",
   "name": "python",
   "nbconvert_exporter": "python",
   "pygments_lexer": "ipython3",
   "version": "3.9.7"
  }
 },
 "nbformat": 4,
 "nbformat_minor": 5
}
