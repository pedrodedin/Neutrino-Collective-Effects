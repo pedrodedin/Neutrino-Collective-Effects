{
 "cells": [
  {
   "cell_type": "code",
   "execution_count": 1,
   "id": "3c1848a3",
   "metadata": {},
   "outputs": [],
   "source": [
    "#Importing Libraries\n",
    "from Plots import *\n",
    "from Auxiliar_Functions import *\n",
    "from scipy.integrate import odeint\n",
    "import matplotlib.pyplot as plt\n",
    "import time    \n",
    "from IPython.display import HTML"
   ]
  },
  {
   "cell_type": "code",
   "execution_count": 2,
   "id": "99b9ed90",
   "metadata": {},
   "outputs": [],
   "source": [
    "def theta_dist(theta,nu_type,case):\n",
    "    if case==1:\n",
    "        if nu_type==\"nu_e\":\n",
    "            return np.where(theta<-100,0,0.5)\n",
    "        if nu_type==\"nubar_e\":\n",
    "            return np.where(theta<math.pi/3,1,0.25)\n",
    "    elif case==2:\n",
    "        if nu_type==\"nu_e\":\n",
    "            return np.where(theta<-100,0,0.5)\n",
    "        if nu_type==\"nubar_e\":\n",
    "            return np.where(theta<math.pi/4,1,0.5)\n",
    "    elif case==3:\n",
    "        if nu_type==\"nu_e\":\n",
    "            return np.where(theta<-100,0,0.5)\n",
    "        if nu_type==\"nubar_e\":\n",
    "            return np.where(theta<math.pi/3,0.5*1.5,0.5)\n",
    "    else:\n",
    "        print(\"Not a valid angular distribution!\")"
   ]
  },
  {
   "cell_type": "code",
   "execution_count": 3,
   "id": "a4088c07",
   "metadata": {},
   "outputs": [
    {
     "data": {
      "image/png": "[encoded data removed]",
      "text/plain": [
       "<Figure size 432x288 with 1 Axes>"
      ]
     },
     "metadata": {
      "needs_background": "light"
     },
     "output_type": "display_data"
    }
   ],
   "source": [
    "theta_vec=np.arange(0,math.pi,0.01)\n",
    "plt.plot(theta_vec,theta_dist(theta_vec,\"nu_e\",1),label=r\"$\\rho_{ee}(0)$\")\n",
    "plt.plot(theta_vec,theta_dist(theta_vec,\"nubar_e\",1),ls=\"--\",label=r\"$\\rho_{\\overline{ee}}(0)$ - Case 1\")\n",
    "plt.plot(theta_vec,theta_dist(theta_vec,\"nubar_e\",2),ls=\"--\",label=r\"$\\rho_{\\overline{ee}}(0)$ - Case 2\")\n",
    "plt.plot(theta_vec,theta_dist(theta_vec,\"nubar_e\",3),ls=\"--\",label=r\"$\\rho_{\\overline{ee}}(0)$ - Case 3\")\n",
    "plt.xlabel(r\"$\\theta$\")\n",
    "plt.ylabel(r\"$\\rho_{ee}$/$\\rho_{\\overline{ee}}$\")\n",
    "plt.legend()\n",
    "plt.show()"
   ]
  },
  {
   "cell_type": "code",
   "execution_count": 4,
   "id": "d1cfc4e3",
   "metadata": {},
   "outputs": [],
   "source": [
    "def initiate(nu_types,t_i,t_f,E_nu,mu_0,theta_bins,case):\n",
    "    y0=[] #Initial state\n",
    "    flavor_sign=1\n",
    "    omega=delta_m2_31/(2*E_nu*10**6) #eV \n",
    "\n",
    "#     theta_vec=np.arange(0,np.pi,theta_step)\n",
    "    theta_vec=np.linspace(0,np.pi,theta_bins)\n",
    "    theta_step=theta_vec[1]-theta_vec[0]\n",
    "    n_theta=len(theta_vec)\n",
    "    n_f=len(nu_types)\n",
    "    n_dim=(n_f**2)-1\n",
    "\n",
    "    for i in range(n_theta):        \n",
    "      for j in range(n_f):\n",
    "        if nu_types[j]==\"nu_x\":\n",
    "#           flavor_sign=-1\n",
    "          flavor_sign=0\n",
    "\n",
    "        if nu_types[j]==\"nu_e\":\n",
    "          flavor_sign=1\n",
    "        #nu\n",
    "        nu_spec=theta_dist(theta_vec[i],\"nu_e\",case)*theta_step\n",
    "        y0.append(0)\n",
    "        y0.append(0)\n",
    "        y0.append(flavor_sign*nu_spec)\n",
    "        #nubar\n",
    "        nu_spec=theta_dist(theta_vec[i],\"nubar_e\",case)*theta_step\n",
    "        y0.append(0)\n",
    "        y0.append(0)\n",
    "        y0.append(flavor_sign*nu_spec)\n",
    "\n",
    "    #r array\n",
    "    t_i = (t_i*3*10**5)*from_eV_to_1_over_km #eV⁻¹\n",
    "    t_f = (t_f*3*10**5)*from_eV_to_1_over_km #eV⁻¹\n",
    "    t_step = t_f/5000 #eV⁻¹\n",
    "    t = np.arange(t_i,t_f,t_step) #eV⁻¹\n",
    "\n",
    "    return y0,omega,E_nu,t,mu_0,n_f,n_dim,n_theta,theta_vec"
   ]
  },
  {
   "cell_type": "code",
   "execution_count": 6,
   "id": "92f0e9b6",
   "metadata": {},
   "outputs": [],
   "source": [
    "t_i,t_f=0,5*10**(-6)\n",
    "case=1\n",
    "E_nu=20 #MeV\n",
    "# theta_step=0.01\n",
    "theta_bins=200\n",
    "\n",
    "mu_0=10**3 #km⁻¹\n",
    "mu_0=mu_0/from_eV_to_1_over_km\n",
    "nu_types=['nu_e','nu_x']\n",
    "\n",
    "y0,omega,E,t,mu_0,n_f,n_dim,n_theta,theta_vec=initiate(nu_types,t_i,t_f,E_nu,mu_0,theta_bins,case)"
   ]
  },
  {
   "cell_type": "code",
   "execution_count": 7,
   "id": "e013c146",
   "metadata": {},
   "outputs": [
    {
     "name": "stdout",
     "output_type": "stream",
     "text": [
      "mu=2.0e-07 eV = 3.0e+08 s⁻¹\n",
      "w=9.5e+04 s⁻¹= 3.2e-01 km⁻¹\n",
      "T_vac=6.6e-05 s\n",
      "t_step=5.0e-09 s\n",
      "f_sampling = 1.0e+09 s⁻¹\n",
      "t_f=1.5e+00 km\n"
     ]
    }
   ],
   "source": [
    "print(\"mu=%.1e eV = %.1e s⁻¹\"%(mu_0,mu_0*from_eV_to_1_over_m*3*10**8))\n",
    "print(\"w=%.1e s⁻¹= %.1e km⁻¹\"%(delta_m2_31/(2*E_nu*10**6)*from_eV_to_1_over_m*3*10**8,delta_m2_31/(2*E_nu*10**6)*from_eV_to_1_over_km))\n",
    "print(\"T_vac=%.1e s\"%(2*np.pi/(delta_m2_31/(2*E_nu*10**6)*from_eV_to_1_over_m*3*10**8)))\n",
    "print(\"t_step=%.1e s\"%(t_f/1000))\n",
    "print(\"f_sampling = %.1e s⁻¹\"%(1/(t_f/5000)))\n",
    "print(\"t_f=%.1e km\"%(t_f*3*10**5))"
   ]
  },
  {
   "cell_type": "code",
   "execution_count": 8,
   "id": "e6a229e1",
   "metadata": {},
   "outputs": [],
   "source": [
    "def func_Collective_nu_2(y, time, params):\n",
    "    omega,E,t,mu_0,n_f,n_dim,n_theta,theta_vec= params  # unpack parameters\n",
    "    B=np.array(B_vec(n_dim,delta_m2_31))\n",
    "    L=np.array(L_vec(n_dim))\n",
    "    \n",
    "#     r=time/from_eV_to_1_over_km #From eV⁻¹ to km\n",
    "#     mu=mu_supernova(r,mu_opt,mu_0)\n",
    "    mu=mu_0\n",
    "    lamb=lambda_supernova(t,\"no\",0)\n",
    "    #print(time/(3*10**5*from_eV_to_1_over_km))\n",
    "\n",
    "    derivs=[]\n",
    "    nu, nubar = [],[]\n",
    "    num_diff_nu_compnents=2*n_f*n_dim\n",
    "\n",
    "    #Filling [Theta bin][Nu_types][3components]\n",
    "    for i in range(n_theta):\n",
    "      nu.append([])\n",
    "      nubar.append([])\n",
    "      for j in range(n_f):\n",
    "        nu[i].append([])\n",
    "        nubar[i].append([])\n",
    "        for k in range(n_dim):\n",
    "          #nu \n",
    "          nu_index=(i*num_diff_nu_compnents)+k+2*j*n_dim\n",
    "          nu[i][j].append(y[nu_index])\n",
    "          #nubar   \n",
    "          nubar_index=(i*num_diff_nu_compnents)+(k+n_dim)+2*j*n_dim\n",
    "          nubar[i][j].append(y[nubar_index])\n",
    "    \n",
    "    #Summed nu and nubar components\n",
    "    nu_sum, nubar_sum=[],[]\n",
    "    nu_sum_theta, nubar_sum_theta=[],[]\n",
    "    nu_aux=np.transpose(nu,(2,0,1))\n",
    "    nubar_aux=np.transpose(nubar,(2,0,1))\n",
    "\n",
    "    for i in range(n_dim):\n",
    "      nu_sum.append(sum(map(sum,nu_aux[i])))\n",
    "      nubar_sum.append(sum(map(sum,nubar_aux[i])))\n",
    "      nu_sum_theta.append(sum(theta_vec*list(map(sum,nu_aux[i]))))\n",
    "      nubar_sum_theta.append(sum(theta_vec*list(map(sum,nubar_aux[i]))))\n",
    "    \n",
    "    B=np.array(B)\n",
    "    nu_sum=np.array(nu_sum)\n",
    "    nubar_sum=np.array(nubar_sum)\n",
    "    nu_sum_theta=np.array(nu_sum_theta)\n",
    "    nubar_sum_theta=np.array(nubar_sum_theta)\n",
    "    \n",
    "    # list of dy/dt=f functions\n",
    "    for i in range(n_theta):\n",
    "      for j in range(n_f):\n",
    "        #nu\n",
    "        aux=B*omega+L*lamb-mu*((nu_sum-nubar_sum)-np.cos(theta_vec[i])*(nu_sum_theta-nubar_sum_theta))\n",
    "        P_aux= cross_prod(nu[i][j],aux)\n",
    "        #P_aux= cross_prod(nu[i][j],(B*omega[i]+L*lamb-mu*(nu_sum-nubar_sum)))\n",
    "        for k in range(n_dim):\n",
    "          derivs.append(P_aux[k])\n",
    "        \n",
    "        #nubar\n",
    "        aux=-1*B*omega+L*lamb-mu*((nu_sum-nubar_sum)-np.cos(theta_vec[i])*(nu_sum_theta-nubar_sum_theta))\n",
    "        P_aux= cross_prod(nubar[i][j],aux)\n",
    "        #P_aux= cross_prod(nubar[i][j],(-1*B*omega[i]+L*lamb-mu*(nu_sum-nubar_sum)))\n",
    "        for k in range(n_dim):\n",
    "          derivs.append(P_aux[k])\n",
    "\n",
    "    return derivs"
   ]
  },
  {
   "cell_type": "code",
   "execution_count": 10,
   "id": "8a16be8d",
   "metadata": {},
   "outputs": [
    {
     "name": "stdout",
     "output_type": "stream",
     "text": [
      "Took 14.737028543154398 minutes\n"
     ]
    }
   ],
   "source": [
    "mass_ord=\"NH\"\n",
    "y0,omega,E,t,mu_0,n_f,n_dim,n_theta,theta_vec=initiate(nu_types,t_i,t_f,E_nu,mu_0,theta_bins,case)\n",
    "\n",
    "if mass_ord==\"NH\": \n",
    "    params=omega,E,t,mu_0,n_f,n_dim,n_theta,np.array(theta_vec)\n",
    "elif mass_ord==\"IH\":\n",
    "    params=-1*omega,E,t,mu_0,n_f,n_dim,n_theta,np.array(theta_vec)\n",
    "else:\n",
    "    print(\"Not a mass ordering option!\")\n",
    "    \n",
    "start_time = time.time()\n",
    "psoln= odeint(func_Collective_nu_2, y0, t, args=(params,))\n",
    "print(\"Took %s minutes\" % ((time.time() - start_time)/60))"
   ]
  },
  {
   "cell_type": "code",
   "execution_count": 9,
   "id": "6d8c81e5",
   "metadata": {},
   "outputs": [
    {
     "ename": "KeyboardInterrupt",
     "evalue": "",
     "output_type": "error",
     "traceback": [
      "\u001b[0;31m---------------------------------------------------------------------------\u001b[0m",
      "\u001b[0;31mKeyboardInterrupt\u001b[0m                         Traceback (most recent call last)",
      "\u001b[0;32m/tmp/ipykernel_3054/555106981.py\u001b[0m in \u001b[0;36m<module>\u001b[0;34m\u001b[0m\n\u001b[1;32m     10\u001b[0m \u001b[0;34m\u001b[0m\u001b[0m\n\u001b[1;32m     11\u001b[0m \u001b[0mstart_time\u001b[0m \u001b[0;34m=\u001b[0m \u001b[0mtime\u001b[0m\u001b[0;34m.\u001b[0m\u001b[0mtime\u001b[0m\u001b[0;34m(\u001b[0m\u001b[0;34m)\u001b[0m\u001b[0;34m\u001b[0m\u001b[0;34m\u001b[0m\u001b[0m\n\u001b[0;32m---> 12\u001b[0;31m \u001b[0mpsoln_IH\u001b[0m\u001b[0;34m=\u001b[0m \u001b[0modeint\u001b[0m\u001b[0;34m(\u001b[0m\u001b[0mfunc_Collective_nu_2\u001b[0m\u001b[0;34m,\u001b[0m \u001b[0my0\u001b[0m\u001b[0;34m,\u001b[0m \u001b[0mt\u001b[0m\u001b[0;34m,\u001b[0m \u001b[0margs\u001b[0m\u001b[0;34m=\u001b[0m\u001b[0;34m(\u001b[0m\u001b[0mparams\u001b[0m\u001b[0;34m,\u001b[0m\u001b[0;34m)\u001b[0m\u001b[0;34m)\u001b[0m\u001b[0;34m\u001b[0m\u001b[0;34m\u001b[0m\u001b[0m\n\u001b[0m\u001b[1;32m     13\u001b[0m \u001b[0mprint\u001b[0m\u001b[0;34m(\u001b[0m\u001b[0;34m\"Took %s minutes\"\u001b[0m \u001b[0;34m%\u001b[0m \u001b[0;34m(\u001b[0m\u001b[0;34m(\u001b[0m\u001b[0mtime\u001b[0m\u001b[0;34m.\u001b[0m\u001b[0mtime\u001b[0m\u001b[0;34m(\u001b[0m\u001b[0;34m)\u001b[0m \u001b[0;34m-\u001b[0m \u001b[0mstart_time\u001b[0m\u001b[0;34m)\u001b[0m\u001b[0;34m/\u001b[0m\u001b[0;36m60\u001b[0m\u001b[0;34m)\u001b[0m\u001b[0;34m)\u001b[0m\u001b[0;34m\u001b[0m\u001b[0;34m\u001b[0m\u001b[0m\n",
      "\u001b[0;32m~/anaconda3/lib/python3.9/site-packages/scipy/integrate/odepack.py\u001b[0m in \u001b[0;36modeint\u001b[0;34m(func, y0, t, args, Dfun, col_deriv, full_output, ml, mu, rtol, atol, tcrit, h0, hmax, hmin, ixpr, mxstep, mxhnil, mxordn, mxords, printmessg, tfirst)\u001b[0m\n\u001b[1;32m    239\u001b[0m     \u001b[0mt\u001b[0m \u001b[0;34m=\u001b[0m \u001b[0mcopy\u001b[0m\u001b[0;34m(\u001b[0m\u001b[0mt\u001b[0m\u001b[0;34m)\u001b[0m\u001b[0;34m\u001b[0m\u001b[0;34m\u001b[0m\u001b[0m\n\u001b[1;32m    240\u001b[0m     \u001b[0my0\u001b[0m \u001b[0;34m=\u001b[0m \u001b[0mcopy\u001b[0m\u001b[0;34m(\u001b[0m\u001b[0my0\u001b[0m\u001b[0;34m)\u001b[0m\u001b[0;34m\u001b[0m\u001b[0;34m\u001b[0m\u001b[0m\n\u001b[0;32m--> 241\u001b[0;31m     output = _odepack.odeint(func, y0, t, args, Dfun, col_deriv, ml, mu,\n\u001b[0m\u001b[1;32m    242\u001b[0m                              \u001b[0mfull_output\u001b[0m\u001b[0;34m,\u001b[0m \u001b[0mrtol\u001b[0m\u001b[0;34m,\u001b[0m \u001b[0matol\u001b[0m\u001b[0;34m,\u001b[0m \u001b[0mtcrit\u001b[0m\u001b[0;34m,\u001b[0m \u001b[0mh0\u001b[0m\u001b[0;34m,\u001b[0m \u001b[0mhmax\u001b[0m\u001b[0;34m,\u001b[0m \u001b[0mhmin\u001b[0m\u001b[0;34m,\u001b[0m\u001b[0;34m\u001b[0m\u001b[0;34m\u001b[0m\u001b[0m\n\u001b[1;32m    243\u001b[0m                              \u001b[0mixpr\u001b[0m\u001b[0;34m,\u001b[0m \u001b[0mmxstep\u001b[0m\u001b[0;34m,\u001b[0m \u001b[0mmxhnil\u001b[0m\u001b[0;34m,\u001b[0m \u001b[0mmxordn\u001b[0m\u001b[0;34m,\u001b[0m \u001b[0mmxords\u001b[0m\u001b[0;34m,\u001b[0m\u001b[0;34m\u001b[0m\u001b[0;34m\u001b[0m\u001b[0m\n",
      "\u001b[0;32m/tmp/ipykernel_3054/3199866288.py\u001b[0m in \u001b[0;36mfunc_Collective_nu_2\u001b[0;34m(y, time, params)\u001b[0m\n\u001b[1;32m     52\u001b[0m         \u001b[0;31m#nu\u001b[0m\u001b[0;34m\u001b[0m\u001b[0;34m\u001b[0m\u001b[0m\n\u001b[1;32m     53\u001b[0m         \u001b[0maux\u001b[0m\u001b[0;34m=\u001b[0m\u001b[0mB\u001b[0m\u001b[0;34m*\u001b[0m\u001b[0momega\u001b[0m\u001b[0;34m+\u001b[0m\u001b[0mL\u001b[0m\u001b[0;34m*\u001b[0m\u001b[0mlamb\u001b[0m\u001b[0;34m-\u001b[0m\u001b[0mmu\u001b[0m\u001b[0;34m*\u001b[0m\u001b[0;34m(\u001b[0m\u001b[0;34m(\u001b[0m\u001b[0mnu_sum\u001b[0m\u001b[0;34m-\u001b[0m\u001b[0mnubar_sum\u001b[0m\u001b[0;34m)\u001b[0m\u001b[0;34m-\u001b[0m\u001b[0mnp\u001b[0m\u001b[0;34m.\u001b[0m\u001b[0mcos\u001b[0m\u001b[0;34m(\u001b[0m\u001b[0mtheta_vec\u001b[0m\u001b[0;34m[\u001b[0m\u001b[0mi\u001b[0m\u001b[0;34m]\u001b[0m\u001b[0;34m)\u001b[0m\u001b[0;34m*\u001b[0m\u001b[0;34m(\u001b[0m\u001b[0mnu_sum_theta\u001b[0m\u001b[0;34m-\u001b[0m\u001b[0mnubar_sum_theta\u001b[0m\u001b[0;34m)\u001b[0m\u001b[0;34m)\u001b[0m\u001b[0;34m\u001b[0m\u001b[0;34m\u001b[0m\u001b[0m\n\u001b[0;32m---> 54\u001b[0;31m         \u001b[0mP_aux\u001b[0m\u001b[0;34m=\u001b[0m \u001b[0mcross_prod\u001b[0m\u001b[0;34m(\u001b[0m\u001b[0mnu\u001b[0m\u001b[0;34m[\u001b[0m\u001b[0mi\u001b[0m\u001b[0;34m]\u001b[0m\u001b[0;34m[\u001b[0m\u001b[0mj\u001b[0m\u001b[0;34m]\u001b[0m\u001b[0;34m,\u001b[0m\u001b[0maux\u001b[0m\u001b[0;34m)\u001b[0m\u001b[0;34m\u001b[0m\u001b[0;34m\u001b[0m\u001b[0m\n\u001b[0m\u001b[1;32m     55\u001b[0m         \u001b[0;31m#P_aux= cross_prod(nu[i][j],(B*omega[i]+L*lamb-mu*(nu_sum-nubar_sum)))\u001b[0m\u001b[0;34m\u001b[0m\u001b[0;34m\u001b[0m\u001b[0m\n\u001b[1;32m     56\u001b[0m         \u001b[0;32mfor\u001b[0m \u001b[0mk\u001b[0m \u001b[0;32min\u001b[0m \u001b[0mrange\u001b[0m\u001b[0;34m(\u001b[0m\u001b[0mn_dim\u001b[0m\u001b[0;34m)\u001b[0m\u001b[0;34m:\u001b[0m\u001b[0;34m\u001b[0m\u001b[0;34m\u001b[0m\u001b[0m\n",
      "\u001b[0;32m~/Downloads/SN/Neutrino-Collective-Effects/Auxiliar_Functions.py\u001b[0m in \u001b[0;36mcross_prod\u001b[0;34m(A, B)\u001b[0m\n\u001b[1;32m    239\u001b[0m       \u001b[0;32mfor\u001b[0m \u001b[0mj\u001b[0m \u001b[0;32min\u001b[0m \u001b[0mrange\u001b[0m\u001b[0;34m(\u001b[0m\u001b[0mn_components\u001b[0m\u001b[0;34m)\u001b[0m\u001b[0;34m:\u001b[0m\u001b[0;34m\u001b[0m\u001b[0;34m\u001b[0m\u001b[0m\n\u001b[1;32m    240\u001b[0m           \u001b[0;32mfor\u001b[0m \u001b[0mk\u001b[0m \u001b[0;32min\u001b[0m \u001b[0mrange\u001b[0m\u001b[0;34m(\u001b[0m\u001b[0mn_components\u001b[0m\u001b[0;34m)\u001b[0m\u001b[0;34m:\u001b[0m\u001b[0;34m\u001b[0m\u001b[0;34m\u001b[0m\u001b[0m\n\u001b[0;32m--> 241\u001b[0;31m             \u001b[0msum\u001b[0m\u001b[0;34m=\u001b[0m\u001b[0msum\u001b[0m\u001b[0;34m+\u001b[0m\u001b[0mstructure_constant\u001b[0m\u001b[0;34m(\u001b[0m\u001b[0mn_components\u001b[0m\u001b[0;34m,\u001b[0m\u001b[0mi\u001b[0m\u001b[0;34m,\u001b[0m\u001b[0mj\u001b[0m\u001b[0;34m,\u001b[0m\u001b[0mk\u001b[0m\u001b[0;34m)\u001b[0m\u001b[0;34m*\u001b[0m\u001b[0mA\u001b[0m\u001b[0;34m[\u001b[0m\u001b[0mj\u001b[0m\u001b[0;34m]\u001b[0m\u001b[0;34m*\u001b[0m\u001b[0mB\u001b[0m\u001b[0;34m[\u001b[0m\u001b[0mk\u001b[0m\u001b[0;34m]\u001b[0m\u001b[0;34m\u001b[0m\u001b[0;34m\u001b[0m\u001b[0m\n\u001b[0m\u001b[1;32m    242\u001b[0m       \u001b[0mC\u001b[0m\u001b[0;34m.\u001b[0m\u001b[0mappend\u001b[0m\u001b[0;34m(\u001b[0m\u001b[0msum\u001b[0m\u001b[0;34m)\u001b[0m\u001b[0;34m\u001b[0m\u001b[0;34m\u001b[0m\u001b[0m\n\u001b[1;32m    243\u001b[0m     \u001b[0;32mreturn\u001b[0m \u001b[0mC\u001b[0m\u001b[0;34m\u001b[0m\u001b[0;34m\u001b[0m\u001b[0m\n",
      "\u001b[0;31mKeyboardInterrupt\u001b[0m: "
     ]
    }
   ],
   "source": [
    "mass_ord=\"IH\"\n",
    "y0,omega,E,t,mu_0,n_f,n_dim,n_theta,theta_vec=initiate(nu_types,t_i,t_f,E_nu,mu_0,theta_bins,case)\n",
    "\n",
    "if mass_ord==\"NH\": \n",
    "    params=omega,E,t,mu_0,n_f,n_dim,n_theta,np.array(theta_vec)\n",
    "elif mass_ord==\"IH\":\n",
    "    params=-1*omega,E,t,mu_0,n_f,n_dim,n_theta,np.array(theta_vec)\n",
    "else:\n",
    "    print(\"Not a mass ordering option!\")\n",
    "    \n",
    "start_time = time.time()\n",
    "psoln_IH= odeint(func_Collective_nu_2, y0, t, args=(params,))\n",
    "print(\"Took %s minutes\" % ((time.time() - start_time)/60))"
   ]
  },
  {
   "cell_type": "code",
   "execution_count": null,
   "id": "4e7af747",
   "metadata": {},
   "outputs": [],
   "source": []
  },
  {
   "cell_type": "code",
   "execution_count": null,
   "id": "03284205",
   "metadata": {},
   "outputs": [],
   "source": []
  },
  {
   "cell_type": "code",
   "execution_count": null,
   "id": "3025d2f1",
   "metadata": {},
   "outputs": [],
   "source": []
  },
  {
   "cell_type": "code",
   "execution_count": 34,
   "id": "a1156b9e",
   "metadata": {},
   "outputs": [],
   "source": [
    "nu, nubar= read_output(psoln,(n_f,n_dim,n_theta))\n",
    "nu_IH, nubar_IH= read_output(psoln_IH,(n_f,n_dim,n_theta))"
   ]
  },
  {
   "cell_type": "code",
   "execution_count": 39,
   "id": "048c0885",
   "metadata": {},
   "outputs": [
    {
     "data": {
      "text/plain": [
       "[<matplotlib.lines.Line2D at 0x7f0a01492ee0>]"
      ]
     },
     "execution_count": 39,
     "metadata": {},
     "output_type": "execute_result"
    },
    {
     "data": {
      "image/png": "[encoded data removed]",
      "text/plain": [
       "<Figure size 432x288 with 1 Axes>"
      ]
     },
     "metadata": {
      "needs_background": "light"
     },
     "output_type": "display_data"
    }
   ],
   "source": [
    "theta_step=np.pi/theta_bins\n",
    "plt.plot(t/(3*10**5*from_eV_to_1_over_km),np.transpose(nu,(0,1,3,2))[2][0][0]/theta_step)\n",
    "plt.plot(t/(3*10**5*from_eV_to_1_over_km),np.transpose(nu_IH,(0,1,3,2))[2][0][0]/theta_step)"
   ]
  },
  {
   "cell_type": "code",
   "execution_count": 14,
   "id": "8b416f1a",
   "metadata": {},
   "outputs": [
    {
     "data": {
      "image/png": "[encoded data removed]",
      "text/plain": [
       "<Figure size 432x288 with 1 Axes>"
      ]
     },
     "metadata": {
      "needs_background": "light"
     },
     "output_type": "display_data"
    }
   ],
   "source": [
    "# theta_vec=np.linspace(0,np.pi,theta_bins)\n",
    "theta_step=np.pi/theta_bins\n",
    "plt.plot(theta_vec,np.array(nu[2][0][0])/theta_step,label=r\"$\\rho_{ee}(0)$\")\n",
    "plt.plot(theta_vec,np.array(nubar[2][0][0])/theta_step,label=r\"$\\rho_{ee}(0)$\")\n",
    "plt.plot(theta_vec,np.array(nu[2][0][-1])/theta_step,ls='--',label=r\"$\\rho_{ee}(t)$\")\n",
    "plt.plot(theta_vec,np.array(nubar[2][0][-1])/theta_step,ls='--',label=r\"$\\rho_{ee}(t)$\")\n",
    "plt.xlabel(r\"$\\theta$\")\n",
    "plt.ylabel(r\"$\\rho_{ee}$/$\\rho_{\\overline{ee}}$\")\n",
    "plt.legend()\n",
    "plt.show()"
   ]
  },
  {
   "cell_type": "code",
   "execution_count": 17,
   "id": "6fe8855a",
   "metadata": {},
   "outputs": [
    {
     "name": "stderr",
     "output_type": "stream",
     "text": [
      "/tmp/ipykernel_9090/1225073773.py:13: RuntimeWarning: invalid value encountered in double_scalars\n",
      "  Pxx=(1/2)*(1+nu[2][1][l][i]/nu[2][1][0][i])\n",
      "/tmp/ipykernel_9090/1225073773.py:22: RuntimeWarning: invalid value encountered in double_scalars\n",
      "  Pxx=(1/2)*(1+nubar[2][1][l][i]/nubar[2][1][0][i])\n",
      "/tmp/ipykernel_9090/1225073773.py:13: RuntimeWarning: divide by zero encountered in double_scalars\n",
      "  Pxx=(1/2)*(1+nu[2][1][l][i]/nu[2][1][0][i])\n",
      "/tmp/ipykernel_9090/1225073773.py:17: RuntimeWarning: invalid value encountered in double_scalars\n",
      "  nu_e_time[l].append(Pee*nu[2][0][0][i]+(1-Pxx)*(-1)*nu[2][1][0][i])\n",
      "/tmp/ipykernel_9090/1225073773.py:18: RuntimeWarning: invalid value encountered in double_scalars\n",
      "  nu_x_time[l].append(Pxx*(-1)*nu[2][1][0][i]+(1-Pee)*nu[2][0][0][i])\n",
      "/tmp/ipykernel_9090/1225073773.py:22: RuntimeWarning: divide by zero encountered in double_scalars\n",
      "  Pxx=(1/2)*(1+nubar[2][1][l][i]/nubar[2][1][0][i])\n",
      "/tmp/ipykernel_9090/1225073773.py:26: RuntimeWarning: invalid value encountered in double_scalars\n",
      "  nubar_e_time[l].append(Pee*nubar[2][0][0][i]+(1-Pxx)*(-1)*nubar[2][1][0][i])\n",
      "/tmp/ipykernel_9090/1225073773.py:27: RuntimeWarning: invalid value encountered in double_scalars\n",
      "  nubar_x_time[l].append(Pxx*(-1)*nubar[2][1][0][i]+(1-Pee)*nubar[2][0][0][i])\n"
     ]
    }
   ],
   "source": [
    "  nu_e_time,nubar_e_time=[],[]\n",
    "  nu_x_time,nubar_x_time=[],[]\n",
    "\n",
    "  for l in range(len(nu[0][0])): #time array length\n",
    "      nu_e_time.append([])\n",
    "      nubar_e_time.append([])\n",
    "      nu_x_time.append([])\n",
    "      nubar_x_time.append([])\n",
    "    \n",
    "      for i in range(len(nu[0][0][0])): \n",
    "        #nu\n",
    "        Pee=(1/2)*(1+nu[2][0][l][i]/nu[2][0][0][i])\n",
    "        Pxx=(1/2)*(1+nu[2][1][l][i]/nu[2][1][0][i])\n",
    "        if Pxx!=Pxx:\n",
    "            Pxx=1\n",
    "\n",
    "        nu_e_time[l].append(Pee*nu[2][0][0][i]+(1-Pxx)*(-1)*nu[2][1][0][i])\n",
    "        nu_x_time[l].append(Pxx*(-1)*nu[2][1][0][i]+(1-Pee)*nu[2][0][0][i])\n",
    "\n",
    "        #nubar\n",
    "        Pee=(1/2)*(1+nubar[2][0][l][i]/nubar[2][0][0][i])\n",
    "        Pxx=(1/2)*(1+nubar[2][1][l][i]/nubar[2][1][0][i])\n",
    "        if Pxx!=Pxx:\n",
    "            Pxx=1\n",
    "\n",
    "        nubar_e_time[l].append(Pee*nubar[2][0][0][i]+(1-Pxx)*(-1)*nubar[2][1][0][i])\n",
    "        nubar_x_time[l].append(Pxx*(-1)*nubar[2][1][0][i]+(1-Pee)*nubar[2][0][0][i])"
   ]
  },
  {
   "cell_type": "code",
   "execution_count": 19,
   "id": "6fac773b",
   "metadata": {},
   "outputs": [
    {
     "data": {
      "image/png": "[encoded data removed]",
      "text/plain": [
       "<Figure size 432x288 with 1 Axes>"
      ]
     },
     "metadata": {
      "needs_background": "light"
     },
     "output_type": "display_data"
    }
   ],
   "source": [
    "# theta_vec=np.linspace(0,np.pi,theta_bins)\n",
    "theta_step=np.pi/theta_bins\n",
    "plt.plot(theta_vec,np.array(nu_e_time[0])/theta_step,label=r\"$\\rho_{ee}(0)$\")\n",
    "plt.plot(theta_vec,np.array(nubar_e_time[0])/theta_step,label=r\"$\\rho_{ee}(0)$\")\n",
    "plt.plot(theta_vec,np.array(nu_e_time[-1])/theta_step,ls='--',label=r\"$\\rho_{ee}(t)$\")\n",
    "plt.plot(theta_vec,np.array(nubar_e_time[-1])/theta_step,ls='--',label=r\"$\\rho_{ee}(t)$\")\n",
    "plt.xlabel(r\"$\\theta$\")\n",
    "plt.ylabel(r\"$\\rho_{ee}$/$\\rho_{\\overline{ee}}$\")\n",
    "plt.legend()\n",
    "plt.show()"
   ]
  },
  {
   "cell_type": "code",
   "execution_count": null,
   "id": "db7a0d30",
   "metadata": {},
   "outputs": [],
   "source": []
  },
  {
   "cell_type": "code",
   "execution_count": null,
   "id": "2098f58b",
   "metadata": {},
   "outputs": [],
   "source": []
  },
  {
   "cell_type": "code",
   "execution_count": 49,
   "id": "bd72b9c5",
   "metadata": {},
   "outputs": [],
   "source": [
    "def func_Collective_nu(y, time, params):\n",
    "    omega,E,t,mu_0,n_f,n_dim,n_theta,theta_vec= params  # unpack parameters\n",
    "    B=np.array(B_vec(n_dim,theta_31))\n",
    "    L=np.array(L_vec(n_dim))\n",
    "    \n",
    "#     r=time/from_eV_to_1_over_km #From eV⁻¹ to km\n",
    "#     mu=mu_supernova(r,mu_opt,mu_0)\n",
    "    mu=mu_0\n",
    "    lamb=lambda_supernova(time,\"no\",0)\n",
    "    print(time/(3*10**5*from_eV_to_1_over_km))\n",
    "    \n",
    "    derivs=[]\n",
    "    nu, nubar = [],[]\n",
    "    num_diff_nu_compnents=2*n_f*n_dim\n",
    "\n",
    "    #Filling [Theta bin][Nu_types][3components]\n",
    "    for i in range(n_theta):\n",
    "      nu.append([])\n",
    "      nubar.append([])\n",
    "      for j in range(n_f):\n",
    "        nu[i].append([])\n",
    "        nubar[i].append([])\n",
    "        for k in range(n_dim):\n",
    "          #nu \n",
    "          nu_index=(i*num_diff_nu_compnents)+k+2*j*n_dim\n",
    "          nu[i][j].append(y[nu_index])\n",
    "          #nubar   \n",
    "          nubar_index=(i*num_diff_nu_compnents)+(k+n_dim)+2*j*n_dim\n",
    "          nubar[i][j].append(y[nubar_index])\n",
    "    \n",
    "    #Summed nu and nubar components\n",
    "    nu_sum, nubar_sum=[],[]\n",
    "    nu_sum_theta, nubar_sum_theta=[],[]\n",
    "    nu_aux=np.transpose(nu,(2,1,0))\n",
    "    nubar_aux=np.transpose(nubar,(2,1,0))\n",
    "\n",
    "    for i in range(n_dim):\n",
    "        nu_sum_aux=0\n",
    "        nubar_sum_aux=0\n",
    "        nu_sum_theta_aux=0\n",
    "        nubar_sum_theta_aux=0\n",
    "        for j in range(n_f):\n",
    "            for k in range(n_theta):\n",
    "                nu_sum_aux+=nu[k][j][i]\n",
    "                nubar_sum_aux+=nubar[k][j][i]\n",
    "                nu_sum_theta_aux+=np.cos(theta_vec[k])*nu[k][j][i]\n",
    "                nubar_sum_theta_aux+=np.cos(theta_vec[k])*nubar[k][j][i]\n",
    "        nu_sum.append(nu_sum_aux)\n",
    "        nubar_sum.append(nubar_sum_aux)\n",
    "        nu_sum_theta.append(nu_sum_theta_aux)\n",
    "        nubar_sum_theta.append(nubar_sum_theta_aux)\n",
    "    \n",
    "    B=np.array(B)\n",
    "    nu_sum=np.array(nu_sum)\n",
    "    nubar_sum=np.array(nubar_sum)\n",
    "    nu_sum_theta=np.array(nu_sum_theta)\n",
    "    nubar_sum_theta=np.array(nubar_sum_theta)\n",
    "    \n",
    "    # list of dy/dt=f functions\n",
    "    for i in range(n_theta):\n",
    "      for j in range(n_f):\n",
    "        #nu\n",
    "        aux=B*omega+L*lamb-mu*((nu_sum-nubar_sum)-np.cos(theta_vec[i])*(nu_sum_theta-nubar_sum_theta))\n",
    "        P_aux= cross_prod(nu[i][j],aux)\n",
    "        #P_aux= cross_prod(nu[i][j],(B*omega[i]+L*lamb-mu*(nu_sum-nubar_sum)))\n",
    "        for k in range(n_dim):\n",
    "          derivs.append(P_aux[k])\n",
    "        \n",
    "        #nubar\n",
    "        aux=-1*B*omega+L*lamb-mu*((nu_sum-nubar_sum)-np.cos(theta_vec[i])*(nu_sum_theta-nubar_sum_theta))\n",
    "        P_aux= cross_prod(nubar[i][j],aux)\n",
    "        #P_aux= cross_prod(nubar[i][j],(-1*B*omega[i]+L*lamb-mu*(nu_sum-nubar_sum)))\n",
    "        for k in range(n_dim):\n",
    "          derivs.append(P_aux[k])\n",
    "\n",
    "    return derivs"
   ]
  },
  {
   "cell_type": "code",
   "execution_count": null,
   "id": "5ba9d9c4",
   "metadata": {},
   "outputs": [],
   "source": [
    "mass_ord=\"IH\"\n",
    "y0,omega,E,t,mu_0,n_f,n_dim,n_theta,theta_vec=initiate(nu_types,t_i,t_f,E_nu,mu_0,theta_step,case)\n",
    "\n",
    "if mass_ord==\"NH\": \n",
    "    params=omega,E,t,mu_0,n_f,n_dim,n_theta,np.array(theta_vec)\n",
    "elif mass_ord==\"IH\":\n",
    "    params=-1*omega,E,t,mu_0,n_f,n_dim,n_theta,np.array(theta_vec)\n",
    "else:\n",
    "    print(\"Not a mass ordering option!\")\n",
    "psoln= odeint(func_Collective_nu_2, y0, t, args=(params,))"
   ]
  },
  {
   "cell_type": "code",
   "execution_count": null,
   "id": "1e6cb260",
   "metadata": {},
   "outputs": [],
   "source": []
  }
 ],
 "metadata": {
  "kernelspec": {
   "display_name": "Python 3 (ipykernel)",
   "language": "python",
   "name": "python3"
  },
  "language_info": {
   "codemirror_mode": {
    "name": "ipython",
    "version": 3
   },
   "file_extension": ".py",
   "mimetype": "text/x-python",
   "name": "python",
   "nbconvert_exporter": "python",
   "pygments_lexer": "ipython3",
   "version": "3.9.7"
  }
 },
 "nbformat": 4,
 "nbformat_minor": 5
}
