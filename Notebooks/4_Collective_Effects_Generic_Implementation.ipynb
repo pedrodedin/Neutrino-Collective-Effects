{
 "cells": [
  {
   "cell_type": "markdown",
   "metadata": {
    "id": "g3EQILqiudxp"
   },
   "source": [
    "# Collective Effects - Bipolar Isotropic Gas with Spectrum"
   ]
  },
  {
   "cell_type": "code",
   "execution_count": 2,
   "metadata": {
    "id": "04PCGxZid3cp"
   },
   "outputs": [],
   "source": [
    "#Importing Libraries\n",
    "import numpy as np\n",
    "import matplotlib.pyplot as plt\n",
    "from scipy.integrate import odeint\n",
    "import scipy.integrate as integrate\n",
    "import math \n",
    "from ipywidgets import interact, interactive, fixed, interact_manual\n",
    "from mpl_toolkits.mplot3d import Axes3D\n",
    "from mpl_toolkits.mplot3d import proj3d\n",
    "from matplotlib.animation import FuncAnimation\n",
    "from scipy.special import gamma\n",
    "\n",
    "from matplotlib import animation, rc\n",
    "from IPython.display import HTML"
   ]
  },
  {
   "cell_type": "code",
   "execution_count": 3,
   "metadata": {
    "id": "lmNrUMUaEAyy"
   },
   "outputs": [],
   "source": [
    "G_F=1.1663787*10**(-23) #eV⁻² - Fermi Constant\n",
    "delta_m2_31=2.5*10**(-3) #eV² - \\Delta m²_31\n",
    "#theta_31=np.arcsin(math.sqrt(2.18*10**-2)) #\\theta_31\n",
    "theta_31=10**(-2)#\\theta_31\n",
    "N_A=6.02*10**(23) #Avogadro constant\n",
    "from_eV_to_1_over_m=8.065543937*10**5\n",
    "from_eV_to_1_over_km=from_eV_to_1_over_m*10**(3)\n",
    "\n",
    "#Calculate the effective mass squared difference in matter\n",
    "def delta_m2_eff(delta_m2,theta,Acc):\n",
    "  delta = math.sqrt((delta_m2*np.cos(2*theta)-Acc)**2+(delta_m2*np.sin(2*theta))**2)\n",
    "  return delta\n",
    "\n",
    "#Calculate the effective mixing angle in matter\n",
    "def theta_eff(delta_m2,theta,Acc):\n",
    "  theta_eff=(1/2)*math.atan2(1,1/((math.tan(2*theta))/(1-(Acc/(delta_m2*np.cos(2*theta))))))\n",
    "  return theta_eff\n",
    "\n",
    "#Calculate the matter \"Potential\" - Acc=2EV_cc\n",
    "def Acc(N_e,E):\n",
    "  A = 2*math.sqrt(2)*E*G_F*N_e\n",
    "  return A\n",
    "\n",
    "def B_vec(E):\n",
    "  E=E*10**6 #From MeV to eV\n",
    "  B=delta_m2_31/(2*E)\n",
    "  B1=B*np.sin(2*theta_31)\n",
    "  B2=0\n",
    "  B3=B*np.cos(2*theta_31)\n",
    "  return B,B1,B2,B3"
   ]
  },
  {
   "cell_type": "code",
   "execution_count": 33,
   "metadata": {},
   "outputs": [],
   "source": [
    "def phi(E,E_0,alpha):\n",
    "  N=((alpha+1)**(alpha+1))/(E_0*gamma(alpha+1))\n",
    "  R=N*((E/E_0)**alpha)*math.exp((-1)*(alpha+1)*E/E_0)\n",
    "  return R\n",
    "phi_vec= np.vectorize(phi)\n",
    "\n",
    "#Neutrino potential\n",
    "def mu_supernova(r,mu_0): # r in eV⁻¹\n",
    "  R_0=4*10**4#m\n",
    "  R_0= R_0*(8*10**5) #eV⁻¹\n",
    "  if r<R_0:\n",
    "    return mu_0\n",
    "  return mu_0*(R_0/r)**4\n",
    "mu_supernova_vec=np.vectorize(mu_supernova)"
   ]
  },
  {
   "cell_type": "code",
   "execution_count": 10,
   "metadata": {},
   "outputs": [
    {
     "name": "stdout",
     "output_type": "stream",
     "text": [
      "2 3 490 5880\n"
     ]
    }
   ],
   "source": [
    "#Energy\n",
    "E_step=0.1\n",
    "E_vec=np.arange(1,50,E_step)\n",
    "n_E=len(E_vec)\n",
    "\n",
    "#Flavors of Neutrino\n",
    "nu_types=['nu_e','nu_x']\n",
    "n_f=len(nu_types)\n",
    "n_dim=(n_f**2)-1\n",
    "\n",
    "#Number of first-order ODEs\n",
    "N=2*n_f*n_dim*n_E\n",
    "\n",
    "print(n_f,n_dim,n_E,N)"
   ]
  },
  {
   "cell_type": "code",
   "execution_count": 34,
   "metadata": {},
   "outputs": [],
   "source": [
    "#Initial spectrum\n",
    "nu_types=['nu_e','nu_x']\n",
    "E_0=[10,15,24,24] #Mean energy in MeV\n",
    "Amplitude=[1,1,1,1]\n",
    "\n",
    "y0=[] #Initial state\n",
    "B1,B2,B3=[],[],[]\n",
    "B=[]\n",
    "flavor_sign=1\n",
    "\n",
    "for i in range(n_E):      \n",
    "  B1.append(B_vec(E_vec[i])[1])\n",
    "  B2.append(B_vec(E_vec[i])[2])\n",
    "  B3.append(B_vec(E_vec[i])[3])\n",
    "  B.append([B_vec(E_vec[i])[1],B_vec(E_vec[i])[2],B_vec(E_vec[i])[3]])\n",
    "    \n",
    "  for j in range(n_f):\n",
    "    if nu_types[j]==\"nu_x\":\n",
    "      flavor_sign=-1\n",
    "    if nu_types[j]==\"nu_e\":\n",
    "      flavor_sign=1\n",
    "    #nu\n",
    "    nu_spec=Amplitude[n_f*j]*phi_vec(E_vec[i],E_0[n_f*j+1],2.3)*E_step\n",
    "    y0.append(0)\n",
    "    y0.append(0)\n",
    "    y0.append(flavor_sign*nu_spec)\n",
    "    #nubar\n",
    "    nu_spec=Amplitude[n_f*j+1]*phi_vec(E_vec[i],E_0[n_f*j+1],2.3)*E_step\n",
    "    y0.append(0)\n",
    "    y0.append(0)\n",
    "    y0.append(flavor_sign*nu_spec)"
   ]
  },
  {
   "cell_type": "code",
   "execution_count": 37,
   "metadata": {},
   "outputs": [],
   "source": [
    "#time\n",
    "t_bins=1000\n",
    "t_max = 4*(2*np.pi/min(B_vec(E_vec)[0])) #eV⁻¹\n",
    "t_step = (2*np.pi/max(B_vec(E_vec)[0]))/20 #eV⁻¹\n",
    "t_vec = np.arange(0., t_bins*t_step , t_step) #eV⁻¹\n",
    "\n",
    "#mu\n",
    "mu_0=(10)*max(B_vec(E_vec)[0])"
   ]
  },
  {
   "cell_type": "code",
   "execution_count": 38,
   "metadata": {},
   "outputs": [],
   "source": [
    "def structure_constant(n_f,i,j,k):\n",
    "    if i==j or i==k or j==k:\n",
    "        return 0\n",
    "    if n_f==3:\n",
    "        i_next=(i+1)%3\n",
    "        if  i_next == j:\n",
    "            return 1\n",
    "        if i_next == k:\n",
    "            return -1 \n",
    "    else:\n",
    "        print(\"Dimension not defined\")\n",
    "\n",
    "def cross_prod(A,B,i,n_dim):\n",
    "    sum=0\n",
    "    for j in range(n_dim):\n",
    "        for k in range(n_dim):\n",
    "            sum=structure_constant(n_dim,i,j,k)*A[j]*B[k]\n",
    "    return sum"
   ]
  },
  {
   "cell_type": "code",
   "execution_count": 46,
   "metadata": {},
   "outputs": [],
   "source": [
    "def func_Collective_nu(y, time, params):\n",
    "    B= params  # unpack parameters\n",
    "    mu=mu_supernova_vec(time,mu_0)\n",
    "    derivs=[]\n",
    "    nu, nubar = [],[]\n",
    "    num_diff_nu_compnents=2*n_f*n_dim\n",
    "    \n",
    "    #Filling [Nu_types][3components] arrays with [Energy bin]\n",
    "    for i in range(n_E):\n",
    "      nu.append([])\n",
    "      nubar.append([])\n",
    "      for j in range(n_f):\n",
    "        nu[i].append([])\n",
    "        nubar[i].append([])\n",
    "        for k in range(n_dim):\n",
    "          #nu \n",
    "          nu_index=(i*num_diff_nu_compnents)+k+2*j*n_dim\n",
    "          nu[i][j].append(y[nu_index])\n",
    "          #nubar   \n",
    "          nubar_index=(i*num_diff_nu_compnents)+(k+n_dim)+2*j*n_dim\n",
    "          nubar[i][j].append(y[nubar_index])\n",
    "    \n",
    "    #Summed nu and nubar components\n",
    "    nu_sum, nubar_sum=[],[]\n",
    "    for i in range(n_dim):\n",
    "      nu_sum.append(sum(map(sum, np.transpose(nu,(2,0,1))[i])))\n",
    "      nubar_sum.append(sum(map(sum, np.transpose(nubar,(2,0,1))[i])))\n",
    "    \n",
    "    B=np.array(B)\n",
    "    nu_sum=np.array(nu_sum)\n",
    "    nubar_sum=np.array(nubar_sum)\n",
    "    # list of dy/dt=f functions\n",
    "    for i in range(n_E):\n",
    "      for j in range(n_f):\n",
    "        for k in range(n_dim):\n",
    "          #nu \n",
    "          P_aux= cross_prod(nu[i][j],(B[i]+mu*(nu_sum-nubar_sum)),k,n_dim)\n",
    "          derivs.append(P_aux)\n",
    "        for k in range(n_dim):\n",
    "          #nubar\n",
    "          P_aux= cross_prod(nu[i][j],(-1*B[i]+mu*(nu_sum-nubar_sum)),k,n_dim)\n",
    "          derivs.append(P_aux)\n",
    "\n",
    "    return derivs"
   ]
  },
  {
   "cell_type": "code",
   "execution_count": 54,
   "metadata": {},
   "outputs": [],
   "source": [
    "psoln_nu_x_NH= odeint(func_Collective_nu, y0, t_vec, args=(B,))\n",
    "psoln_nu_x_IH= odeint(func_Collective_nu, y0, t_vec, args=(-1*np.array(B),))"
   ]
  },
  {
   "cell_type": "code",
   "execution_count": null,
   "metadata": {},
   "outputs": [],
   "source": []
  },
  {
   "cell_type": "markdown",
   "metadata": {},
   "source": [
    "# Corrigir Leitura"
   ]
  },
  {
   "cell_type": "code",
   "execution_count": 55,
   "metadata": {},
   "outputs": [],
   "source": [
    "def read_output(psoln):\n",
    "  space_dim=3\n",
    "  num_of_nus=len(nu_types)  \n",
    "  print(\"Num of nus\",num_of_nus)\n",
    "  num_E_bins=int(len(psoln[0])/(2*space_dim*num_of_nus))\n",
    "  print(\"Num of E bins\",num_E_bins)\n",
    "\n",
    "  nu,nubar=[],[]\n",
    "  for l in range(space_dim):\n",
    "    nu.append([])\n",
    "    nubar.append([])\n",
    "    for k in range(num_of_nus):\n",
    "      nu[l].append([])\n",
    "      nubar[l].append([])\n",
    "      for j in range(len(psoln)):\n",
    "        nu[l][k].append([])\n",
    "        nubar[l][k].append([])\n",
    "        for i in range(num_E_bins):\n",
    "          nu[l][k][j].append(psoln[j][(i*2*space_dim*num_of_nus)+l+k*2*space_dim])\n",
    "          nubar[l][k][j].append(psoln[j][(i*2*space_dim*num_of_nus)+l+3+k*2*space_dim])\n",
    "\n",
    "  return nu, nubar #[Pauli Matrix][Nu_type][time][energy]\n",
    "\n",
    "def read_flavor(nu, nubar):\n",
    "  nu_e_time,nubar_e_time=[],[]\n",
    "  nu_x_time,nubar_x_time=[],[]\n",
    "\n",
    "  for l in range(len(nu_NH[0][0])): #time array length\n",
    "      nu_e_time.append([])\n",
    "      nubar_e_time.append([])\n",
    "      nu_x_time.append([])\n",
    "      nubar_x_time.append([])\n",
    "      for i in range(len(nu_NH[0][0][0])): \n",
    "        #nu\n",
    "        P3_x,P3_e=0,0\n",
    "        if nu[2][0][l][i]>0:\n",
    "          P3_e=P3_e+nu[2][0][l][i]\n",
    "        else:\n",
    "          P3_x=P3_x+nu[2][0][l][i]\n",
    "\n",
    "        if nu[2][1][l][i]>0:\n",
    "          P3_e=P3_e+nu[2][1][l][i]\n",
    "        else:\n",
    "          P3_x=P3_x+nu[2][1][l][i]\n",
    "\n",
    "        nu_e_time[l].append(P3_e)\n",
    "        nu_x_time[l].append(-1*P3_x)\n",
    "\n",
    "        #nubar\n",
    "        P3_x,P3_e=0,0\n",
    "        if nubar[2][0][l][i]>0:\n",
    "          P3_e=P3_e+nubar[2][0][l][i]\n",
    "        else:\n",
    "          P3_x=P3_x+nubar[2][0][l][i]\n",
    "\n",
    "        if nubar[2][1][l][i]>0:\n",
    "          P3_e=P3_e+nubar[2][1][l][i]\n",
    "        else:\n",
    "          P3_x=P3_x+nubar[2][1][l][i]\n",
    "\n",
    "        nubar_e_time[l].append(P3_e)\n",
    "        nubar_x_time[l].append(-1*P3_x)\n",
    "\n",
    "  return   nu_e_time,nubar_e_time, nu_x_time,nubar_x_time"
   ]
  },
  {
   "cell_type": "code",
   "execution_count": 56,
   "metadata": {},
   "outputs": [
    {
     "name": "stdout",
     "output_type": "stream",
     "text": [
      "Num of nus 2\n",
      "Num of E bins 490\n",
      "Num of nus 2\n",
      "Num of E bins 490\n"
     ]
    }
   ],
   "source": [
    "#NH\n",
    "nu_NH, nubar_NH= read_output(psoln_nu_x_NH)\n",
    "nu_e_time_NH,nubar_e_time_NH, nu_x_time_NH,nubar_x_time_NH=read_flavor(nu_NH, nubar_NH)\n",
    "#IH\n",
    "nu_IH, nubar_IH= read_output(psoln_nu_x_IH)\n",
    "nu_e_time_IH,nubar_e_time_IH, nu_x_time_IH,nubar_x_time_IH=read_flavor(nu_IH, nubar_IH)"
   ]
  },
  {
   "cell_type": "code",
   "execution_count": 57,
   "metadata": {},
   "outputs": [
    {
     "data": {
      "text/plain": [
       "[<matplotlib.lines.Line2D at 0x7f3f7a357cd0>]"
      ]
     },
     "execution_count": 57,
     "metadata": {},
     "output_type": "execute_result"
    },
    {
     "data": {
      "image/png": "[encoded data removed]",
      "text/plain": [
       "<Figure size 432x288 with 1 Axes>"
      ]
     },
     "metadata": {
      "needs_background": "light"
     },
     "output_type": "display_data"
    },
    {
     "data": {
      "image/png": "[encoded data removed]",
      "text/plain": [
       "<Figure size 432x288 with 1 Axes>"
      ]
     },
     "metadata": {
      "needs_background": "light"
     },
     "output_type": "display_data"
    }
   ],
   "source": [
    "plt.figure()\n",
    "plt.plot(E_vec,nubar_e_time_IH[0])\n",
    "plt.plot(E_vec,nubar_e_time_IH[500])\n",
    "\n",
    "plt.figure()\n",
    "plt.plot(E_vec,nubar_x_time_IH[0])\n",
    "plt.plot(E_vec,nubar_x_time_IH[500])"
   ]
  },
  {
   "cell_type": "code",
   "execution_count": 58,
   "metadata": {},
   "outputs": [
    {
     "name": "stderr",
     "output_type": "stream",
     "text": [
      "/home/pedro/anaconda3/lib/python3.9/site-packages/matplotlib/animation.py:973: UserWarning: Animation was deleted without rendering anything. This is most likely unintended. To prevent deletion, assign the Animation to a variable that exists for as long as you need the Animation.\n",
      "  warnings.warn(\n"
     ]
    },
    {
     "data": {
      "image/png": "[encoded data removed]",
      "text/plain": [
       "<Figure size 960x320 with 2 Axes>"
      ]
     },
     "metadata": {},
     "output_type": "display_data"
    }
   ],
   "source": [
    "t_step=10\n",
    "t_f=len(t_vec)\n",
    "\n",
    "fig = plt.figure(figsize=(12, 4), dpi= 80, facecolor='w', edgecolor='k')\n",
    "#fig, ax = plt.subplots()\n",
    "ax1 = fig.add_subplot(1, 2, 1)\n",
    "ax1.set_xlabel(r'$E [MeV]$')\n",
    "ax1.set_ylabel(r'$\\phi(E) [MeV^{-1}]$')\n",
    "#nu_e\n",
    "nu_NH_line, = ax1.plot(E_vec, nu_e_time_NH[0],color='b',label=r'$\\nu_e$')\n",
    "ax1.plot(E_vec, nu_e_time_NH[0],color='b', linestyle=\"--\",label=r'$\\nu_e(t=0)$')#Initial\n",
    "antinu_NH_line, = ax1.plot(E_vec,nubar_e_time_NH[0],color='r',label=r'$\\overline{\\nu}_e$')\n",
    "ax1.plot(E_vec, nubar_e_time_NH[0],color='r', linestyle=\"--\",label=r'$\\overline{\\nu}_e(t=0)$')#Initial\n",
    "#nu_x\n",
    "nu_x_NH_line, = ax1.plot(E_vec,nu_e_time_NH[0],color='g',label=r'$\\nu_x$')\n",
    "ax1.plot(E_vec, nu_x_time_NH[0],color='g', linestyle=\"--\",label=r'$\\nu_x(t=0)$')#Initial\n",
    "antinu_x_NH_line, = ax1.plot(E_vec,nubar_x_time_NH[0],color='orange',label=r'$\\overline{\\nu}_x$')\n",
    "ax1.plot(E_vec, nubar_x_time_NH[0],color='orange', linestyle=\"--\",label=r'$\\nu_x(t=0)$')#Initial\n",
    "#ax1.set_ylim(0,0.07)\n",
    "ax1.set_title(\"NH\")\n",
    "ax1.legend(loc='upper right')\n",
    "\n",
    "#IH\n",
    "ax2 = fig.add_subplot(1, 2, 2)\n",
    "ax2.set_xlabel(r'$E [MeV]$')\n",
    "ax2.set_ylabel(r'$\\phi(E) [MeV^{-1}]$')\n",
    "#nu_e\n",
    "nu_IH_line, = ax2.plot(E_vec, nu_e_time_IH[0],color='b',label=r'$\\nu_e$')\n",
    "ax2.plot(E_vec, nu_e_time_IH[0],color='b', linestyle=\"--\",label=r'$\\nu_e(t=0)$')#Initial\n",
    "antinu_IH_line, = ax2.plot(E_vec,nubar_e_time_IH[0],color='r',label=r'$\\overline{\\nu}_e$')\n",
    "ax2.plot(E_vec, nubar_e_time_IH[0],color='r', linestyle=\"--\",label=r'$\\overline{\\nu}_e(t=0)$')#Initial\n",
    "#nu_x\n",
    "nu_x_IH_line, = ax2.plot(E_vec,nu_e_time_IH[0],color='g',label=r'$\\nu_x$')\n",
    "ax2.plot(E_vec, nu_x_time_IH[0],color='g', linestyle=\"--\",label=r'$\\nu_x(t=0)$')#Initial\n",
    "antinu_x_IH_line, = ax2.plot(E_vec,nubar_x_time_IH[0],color='orange',label=r'$\\overline{\\nu}_x$')\n",
    "ax2.plot(E_vec, nubar_x_time_IH[0],color='orange', linestyle=\"--\",label=r'$\\nu_x(t=0)$')#Initial\n",
    "#ax2.set_ylim(0,0.07)\n",
    "ax2.set_title(\"IH\")\n",
    "ax2.legend(loc='upper right')\n",
    "\n",
    "def update(t_i):\n",
    "    #NH\n",
    "    nu_NH_line.set_data(E_vec,nu_e_time_NH[t_i])\n",
    "    antinu_NH_line.set_data(E_vec,nubar_e_time_NH[t_i])\n",
    "    nu_x_NH_line.set_data(E_vec,nu_x_time_NH[t_i])\n",
    "    antinu_x_NH_line.set_data(E_vec,nubar_x_time_NH[t_i])\n",
    "    #IH\n",
    "    nu_IH_line.set_data(E_vec,nu_e_time_IH[t_i])\n",
    "    antinu_IH_line.set_data(E_vec,nubar_e_time_IH[t_i])\n",
    "    nu_x_IH_line.set_data(E_vec,nu_x_time_IH[t_i])\n",
    "    antinu_x_IH_line.set_data(E_vec,nubar_x_time_IH[t_i])\n",
    "\n",
    "    #ax.set_title('Spectrum (10kpc)- t=%f s'%(t_data[0][t_i]))\n",
    "    #max=np.amax(phi_aux)\n",
    "    #ax.set_ylim(0, max)\n",
    "    #print(max)\n",
    "\n",
    "ani = FuncAnimation(fig, update, frames=np.arange(0,t_f,t_step), interval=100)\n"
   ]
  },
  {
   "cell_type": "code",
   "execution_count": 59,
   "metadata": {},
   "outputs": [
    {
     "ename": "OSError",
     "evalue": "[Errno 12] Cannot allocate memory",
     "output_type": "error",
     "traceback": [
      "\u001b[0;31m---------------------------------------------------------------------------\u001b[0m",
      "\u001b[0;31mOSError\u001b[0m                                   Traceback (most recent call last)",
      "\u001b[0;32m/tmp/ipykernel_3132/3572931803.py\u001b[0m in \u001b[0;36m<module>\u001b[0;34m\u001b[0m\n\u001b[0;32m----> 1\u001b[0;31m \u001b[0mHTML\u001b[0m\u001b[0;34m(\u001b[0m\u001b[0mani\u001b[0m\u001b[0;34m.\u001b[0m\u001b[0mto_html5_video\u001b[0m\u001b[0;34m(\u001b[0m\u001b[0;34m)\u001b[0m\u001b[0;34m)\u001b[0m\u001b[0;34m\u001b[0m\u001b[0;34m\u001b[0m\u001b[0m\n\u001b[0m",
      "\u001b[0;32m~/anaconda3/lib/python3.9/site-packages/matplotlib/animation.py\u001b[0m in \u001b[0;36mto_html5_video\u001b[0;34m(self, embed_limit)\u001b[0m\n\u001b[1;32m   1346\u001b[0m                 \u001b[0;31m# We create a writer manually so that we can get the\u001b[0m\u001b[0;34m\u001b[0m\u001b[0;34m\u001b[0m\u001b[0m\n\u001b[1;32m   1347\u001b[0m                 \u001b[0;31m# appropriate size for the tag\u001b[0m\u001b[0;34m\u001b[0m\u001b[0;34m\u001b[0m\u001b[0m\n\u001b[0;32m-> 1348\u001b[0;31m                 \u001b[0mWriter\u001b[0m \u001b[0;34m=\u001b[0m \u001b[0mwriters\u001b[0m\u001b[0;34m[\u001b[0m\u001b[0mmpl\u001b[0m\u001b[0;34m.\u001b[0m\u001b[0mrcParams\u001b[0m\u001b[0;34m[\u001b[0m\u001b[0;34m'animation.writer'\u001b[0m\u001b[0;34m]\u001b[0m\u001b[0;34m]\u001b[0m\u001b[0;34m\u001b[0m\u001b[0;34m\u001b[0m\u001b[0m\n\u001b[0m\u001b[1;32m   1349\u001b[0m                 writer = Writer(codec='h264',\n\u001b[1;32m   1350\u001b[0m                                 \u001b[0mbitrate\u001b[0m\u001b[0;34m=\u001b[0m\u001b[0mmpl\u001b[0m\u001b[0;34m.\u001b[0m\u001b[0mrcParams\u001b[0m\u001b[0;34m[\u001b[0m\u001b[0;34m'animation.bitrate'\u001b[0m\u001b[0;34m]\u001b[0m\u001b[0;34m,\u001b[0m\u001b[0;34m\u001b[0m\u001b[0;34m\u001b[0m\u001b[0m\n",
      "\u001b[0;32m~/anaconda3/lib/python3.9/site-packages/matplotlib/animation.py\u001b[0m in \u001b[0;36m__getitem__\u001b[0;34m(self, name)\u001b[0m\n\u001b[1;32m    147\u001b[0m     \u001b[0;32mdef\u001b[0m \u001b[0m__getitem__\u001b[0m\u001b[0;34m(\u001b[0m\u001b[0mself\u001b[0m\u001b[0;34m,\u001b[0m \u001b[0mname\u001b[0m\u001b[0;34m)\u001b[0m\u001b[0;34m:\u001b[0m\u001b[0;34m\u001b[0m\u001b[0;34m\u001b[0m\u001b[0m\n\u001b[1;32m    148\u001b[0m         \u001b[0;34m\"\"\"Get an available writer class from its name.\"\"\"\u001b[0m\u001b[0;34m\u001b[0m\u001b[0;34m\u001b[0m\u001b[0m\n\u001b[0;32m--> 149\u001b[0;31m         \u001b[0;32mif\u001b[0m \u001b[0mself\u001b[0m\u001b[0;34m.\u001b[0m\u001b[0mis_available\u001b[0m\u001b[0;34m(\u001b[0m\u001b[0mname\u001b[0m\u001b[0;34m)\u001b[0m\u001b[0;34m:\u001b[0m\u001b[0;34m\u001b[0m\u001b[0;34m\u001b[0m\u001b[0m\n\u001b[0m\u001b[1;32m    150\u001b[0m             \u001b[0;32mreturn\u001b[0m \u001b[0mself\u001b[0m\u001b[0;34m.\u001b[0m\u001b[0m_registered\u001b[0m\u001b[0;34m[\u001b[0m\u001b[0mname\u001b[0m\u001b[0;34m]\u001b[0m\u001b[0;34m\u001b[0m\u001b[0;34m\u001b[0m\u001b[0m\n\u001b[1;32m    151\u001b[0m         \u001b[0;32mraise\u001b[0m \u001b[0mRuntimeError\u001b[0m\u001b[0;34m(\u001b[0m\u001b[0;34mf\"Requested MovieWriter ({name}) not available\"\u001b[0m\u001b[0;34m)\u001b[0m\u001b[0;34m\u001b[0m\u001b[0;34m\u001b[0m\u001b[0m\n",
      "\u001b[0;32m~/anaconda3/lib/python3.9/site-packages/matplotlib/animation.py\u001b[0m in \u001b[0;36mis_available\u001b[0;34m(self, name)\u001b[0m\n\u001b[1;32m    133\u001b[0m         \u001b[0;32mexcept\u001b[0m \u001b[0mKeyError\u001b[0m\u001b[0;34m:\u001b[0m\u001b[0;34m\u001b[0m\u001b[0;34m\u001b[0m\u001b[0m\n\u001b[1;32m    134\u001b[0m             \u001b[0;32mreturn\u001b[0m \u001b[0;32mFalse\u001b[0m\u001b[0;34m\u001b[0m\u001b[0;34m\u001b[0m\u001b[0m\n\u001b[0;32m--> 135\u001b[0;31m         \u001b[0;32mreturn\u001b[0m \u001b[0mcls\u001b[0m\u001b[0;34m.\u001b[0m\u001b[0misAvailable\u001b[0m\u001b[0;34m(\u001b[0m\u001b[0;34m)\u001b[0m\u001b[0;34m\u001b[0m\u001b[0;34m\u001b[0m\u001b[0m\n\u001b[0m\u001b[1;32m    136\u001b[0m \u001b[0;34m\u001b[0m\u001b[0m\n\u001b[1;32m    137\u001b[0m     \u001b[0;32mdef\u001b[0m \u001b[0m__iter__\u001b[0m\u001b[0;34m(\u001b[0m\u001b[0mself\u001b[0m\u001b[0;34m)\u001b[0m\u001b[0;34m:\u001b[0m\u001b[0;34m\u001b[0m\u001b[0;34m\u001b[0m\u001b[0m\n",
      "\u001b[0;32m~/anaconda3/lib/python3.9/site-packages/matplotlib/animation.py\u001b[0m in \u001b[0;36misAvailable\u001b[0;34m(cls)\u001b[0m\n\u001b[1;32m    590\u001b[0m             \u001b[0;31m# Ubuntu 12.04 ships a broken ffmpeg binary which we shouldn't use.\u001b[0m\u001b[0;34m\u001b[0m\u001b[0;34m\u001b[0m\u001b[0m\n\u001b[1;32m    591\u001b[0m             \u001b[0;31m# NOTE: when removed, remove the same method in AVConvBase.\u001b[0m\u001b[0;34m\u001b[0m\u001b[0;34m\u001b[0m\u001b[0m\n\u001b[0;32m--> 592\u001b[0;31m             and b'LibAv' not in subprocess.run(\n\u001b[0m\u001b[1;32m    593\u001b[0m                 \u001b[0;34m[\u001b[0m\u001b[0mcls\u001b[0m\u001b[0;34m.\u001b[0m\u001b[0mbin_path\u001b[0m\u001b[0;34m(\u001b[0m\u001b[0;34m)\u001b[0m\u001b[0;34m]\u001b[0m\u001b[0;34m,\u001b[0m \u001b[0mcreationflags\u001b[0m\u001b[0;34m=\u001b[0m\u001b[0msubprocess_creation_flags\u001b[0m\u001b[0;34m,\u001b[0m\u001b[0;34m\u001b[0m\u001b[0;34m\u001b[0m\u001b[0m\n\u001b[1;32m    594\u001b[0m                 \u001b[0mstdin\u001b[0m\u001b[0;34m=\u001b[0m\u001b[0msubprocess\u001b[0m\u001b[0;34m.\u001b[0m\u001b[0mDEVNULL\u001b[0m\u001b[0;34m,\u001b[0m \u001b[0mstdout\u001b[0m\u001b[0;34m=\u001b[0m\u001b[0msubprocess\u001b[0m\u001b[0;34m.\u001b[0m\u001b[0mDEVNULL\u001b[0m\u001b[0;34m,\u001b[0m\u001b[0;34m\u001b[0m\u001b[0;34m\u001b[0m\u001b[0m\n",
      "\u001b[0;32m~/anaconda3/lib/python3.9/subprocess.py\u001b[0m in \u001b[0;36mrun\u001b[0;34m(input, capture_output, timeout, check, *popenargs, **kwargs)\u001b[0m\n\u001b[1;32m    503\u001b[0m         \u001b[0mkwargs\u001b[0m\u001b[0;34m[\u001b[0m\u001b[0;34m'stderr'\u001b[0m\u001b[0;34m]\u001b[0m \u001b[0;34m=\u001b[0m \u001b[0mPIPE\u001b[0m\u001b[0;34m\u001b[0m\u001b[0;34m\u001b[0m\u001b[0m\n\u001b[1;32m    504\u001b[0m \u001b[0;34m\u001b[0m\u001b[0m\n\u001b[0;32m--> 505\u001b[0;31m     \u001b[0;32mwith\u001b[0m \u001b[0mPopen\u001b[0m\u001b[0;34m(\u001b[0m\u001b[0;34m*\u001b[0m\u001b[0mpopenargs\u001b[0m\u001b[0;34m,\u001b[0m \u001b[0;34m**\u001b[0m\u001b[0mkwargs\u001b[0m\u001b[0;34m)\u001b[0m \u001b[0;32mas\u001b[0m \u001b[0mprocess\u001b[0m\u001b[0;34m:\u001b[0m\u001b[0;34m\u001b[0m\u001b[0;34m\u001b[0m\u001b[0m\n\u001b[0m\u001b[1;32m    506\u001b[0m         \u001b[0;32mtry\u001b[0m\u001b[0;34m:\u001b[0m\u001b[0;34m\u001b[0m\u001b[0;34m\u001b[0m\u001b[0m\n\u001b[1;32m    507\u001b[0m             \u001b[0mstdout\u001b[0m\u001b[0;34m,\u001b[0m \u001b[0mstderr\u001b[0m \u001b[0;34m=\u001b[0m \u001b[0mprocess\u001b[0m\u001b[0;34m.\u001b[0m\u001b[0mcommunicate\u001b[0m\u001b[0;34m(\u001b[0m\u001b[0minput\u001b[0m\u001b[0;34m,\u001b[0m \u001b[0mtimeout\u001b[0m\u001b[0;34m=\u001b[0m\u001b[0mtimeout\u001b[0m\u001b[0;34m)\u001b[0m\u001b[0;34m\u001b[0m\u001b[0;34m\u001b[0m\u001b[0m\n",
      "\u001b[0;32m~/anaconda3/lib/python3.9/subprocess.py\u001b[0m in \u001b[0;36m__init__\u001b[0;34m(self, args, bufsize, executable, stdin, stdout, stderr, preexec_fn, close_fds, shell, cwd, env, universal_newlines, startupinfo, creationflags, restore_signals, start_new_session, pass_fds, user, group, extra_groups, encoding, errors, text, umask)\u001b[0m\n\u001b[1;32m    949\u001b[0m                             encoding=encoding, errors=errors)\n\u001b[1;32m    950\u001b[0m \u001b[0;34m\u001b[0m\u001b[0m\n\u001b[0;32m--> 951\u001b[0;31m             self._execute_child(args, executable, preexec_fn, close_fds,\n\u001b[0m\u001b[1;32m    952\u001b[0m                                 \u001b[0mpass_fds\u001b[0m\u001b[0;34m,\u001b[0m \u001b[0mcwd\u001b[0m\u001b[0;34m,\u001b[0m \u001b[0menv\u001b[0m\u001b[0;34m,\u001b[0m\u001b[0;34m\u001b[0m\u001b[0;34m\u001b[0m\u001b[0m\n\u001b[1;32m    953\u001b[0m                                 \u001b[0mstartupinfo\u001b[0m\u001b[0;34m,\u001b[0m \u001b[0mcreationflags\u001b[0m\u001b[0;34m,\u001b[0m \u001b[0mshell\u001b[0m\u001b[0;34m,\u001b[0m\u001b[0;34m\u001b[0m\u001b[0;34m\u001b[0m\u001b[0m\n",
      "\u001b[0;32m~/anaconda3/lib/python3.9/subprocess.py\u001b[0m in \u001b[0;36m_execute_child\u001b[0;34m(self, args, executable, preexec_fn, close_fds, pass_fds, cwd, env, startupinfo, creationflags, shell, p2cread, p2cwrite, c2pread, c2pwrite, errread, errwrite, restore_signals, gid, gids, uid, umask, start_new_session)\u001b[0m\n\u001b[1;32m   1752\u001b[0m                     \u001b[0mfds_to_keep\u001b[0m \u001b[0;34m=\u001b[0m \u001b[0mset\u001b[0m\u001b[0;34m(\u001b[0m\u001b[0mpass_fds\u001b[0m\u001b[0;34m)\u001b[0m\u001b[0;34m\u001b[0m\u001b[0;34m\u001b[0m\u001b[0m\n\u001b[1;32m   1753\u001b[0m                     \u001b[0mfds_to_keep\u001b[0m\u001b[0;34m.\u001b[0m\u001b[0madd\u001b[0m\u001b[0;34m(\u001b[0m\u001b[0merrpipe_write\u001b[0m\u001b[0;34m)\u001b[0m\u001b[0;34m\u001b[0m\u001b[0;34m\u001b[0m\u001b[0m\n\u001b[0;32m-> 1754\u001b[0;31m                     self.pid = _posixsubprocess.fork_exec(\n\u001b[0m\u001b[1;32m   1755\u001b[0m                             \u001b[0margs\u001b[0m\u001b[0;34m,\u001b[0m \u001b[0mexecutable_list\u001b[0m\u001b[0;34m,\u001b[0m\u001b[0;34m\u001b[0m\u001b[0;34m\u001b[0m\u001b[0m\n\u001b[1;32m   1756\u001b[0m                             \u001b[0mclose_fds\u001b[0m\u001b[0;34m,\u001b[0m \u001b[0mtuple\u001b[0m\u001b[0;34m(\u001b[0m\u001b[0msorted\u001b[0m\u001b[0;34m(\u001b[0m\u001b[0mmap\u001b[0m\u001b[0;34m(\u001b[0m\u001b[0mint\u001b[0m\u001b[0;34m,\u001b[0m \u001b[0mfds_to_keep\u001b[0m\u001b[0;34m)\u001b[0m\u001b[0;34m)\u001b[0m\u001b[0;34m)\u001b[0m\u001b[0;34m,\u001b[0m\u001b[0;34m\u001b[0m\u001b[0;34m\u001b[0m\u001b[0m\n",
      "\u001b[0;31mOSError\u001b[0m: [Errno 12] Cannot allocate memory"
     ]
    }
   ],
   "source": [
    "HTML(ani.to_html5_video())"
   ]
  },
  {
   "cell_type": "code",
   "execution_count": null,
   "metadata": {},
   "outputs": [],
   "source": []
  }
 ],
 "metadata": {
  "colab": {
   "collapsed_sections": [],
   "name": "3.Collective Effects - Bipolar Isotropic Gas with Spectrum",
   "provenance": [],
   "toc_visible": true
  },
  "kernelspec": {
   "display_name": "Python 3 (ipykernel)",
   "language": "python",
   "name": "python3"
  },
  "language_info": {
   "codemirror_mode": {
    "name": "ipython",
    "version": 3
   },
   "file_extension": ".py",
   "mimetype": "text/x-python",
   "name": "python",
   "nbconvert_exporter": "python",
   "pygments_lexer": "ipython3",
   "version": "3.9.7"
  }
 },
 "nbformat": 4,
 "nbformat_minor": 4
}
