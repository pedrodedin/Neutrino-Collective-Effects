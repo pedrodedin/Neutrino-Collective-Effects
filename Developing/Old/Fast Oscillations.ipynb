{
 "cells": [
  {
   "cell_type": "code",
   "execution_count": 1,
   "id": "206fdbd4",
   "metadata": {},
   "outputs": [],
   "source": [
    "#Importing Libraries\n",
    "from Plots import *\n",
    "from Auxiliar_Functions import *\n",
    "from scipy.integrate import odeint\n",
    "import matplotlib.pyplot as plt\n",
    "import time    \n",
    "from IPython.display import HTML"
   ]
  },
  {
   "cell_type": "markdown",
   "id": "b859fc41",
   "metadata": {},
   "source": [
    "## Table of Contents:\n",
    "* [1.EDOs](#first-bullet)\n",
    "* [2.Results](#second-bullet)"
   ]
  },
  {
   "cell_type": "markdown",
   "id": "997834d1",
   "metadata": {},
   "source": [
    "# 1. EDOs <a class=\"anchor\" id=\"first-bullet\"></a>"
   ]
  },
  {
   "cell_type": "code",
   "execution_count": 22,
   "id": "0411e0ff",
   "metadata": {},
   "outputs": [],
   "source": [
    "def theta_dist(theta,nu_type,case):\n",
    "    if nu_type==\"nu_x\":\n",
    "        return np.where(theta<-100,0,0.0)\n",
    "    if case==1:\n",
    "        if nu_type==\"nu_e\":\n",
    "            return np.where(theta<-100,0,0.5)\n",
    "        if nu_type==\"nubar_e\":\n",
    "            return np.where(theta<math.pi/3,1,0.25)\n",
    "    elif case==2:\n",
    "        if nu_type==\"nu_e\":\n",
    "            return np.where(theta<-100,0,0.5)\n",
    "        if nu_type==\"nubar_e\":\n",
    "            return np.where(theta<math.pi/4,1,0.5)\n",
    "    elif case==3:\n",
    "        if nu_type==\"nu_e\":\n",
    "            return np.where(theta<-100,0,0.5)\n",
    "        if nu_type==\"nubar_e\":\n",
    "            return np.where(theta<math.pi/3,0.5*1.5,0.5)\n",
    "    else:\n",
    "        print(\"Not a valid angular distribution!\")"
   ]
  },
  {
   "cell_type": "code",
   "execution_count": 23,
   "id": "aa550c7f",
   "metadata": {},
   "outputs": [
    {
     "data": {
      "image/png": "[encoded data removed]",
      "text/plain": [
       "<Figure size 504x360 with 1 Axes>"
      ]
     },
     "metadata": {
      "needs_background": "light"
     },
     "output_type": "display_data"
    }
   ],
   "source": [
    "theta_vec=np.arange(0,math.pi,0.01)\n",
    "plt.figure(figsize=(7,5))\n",
    "plt.plot(theta_vec,theta_dist(theta_vec,\"nu_e\",1),label=r\"$\\rho_{ee}(0)$\")\n",
    "plt.plot(theta_vec,theta_dist(theta_vec,\"nubar_e\",1),ls=\"--\",label=r\"$\\rho_{\\overline{ee}}(0)$ - Case 1\")\n",
    "plt.plot(theta_vec,theta_dist(theta_vec,\"nubar_e\",2),ls=\"--\",label=r\"$\\rho_{\\overline{ee}}(0)$ - Case 2\")\n",
    "plt.plot(theta_vec,theta_dist(theta_vec,\"nubar_e\",3),ls=\"--\",label=r\"$\\rho_{\\overline{ee}}(0)$ - Case 3\")\n",
    "plt.xlabel(r\"$\\theta$\")\n",
    "plt.ylabel(r\"$\\rho_{ee}$/$\\rho_{\\overline{ee}}$\")\n",
    "plt.legend()\n",
    "plt.show()"
   ]
  },
  {
   "cell_type": "code",
   "execution_count": 32,
   "id": "268949f2",
   "metadata": {},
   "outputs": [],
   "source": [
    "def initiate(nu_types,t_i,t_f,E_nu,mu_0,theta_bins,case):\n",
    "    y0=[] #Initial state\n",
    "    flavor_sign=1\n",
    "    omega=delta_m2_31/(2*E_nu*10**6) #eV \n",
    "\n",
    "#     theta_vec=np.arange(0,np.pi,theta_step)\n",
    "    theta_vec=np.linspace(0,np.pi,theta_bins)\n",
    "    theta_step=theta_vec[1]-theta_vec[0]\n",
    "    n_theta=len(theta_vec)\n",
    "    n_f=len(nu_types)\n",
    "    n_dim=(n_f**2)-1\n",
    "\n",
    "    for i in range(n_theta):        \n",
    "      for j in range(n_f):\n",
    "        if nu_types[j]==\"nu_x\":\n",
    "#           flavor_sign=-1\n",
    "          flavor_sign=0\n",
    "\n",
    "        if nu_types[j]==\"nu_e\":\n",
    "          flavor_sign=1\n",
    "        #nu\n",
    "        nu_spec=theta_dist(theta_vec[i],\"nu_e\",case)*theta_step\n",
    "        y0.append(0)\n",
    "        y0.append(0)\n",
    "        y0.append(flavor_sign*nu_spec)\n",
    "        #nubar\n",
    "        nu_spec=theta_dist(theta_vec[i],\"nubar_e\",case)*theta_step\n",
    "        y0.append(0)\n",
    "        y0.append(0)\n",
    "        y0.append(flavor_sign*nu_spec)\n",
    "\n",
    "    #r array\n",
    "    t_i = (t_i*3*10**5)*from_eV_to_1_over_km #eV⁻¹\n",
    "    t_f = (t_f*3*10**5)*from_eV_to_1_over_km #eV⁻¹\n",
    "#     t_step = t_f/5000 #eV⁻¹\n",
    "    t_step=(2*np.pi/max(omega,mu_0))/10\n",
    "    t = np.arange(t_i,t_f,t_step) #eV⁻¹\n",
    "\n",
    "    return y0,omega,E_nu,t,mu_0,n_f,n_dim,n_theta,theta_vec\n",
    "\n",
    "def func_Fast_Osc(y, time, params):\n",
    "    omega,E,t,mu_0,n_f,n_dim,n_theta,theta_vec= params  # unpack parameters\n",
    "    B=np.array(B_vec(n_dim,10**-6))\n",
    "    L=np.array(L_vec(n_dim))\n",
    "    mu=mu_0\n",
    "    lamb=lambda_supernova(t,\"no\",0)\n",
    "\n",
    "    derivs=[]\n",
    "    nu, nubar = [],[]\n",
    "    num_diff_nu_compnents=2*n_f*n_dim\n",
    "\n",
    "    #Filling [Theta bin][Nu_types][3components]\n",
    "    for i in range(n_theta):\n",
    "      nu.append([])\n",
    "      nubar.append([])\n",
    "      for j in range(n_f):\n",
    "        nu[i].append([])\n",
    "        nubar[i].append([])\n",
    "        for k in range(n_dim):\n",
    "          #nu \n",
    "          nu_index=(i*num_diff_nu_compnents)+k+2*j*n_dim\n",
    "          nu[i][j].append(y[nu_index])\n",
    "          #nubar   \n",
    "          nubar_index=(i*num_diff_nu_compnents)+(k+n_dim)+2*j*n_dim\n",
    "          nubar[i][j].append(y[nubar_index])\n",
    "    \n",
    "    #Summed nu and nubar components\n",
    "    nu_sum, nubar_sum=[],[]\n",
    "    nu_sum_theta, nubar_sum_theta=[],[]\n",
    "    nu_aux=np.transpose(nu,(2,0,1))\n",
    "    nubar_aux=np.transpose(nubar,(2,0,1))\n",
    "\n",
    "    for i in range(n_dim):\n",
    "      nu_sum.append(sum(map(sum,nu_aux[i])))\n",
    "      nubar_sum.append(sum(map(sum,nubar_aux[i])))\n",
    "      nu_sum_theta.append(sum(theta_vec*list(map(sum,nu_aux[i]))))\n",
    "      nubar_sum_theta.append(sum(theta_vec*list(map(sum,nubar_aux[i]))))\n",
    "    \n",
    "    B=np.array(B)\n",
    "    nu_sum=np.array(nu_sum)\n",
    "    nubar_sum=np.array(nubar_sum)\n",
    "    nu_sum_theta=np.array(nu_sum_theta)\n",
    "    nubar_sum_theta=np.array(nubar_sum_theta)\n",
    "    \n",
    "    # list of dy/dt=f functions\n",
    "    for i in range(n_theta):\n",
    "      for j in range(n_f):\n",
    "        #nu\n",
    "        aux=B*omega+L*lamb-mu*((nu_sum-nubar_sum)-np.cos(theta_vec[i])*(nu_sum_theta-nubar_sum_theta))\n",
    "        P_aux= cross_prod(nu[i][j],aux)\n",
    "        #P_aux= cross_prod(nu[i][j],(B*omega[i]+L*lamb-mu*(nu_sum-nubar_sum)))\n",
    "        for k in range(n_dim):\n",
    "          derivs.append(P_aux[k])\n",
    "        \n",
    "        #nubar\n",
    "        aux=-1*B*omega+L*lamb-mu*((nu_sum-nubar_sum)-np.cos(theta_vec[i])*(nu_sum_theta-nubar_sum_theta))\n",
    "        P_aux= cross_prod(nubar[i][j],aux)\n",
    "        #P_aux= cross_prod(nubar[i][j],(-1*B*omega[i]+L*lamb-mu*(nu_sum-nubar_sum)))\n",
    "        for k in range(n_dim):\n",
    "          derivs.append(P_aux[k])\n",
    "\n",
    "    return derivs\n",
    "\n",
    "def read_two_flavor_v2(nu, nubar):\n",
    "  nu_e_time,nubar_e_time=[],[]\n",
    "  nu_x_time,nubar_x_time=[],[]\n",
    "\n",
    "  for l in range(len(nu[0][0])): #time array length\n",
    "      nu_e_time.append([])\n",
    "      nubar_e_time.append([])\n",
    "      nu_x_time.append([])\n",
    "      nubar_x_time.append([])\n",
    "    \n",
    "      for i in range(len(nu[0][0][0])): \n",
    "        #nu\n",
    "        Pee=(1/2)*(1+nu[2][0][l][i]/nu[2][0][0][i])\n",
    "        Pxx=(1/2)*(1+nu[2][1][l][i]/nu[2][1][0][i])\n",
    "        if Pxx!=Pxx:\n",
    "            Pxx=1\n",
    "\n",
    "        nu_e_time[l].append(Pee*nu[2][0][0][i]+(1-Pxx)*(-1)*nu[2][1][0][i])\n",
    "        nu_x_time[l].append(Pxx*(-1)*nu[2][1][0][i]+(1-Pee)*nu[2][0][0][i])\n",
    "\n",
    "        #nubar\n",
    "        Pee=(1/2)*(1+nubar[2][0][l][i]/nubar[2][0][0][i])\n",
    "        Pxx=(1/2)*(1+nubar[2][1][l][i]/nubar[2][1][0][i])\n",
    "        if Pxx!=Pxx:\n",
    "            Pxx=1\n",
    "\n",
    "        nubar_e_time[l].append(Pee*nubar[2][0][0][i]+(1-Pxx)*(-1)*nubar[2][1][0][i])\n",
    "        nubar_x_time[l].append(Pxx*(-1)*nubar[2][1][0][i]+(1-Pee)*nubar[2][0][0][i])\n",
    "  return   nu_e_time,nubar_e_time, nu_x_time,nubar_x_time"
   ]
  },
  {
   "cell_type": "markdown",
   "id": "b1bab4bf",
   "metadata": {},
   "source": [
    "# 2. Results <a class=\"anchor\" id=\"second-bullet\"></a>\n",
    "\n",
    "Here we try to reproduce the results of [New Developments in Flavor Evolution of a Dense Neutrino Gas](https://arxiv.org/abs/2011.01948)"
   ]
  },
  {
   "cell_type": "markdown",
   "id": "3d9c0d4c",
   "metadata": {},
   "source": [
    "# New Developments in Flavor Evolution of a DenseNeutrino Gas"
   ]
  },
  {
   "cell_type": "code",
   "execution_count": 20,
   "id": "1f7cee1f",
   "metadata": {},
   "outputs": [
    {
     "name": "stdout",
     "output_type": "stream",
     "text": [
      "mu=2.0e-07 eV = 3.0e+08 s⁻¹\n",
      "w=1.9e+06 s⁻¹= 6.3e+00 km⁻¹\n",
      "T_vac=3.3e-06 s\n",
      "t_step=1.0e-06 s\n",
      "f_sampling = 5.0e+08 s⁻¹\n",
      "t_f=3.0e+00 km\n"
     ]
    }
   ],
   "source": [
    "t_i,t_f=0,1*10**(-5)\n",
    "case=1\n",
    "E_nu=1 #MeV\n",
    "# theta_step=0.01\n",
    "theta_bins=1000\n",
    "\n",
    "mu_0=10**3 #km⁻¹\n",
    "mu_0=mu_0/from_eV_to_1_over_km\n",
    "nu_types=['nu_e','nu_x']\n",
    "\n",
    "print(\"mu=%.1e eV = %.1e s⁻¹\"%(mu_0,mu_0*from_eV_to_1_over_m*3*10**8))\n",
    "print(\"w=%.1e s⁻¹= %.1e km⁻¹\"%(delta_m2_31/(2*E_nu*10**6)*from_eV_to_1_over_m*3*10**8,delta_m2_31/(2*E_nu*10**6)*from_eV_to_1_over_km))\n",
    "print(\"T_vac=%.1e s\"%(2*np.pi/(delta_m2_31/(2*E_nu*10**6)*from_eV_to_1_over_m*3*10**8)))\n",
    "print(\"t_step=%.1e s\"%(t_f/10))\n",
    "print(\"f_sampling = %.1e s⁻¹\"%(1/(t_f/5000)))\n",
    "print(\"t_f=%.1e km\"%(t_f*3*10**5))"
   ]
  },
  {
   "cell_type": "code",
   "execution_count": 21,
   "id": "f1a46c27",
   "metadata": {},
   "outputs": [
    {
     "ename": "TypeError",
     "evalue": "object of type 'numpy.float64' has no len()",
     "output_type": "error",
     "traceback": [
      "\u001b[0;31m---------------------------------------------------------------------------\u001b[0m",
      "\u001b[0;31mTypeError\u001b[0m                                 Traceback (most recent call last)",
      "Input \u001b[0;32mIn [21]\u001b[0m, in \u001b[0;36m<cell line: 2>\u001b[0;34m()\u001b[0m\n\u001b[1;32m      1\u001b[0m mass_ord\u001b[38;5;241m=\u001b[39m\u001b[38;5;124m\"\u001b[39m\u001b[38;5;124mNH\u001b[39m\u001b[38;5;124m\"\u001b[39m\n\u001b[0;32m----> 2\u001b[0m y0,omega,E,t,mu_0,n_f,n_dim,n_theta,theta_vec\u001b[38;5;241m=\u001b[39m\u001b[43minitiate\u001b[49m\u001b[43m(\u001b[49m\u001b[43mnu_types\u001b[49m\u001b[43m,\u001b[49m\u001b[43mt_i\u001b[49m\u001b[43m,\u001b[49m\u001b[43mt_f\u001b[49m\u001b[43m,\u001b[49m\u001b[43mE_nu\u001b[49m\u001b[43m,\u001b[49m\u001b[43mmu_0\u001b[49m\u001b[43m,\u001b[49m\u001b[43mtheta_bins\u001b[49m\u001b[43m,\u001b[49m\u001b[43mcase\u001b[49m\u001b[43m)\u001b[49m\n\u001b[1;32m      4\u001b[0m \u001b[38;5;28;01mif\u001b[39;00m mass_ord\u001b[38;5;241m==\u001b[39m\u001b[38;5;124m\"\u001b[39m\u001b[38;5;124mNH\u001b[39m\u001b[38;5;124m\"\u001b[39m: \n\u001b[1;32m      5\u001b[0m     params\u001b[38;5;241m=\u001b[39momega,E,t,mu_0,n_f,n_dim,n_theta,np\u001b[38;5;241m.\u001b[39marray(theta_vec)\n",
      "Input \u001b[0;32mIn [19]\u001b[0m, in \u001b[0;36minitiate\u001b[0;34m(nu_types, t_i, t_f, E_nu, mu_0, theta_bins, case)\u001b[0m\n\u001b[1;32m     18\u001b[0m   flavor_sign\u001b[38;5;241m=\u001b[39m\u001b[38;5;241m1\u001b[39m\n\u001b[1;32m     19\u001b[0m \u001b[38;5;66;03m#nu\u001b[39;00m\n\u001b[0;32m---> 20\u001b[0m nu_spec\u001b[38;5;241m=\u001b[39m\u001b[43mtheta_dist\u001b[49m\u001b[43m(\u001b[49m\u001b[43mtheta_vec\u001b[49m\u001b[43m[\u001b[49m\u001b[43mi\u001b[49m\u001b[43m]\u001b[49m\u001b[43m,\u001b[49m\u001b[43mnu_types\u001b[49m\u001b[43m[\u001b[49m\u001b[43mj\u001b[49m\u001b[43m]\u001b[49m\u001b[43m,\u001b[49m\u001b[43mcase\u001b[49m\u001b[43m)\u001b[49m\u001b[38;5;241m*\u001b[39mtheta_step\n\u001b[1;32m     21\u001b[0m y0\u001b[38;5;241m.\u001b[39mappend(\u001b[38;5;241m0\u001b[39m)\n\u001b[1;32m     22\u001b[0m y0\u001b[38;5;241m.\u001b[39mappend(\u001b[38;5;241m0\u001b[39m)\n",
      "Input \u001b[0;32mIn [17]\u001b[0m, in \u001b[0;36mtheta_dist\u001b[0;34m(theta, nu_type, case)\u001b[0m\n\u001b[1;32m      1\u001b[0m \u001b[38;5;28;01mdef\u001b[39;00m \u001b[38;5;21mtheta_dist\u001b[39m(theta,nu_type,case):\n\u001b[1;32m      2\u001b[0m     \u001b[38;5;28;01mif\u001b[39;00m nu_type\u001b[38;5;241m==\u001b[39m\u001b[38;5;124m\"\u001b[39m\u001b[38;5;124mnu_x\u001b[39m\u001b[38;5;124m\"\u001b[39m:\n\u001b[0;32m----> 3\u001b[0m         \u001b[38;5;28;01mreturn\u001b[39;00m np\u001b[38;5;241m.\u001b[39mfull(\u001b[38;5;28;43mlen\u001b[39;49m\u001b[43m(\u001b[49m\u001b[43mtheta\u001b[49m\u001b[43m)\u001b[49m, \u001b[38;5;241m0.0\u001b[39m)\n\u001b[1;32m      4\u001b[0m     \u001b[38;5;28;01mif\u001b[39;00m case\u001b[38;5;241m==\u001b[39m\u001b[38;5;241m1\u001b[39m:\n\u001b[1;32m      5\u001b[0m         \u001b[38;5;28;01mif\u001b[39;00m nu_type\u001b[38;5;241m==\u001b[39m\u001b[38;5;124m\"\u001b[39m\u001b[38;5;124mnu_e\u001b[39m\u001b[38;5;124m\"\u001b[39m:\n",
      "\u001b[0;31mTypeError\u001b[0m: object of type 'numpy.float64' has no len()"
     ]
    }
   ],
   "source": [
    "mass_ord=\"NH\"\n",
    "y0,omega,E,t,mu_0,n_f,n_dim,n_theta,theta_vec=initiate(nu_types,t_i,t_f,E_nu,mu_0,theta_bins,case)\n",
    "\n",
    "if mass_ord==\"NH\": \n",
    "    params=omega,E,t,mu_0,n_f,n_dim,n_theta,np.array(theta_vec)\n",
    "elif mass_ord==\"IH\":\n",
    "    params=-1*omega,E,t,mu_0,n_f,n_dim,n_theta,np.array(theta_vec)\n",
    "else:\n",
    "    print(\"Not a mass ordering option!\")\n",
    "    \n",
    "start_time = time.time()\n",
    "psoln_NH= odeint(func_Fast_Osc, y0, t, args=(params,))\n",
    "print(\"Took %s minutes\" % ((time.time() - start_time)/60))"
   ]
  },
  {
   "cell_type": "markdown",
   "id": "0d2183d4",
   "metadata": {},
   "source": [
    "# From Isotropic Gas"
   ]
  },
  {
   "cell_type": "code",
   "execution_count": 33,
   "id": "c5d4a90f",
   "metadata": {},
   "outputs": [
    {
     "name": "stdout",
     "output_type": "stream",
     "text": [
      "mu=1.0e-08 eV = 1.5e+07 s⁻¹\n",
      "w=9.5e+04 s⁻¹= 3.2e-01 km⁻¹\n",
      "T_vac=6.6e-05 s\n",
      "t_step=5.0e-09 s\n",
      "f_sampling = 1.0e+09 s⁻¹\n",
      "t_f=1.5e+00 km\n"
     ]
    }
   ],
   "source": [
    "t_i,t_f=0,5*10**(-6)\n",
    "case=1\n",
    "E_nu=20 #MeV\n",
    "# theta_step=0.01\n",
    "theta_bins=100\n",
    "\n",
    "mu_0=0.51*10**2 #km⁻¹\n",
    "mu_0=mu_0/from_eV_to_1_over_km\n",
    "nu_types=['nu_e','nu_x']\n",
    "\n",
    "print(\"mu=%.1e eV = %.1e s⁻¹\"%(mu_0,mu_0*from_eV_to_1_over_m*3*10**8))\n",
    "print(\"w=%.1e s⁻¹= %.1e km⁻¹\"%(delta_m2_31/(2*E_nu*10**6)*from_eV_to_1_over_m*3*10**8,delta_m2_31/(2*E_nu*10**6)*from_eV_to_1_over_km))\n",
    "print(\"T_vac=%.1e s\"%(2*np.pi/(delta_m2_31/(2*E_nu*10**6)*from_eV_to_1_over_m*3*10**8)))\n",
    "print(\"t_step=%.1e s\"%(t_f/1000))\n",
    "print(\"f_sampling = %.1e s⁻¹\"%(1/(t_f/5000)))\n",
    "print(\"t_f=%.1e km\"%(t_f*3*10**5))"
   ]
  },
  {
   "cell_type": "code",
   "execution_count": 34,
   "id": "02794912",
   "metadata": {},
   "outputs": [
    {
     "name": "stdout",
     "output_type": "stream",
     "text": [
      "Took 0.4833374500274658 minutes\n"
     ]
    }
   ],
   "source": [
    "mass_ord=\"IH\"\n",
    "y0,omega,E,t,mu_0,n_f,n_dim,n_theta,theta_vec=initiate(nu_types,t_i,t_f,E_nu,mu_0,theta_bins,case)\n",
    "\n",
    "if mass_ord==\"NH\": \n",
    "    params=omega,E,t,mu_0,n_f,n_dim,n_theta,np.array(theta_vec)\n",
    "elif mass_ord==\"IH\":\n",
    "    params=-1*omega,E,t,mu_0,n_f,n_dim,n_theta,np.array(theta_vec)\n",
    "else:\n",
    "    print(\"Not a mass ordering option!\")\n",
    "    \n",
    "start_time = time.time()\n",
    "psoln_IH= odeint(func_Fast_Osc, y0, t, args=(params,))\n",
    "print(\"Took %s minutes\" % ((time.time() - start_time)/60))"
   ]
  },
  {
   "cell_type": "code",
   "execution_count": 35,
   "id": "27369818",
   "metadata": {},
   "outputs": [],
   "source": [
    "nu_IH, nubar_IH= read_output(psoln_IH,(n_f,n_dim,n_theta))"
   ]
  },
  {
   "cell_type": "code",
   "execution_count": 36,
   "id": "097e4ea4",
   "metadata": {},
   "outputs": [],
   "source": [
    "rho_ex_theta_time= 1/2*np.sqrt(np.transpose(nu_IH,(0,1,3,2))[0][0]**2+np.transpose(nu_IH,(0,1,3,2))[1][0]**2)"
   ]
  },
  {
   "cell_type": "code",
   "execution_count": 37,
   "id": "3918b53b",
   "metadata": {},
   "outputs": [
    {
     "data": {
      "image/png": "[encoded data removed]",
      "text/plain": [
       "<Figure size 1080x360 with 3 Axes>"
      ]
     },
     "metadata": {
      "needs_background": "light"
     },
     "output_type": "display_data"
    }
   ],
   "source": [
    "theta_step=np.pi/theta_bins\n",
    "plt.figure(figsize=(15,5))\n",
    "plt.subplot(1,3,1)\n",
    "plt.plot(t/(3*10**5*from_eV_to_1_over_km),np.transpose(nu_IH,(0,1,3,2))[2][0][0]/theta_step)\n",
    "plt.plot(t/(3*10**5*from_eV_to_1_over_km),np.transpose(nu_IH,(0,1,3,2))[2][0][20]/theta_step)\n",
    "plt.plot(t/(3*10**5*from_eV_to_1_over_km),np.transpose(nu_IH,(0,1,3,2))[2][0][50]/theta_step)\n",
    "plt.plot(t/(3*10**5*from_eV_to_1_over_km),np.transpose(nu_IH,(0,1,3,2))[2][0][99]/theta_step)\n",
    "# plt.xlim(10**-4,2*10**-4)\n",
    "plt.xlim(3.95*10**-4,4*10**-4)\n",
    "# plt.ylim(0.2,0.5)\n",
    "\n",
    "plt.subplot(1,3,2)\n",
    "plt.plot(t/(3*10**5*from_eV_to_1_over_km),np.transpose(nu_IH,(0,1,3,2))[0][0][0]/theta_step)\n",
    "plt.plot(t/(3*10**5*from_eV_to_1_over_km),np.transpose(nu_IH,(0,1,3,2))[0][0][20]/theta_step)\n",
    "plt.plot(t/(3*10**5*from_eV_to_1_over_km),np.transpose(nu_IH,(0,1,3,2))[0][0][99]/theta_step)\n",
    "plt.xlim(0,10**-4)\n",
    "\n",
    "plt.subplot(1,3,3)\n",
    "plt.plot(t/(3*10**5*from_eV_to_1_over_km),rho_ex_theta_time[0]/theta_step)\n",
    "plt.plot(t/(3*10**5*from_eV_to_1_over_km),rho_ex_theta_time[20]/theta_step)\n",
    "plt.plot(t/(3*10**5*from_eV_to_1_over_km),rho_ex_theta_time[99]/theta_step)\n",
    "plt.xlim(0,5*10**-6)\n",
    "plt.yscale('log')"
   ]
  },
  {
   "cell_type": "code",
   "execution_count": null,
   "id": "a40838d2",
   "metadata": {},
   "outputs": [],
   "source": []
  }
 ],
 "metadata": {
  "kernelspec": {
   "display_name": "Python 3 (ipykernel)",
   "language": "python",
   "name": "python3"
  },
  "language_info": {
   "codemirror_mode": {
    "name": "ipython",
    "version": 3
   },
   "file_extension": ".py",
   "mimetype": "text/x-python",
   "name": "python",
   "nbconvert_exporter": "python",
   "pygments_lexer": "ipython3",
   "version": "3.9.7"
  }
 },
 "nbformat": 4,
 "nbformat_minor": 5
}
