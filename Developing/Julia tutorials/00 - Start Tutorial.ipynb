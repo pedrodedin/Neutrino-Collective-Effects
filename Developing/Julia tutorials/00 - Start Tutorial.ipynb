{
 "cells": [
  {
   "cell_type": "markdown",
   "metadata": {},
   "source": [
    "# An IJulia Notebook\n",
    "\n",
    "This is an **IJulia notebook**. It can mix code, multimedia results, headings, documentation, equations like $\\sqrt{\\int x^2 dx}$, and even interactive widgets.\n",
    "\n",
    "## Running Julia code\n",
    "\n",
    "In order to run Julia code, select the cell below and press Ctrl-Enter. "
   ]
  },
  {
   "cell_type": "code",
   "execution_count": 1,
   "metadata": {
    "collapsed": false
   },
   "outputs": [
    {
     "data": {
      "text/plain": [
       "2"
      ]
     },
     "execution_count": 1,
     "metadata": {},
     "output_type": "execute_result"
    }
   ],
   "source": [
    "1+1       # Try changing the numbers and press Ctrl-Enter again."
   ]
  },
  {
   "cell_type": "code",
   "execution_count": 2,
   "metadata": {
    "collapsed": false
   },
   "outputs": [
    {
     "data": {
      "text/plain": [
       "0.4393443113623947"
      ]
     },
     "execution_count": 2,
     "metadata": {},
     "output_type": "execute_result"
    }
   ],
   "source": [
    "rand()    # Press Ctrl-Enter repeatedly to generate new random numbers."
   ]
  },
  {
   "cell_type": "markdown",
   "metadata": {},
   "source": [
    "## Julia and IJulia examples:\n",
    "* [Julia Basics](Basics.ipynb)\n",
    "* [Plotting in Julia](Plotting in Julia.ipynb)\n",
    "* [Multiple Dispatch](Multiple Dispatch.ipynb)\n",
    "* [Calling C and Python](Calling C and Python.ipynb)\n",
    "* [Interactive Widgets](Interactive Widgets.ipynb)\n",
    "* [Metaprogramming](Metaprogramming.ipynb)\n",
    "\n",
    "These examples have been taken from [Steve Johnson's talk at EuroSciPy 2014](https://github.com/stevengj/Julia-EuroSciPy14).\n",
    "\n",
    "Go ahead and modify the tutorial notebooks to try out different examples. The entire tutorial folder gets refreshed with every login."
   ]
  }
 ],
 "metadata": {
  "kernelspec": {
   "display_name": "Julia 0.5.0",
   "language": "julia",
   "name": "julia-0.5"
  },
  "language_info": {
   "file_extension": ".jl",
   "mimetype": "application/julia",
   "name": "julia",
   "version": "0.5.0"
  }
 },
 "nbformat": 4,
 "nbformat_minor": 0
}
