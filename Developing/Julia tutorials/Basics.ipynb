{
 "cells": [
  {
   "cell_type": "markdown",
   "metadata": {},
   "source": [
    "# Julia Basics\n",
    "\n",
    "Julia is a dynamic language.  You don't need type declarations, and can change variable types dynamically and interactively.\n",
    "\n",
    "For working with simple numbers, arrays, and strings, its syntax is *superficially* similar to Matlab, Python, and other popular languages.\n",
    "\n",
    "In order to execute the \"In\" cells, select the cell and press Shift-Enter, or press the Play button above. To run the entire notebook, navigate to Cell and then click Run All."
   ]
  },
  {
   "cell_type": "code",
   "execution_count": 1,
   "metadata": {
    "collapsed": false
   },
   "outputs": [
    {
     "data": {
      "text/plain": [
       "10×300 Array{Float64,2}:\n",
       " 0.601102   0.545478  0.906272  0.398077  …  0.659722  0.0193259  0.493484 \n",
       " 0.0716165  0.500614  0.406478  0.851484     0.919554  0.206508   0.239634 \n",
       " 0.670625   0.469405  0.871157  0.439927     0.36548   0.361499   0.296581 \n",
       " 0.843612   0.744969  0.20099   0.363494     0.609047  0.373218   0.0133326\n",
       " 0.677346   0.714646  0.592945  0.572062     0.201304  0.0983049  0.333854 \n",
       " 0.529378   0.98971   0.740716  0.445254  …  0.562897  0.528341   0.390515 \n",
       " 0.429954   0.197207  0.555682  0.36379      0.369002  0.230761   0.147777 \n",
       " 0.305452   0.148601  0.721603  0.212736     0.457648  0.020073   0.783245 \n",
       " 0.854558   0.131547  0.433203  0.588435     0.723114  0.901864   0.226535 \n",
       " 0.06325    0.803508  0.889544  0.413003     0.705337  0.886079   0.178953 "
      ]
     },
     "execution_count": 1,
     "metadata": {},
     "output_type": "execute_result"
    }
   ],
   "source": [
    "A = rand(10,300)"
   ]
  },
  {
   "cell_type": "markdown",
   "metadata": {},
   "source": [
    "It has all of the usual built-in Matlab/Numpy-like linear-algebra and vector functions:"
   ]
  },
  {
   "cell_type": "code",
   "execution_count": 2,
   "metadata": {
    "collapsed": false
   },
   "outputs": [
    {
     "data": {
      "text/plain": [
       "300-element Array{Float64,1}:\n",
       "  -4.16451e-13\n",
       "  -3.70282e-13\n",
       "  -2.85379e-13\n",
       "  -2.25732e-13\n",
       "  -1.92911e-13\n",
       "  -1.60442e-13\n",
       "  -1.38125e-13\n",
       "  -1.02445e-13\n",
       "  -9.05251e-14\n",
       "  -7.68042e-14\n",
       "  -5.05736e-14\n",
       "  -4.42838e-14\n",
       "  -4.23436e-14\n",
       "   ⋮          \n",
       "   3.32291e-13\n",
       "   3.89741e-13\n",
       "  17.1969     \n",
       "  19.7795     \n",
       "  20.6154     \n",
       "  22.868      \n",
       "  24.1414     \n",
       "  26.2514     \n",
       "  29.3138     \n",
       "  30.9734     \n",
       "  32.2518     \n",
       " 793.245      "
      ]
     },
     "execution_count": 2,
     "metadata": {},
     "output_type": "execute_result"
    }
   ],
   "source": [
    "b = rand(10) # a random rank-10 vector\n",
    "x = A \\ b    # solve for x satisfying A*x = b; has rank 300\n",
    "B = A' * A   # A-transpose multiplied by A; is a 300x300 symmetrix matrix with real eigenvalues\n",
    "eigvals(B)"
   ]
  },
  {
   "cell_type": "markdown",
   "metadata": {},
   "source": [
    "It also supports convenient vectorisation of functions using the `.` operator:"
   ]
  },
  {
   "cell_type": "code",
   "execution_count": 3,
   "metadata": {
    "collapsed": false
   },
   "outputs": [
    {
     "data": {
      "text/plain": [
       "300-element Array{Float64,1}:\n",
       " -6.02299\n",
       " -5.93161\n",
       " -5.96133\n",
       " -6.0167 \n",
       " -5.96599\n",
       " -6.05746\n",
       " -6.12523\n",
       " -5.97322\n",
       " -5.99125\n",
       " -5.96492\n",
       " -6.00245\n",
       " -5.95491\n",
       " -5.99214\n",
       "  ⋮      \n",
       " -6.03991\n",
       " -5.9894 \n",
       " -5.04053\n",
       " -4.998  \n",
       " -5.02277\n",
       " -5.06534\n",
       " -4.96746\n",
       " -4.96039\n",
       " -4.98431\n",
       " -4.97944\n",
       " -5.02127\n",
       " -4.95307"
      ]
     },
     "execution_count": 3,
     "metadata": {},
     "output_type": "execute_result"
    }
   ],
   "source": [
    "erf.(eigvals(B)) - 2x.^2 + 4x - 6"
   ]
  },
  {
   "cell_type": "markdown",
   "metadata": {},
   "source": [
    "Complex numbers and arbitrary-precision arithmetic (via MPFR) are available, of course."
   ]
  },
  {
   "cell_type": "code",
   "execution_count": 4,
   "metadata": {
    "collapsed": false
   },
   "outputs": [
    {
     "data": {
      "text/plain": [
       "-2.703494560307422464769480266827091348467753695567661661019265514673434246483996e+01 - 3.851153334811777536563337123053124569704160846091637003157728595256494186490506im"
      ]
     },
     "execution_count": 4,
     "metadata": {},
     "output_type": "execute_result"
    }
   ],
   "source": [
    "cos(big(3 + 4im))"
   ]
  },
  {
   "cell_type": "markdown",
   "metadata": {},
   "source": [
    "## Unicode\n",
    "\n",
    "All strings are UTF-8 encoded Unicode by default (UTF-16 and UTF-32 also supported):"
   ]
  },
  {
   "cell_type": "code",
   "execution_count": 5,
   "metadata": {
    "collapsed": false
   },
   "outputs": [
    {
     "data": {
      "text/plain": [
       "3-element Array{SubString{String},1}:\n",
       " \" is\"    \n",
       " \" a\"     \n",
       " \" letter\""
      ]
     },
     "execution_count": 5,
     "metadata": {},
     "output_type": "execute_result"
    }
   ],
   "source": [
    "matchall(r\"\\s[a-z]+\", \"α is a Grëék letter\") # regex search of a Unicode string"
   ]
  },
  {
   "cell_type": "markdown",
   "metadata": {},
   "source": [
    "Like Python 3, variable names can be Unicode, but Julia allows a somewhat wider range of codepoints in identifiers, which can be typed by LaTeX-like tab-completion *\\alpha[TAB]\\hat[TAB]\\_2[TAB]\\prime*."
   ]
  },
  {
   "cell_type": "code",
   "execution_count": 6,
   "metadata": {
    "collapsed": false
   },
   "outputs": [
    {
     "data": {
      "text/plain": [
       "7.3820020773540256e-34"
      ]
     },
     "execution_count": 6,
     "metadata": {},
     "output_type": "execute_result"
    }
   ],
   "source": [
    "α̂₂′ = 7\n",
    "ħ = 6.62606957e-34 / 2π\n",
    "ẋ = ħ * α̂₂′"
   ]
  },
  {
   "cell_type": "markdown",
   "metadata": {},
   "source": [
    "Unlike Python 3, Unicode math operators are parsed as infix operators, which are available for user-defined meanings:"
   ]
  },
  {
   "cell_type": "code",
   "execution_count": 7,
   "metadata": {
    "collapsed": false
   },
   "outputs": [
    {
     "data": {
      "text/plain": [
       "(false,true,true)"
      ]
     },
     "execution_count": 7,
     "metadata": {},
     "output_type": "execute_result"
    }
   ],
   "source": [
    "≪(x,y) = x < 0.1*y\n",
    "50 ≪ 100, 5 ≪ 100, 5 ≤ 50"
   ]
  },
  {
   "cell_type": "code",
   "execution_count": 8,
   "metadata": {
    "collapsed": false
   },
   "outputs": [
    {
     "data": {
      "text/plain": [
       "4×4 Array{Float64,2}:\n",
       " 0.952167   0.253814  0.0        0.0     \n",
       " 0.0724192  0.902237  0.0        0.0     \n",
       " 0.0        0.0       0.952167   0.253814\n",
       " 0.0        0.0       0.0724192  0.902237"
      ]
     },
     "execution_count": 8,
     "metadata": {},
     "output_type": "execute_result"
    }
   ],
   "source": [
    "const ⊗ = kron\n",
    "eye(2,2) ⊗ rand(2,2)"
   ]
  },
  {
   "cell_type": "markdown",
   "metadata": {},
   "source": [
    "## Functions and JIT-compilation\n",
    "\n",
    "Functions can be defined in several ways, and *don't require type-declarations*."
   ]
  },
  {
   "cell_type": "code",
   "execution_count": 9,
   "metadata": {
    "collapsed": false
   },
   "outputs": [
    {
     "data": {
      "text/plain": [
       "(::#1) (generic function with 1 method)"
      ]
     },
     "execution_count": 9,
     "metadata": {},
     "output_type": "execute_result"
    }
   ],
   "source": [
    "# verbose form:\n",
    "function foo(x)\n",
    "    return x + 1\n",
    "end\n",
    "\n",
    "# one-line form:\n",
    "bar(x) = x + 2\n",
    "\n",
    "# anonymous function\n",
    "x -> x + 3"
   ]
  },
  {
   "cell_type": "code",
   "execution_count": 10,
   "metadata": {
    "collapsed": false
   },
   "outputs": [
    {
     "data": {
      "text/plain": [
       "4"
      ]
     },
     "execution_count": 10,
     "metadata": {},
     "output_type": "execute_result"
    }
   ],
   "source": [
    "foo(3) # compiles foo for Int arguments"
   ]
  },
  {
   "cell_type": "code",
   "execution_count": 11,
   "metadata": {
    "collapsed": false
   },
   "outputs": [
    {
     "data": {
      "text/plain": [
       "8"
      ]
     },
     "execution_count": 11,
     "metadata": {},
     "output_type": "execute_result"
    }
   ],
   "source": [
    "foo(7) # re-uses compiled foo(Int)"
   ]
  },
  {
   "cell_type": "code",
   "execution_count": 12,
   "metadata": {
    "collapsed": false
   },
   "outputs": [
    {
     "data": {
      "text/plain": [
       "8.3"
      ]
     },
     "execution_count": 12,
     "metadata": {},
     "output_type": "execute_result"
    }
   ],
   "source": [
    "foo(7.3) # compiles a different version for Float64 arguments"
   ]
  },
  {
   "cell_type": "code",
   "execution_count": 13,
   "metadata": {
    "collapsed": false
   },
   "outputs": [
    {
     "data": {
      "text/plain": [
       "4-element Array{Int64,1}:\n",
       "  2\n",
       "  3\n",
       "  8\n",
       " 10"
      ]
     },
     "execution_count": 13,
     "metadata": {},
     "output_type": "execute_result"
    }
   ],
   "source": [
    "foo([1,2,7,9]) # compiles a different version for Array{Int,1} arguments"
   ]
  }
 ],
 "metadata": {
  "kernelspec": {
   "display_name": "Julia 0.5.0",
   "language": "julia",
   "name": "julia-0.5"
  },
  "language_info": {
   "file_extension": ".jl",
   "mimetype": "application/julia",
   "name": "julia",
   "version": "0.5.0"
  }
 },
 "nbformat": 4,
 "nbformat_minor": 0
}
