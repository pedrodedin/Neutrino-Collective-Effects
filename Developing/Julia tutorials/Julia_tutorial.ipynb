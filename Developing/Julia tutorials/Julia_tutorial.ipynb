{
 "cells": [
  {
   "cell_type": "code",
   "execution_count": 1,
   "id": "15c22d7d",
   "metadata": {},
   "outputs": [
    {
     "name": "stdout",
     "output_type": "stream",
     "text": [
      "Hellow World!\n"
     ]
    }
   ],
   "source": [
    "println(\"Hellow World!\")"
   ]
  },
  {
   "cell_type": "markdown",
   "id": "7bf66a6c",
   "metadata": {},
   "source": [
    "# Math"
   ]
  },
  {
   "cell_type": "code",
   "execution_count": 2,
   "id": "cbcb2f9e",
   "metadata": {},
   "outputs": [
    {
     "data": {
      "text/plain": [
       "100"
      ]
     },
     "execution_count": 2,
     "metadata": {},
     "output_type": "execute_result"
    }
   ],
   "source": [
    "10^2"
   ]
  },
  {
   "cell_type": "markdown",
   "id": "a5d49ba3",
   "metadata": {},
   "source": [
    "# Strings"
   ]
  },
  {
   "cell_type": "code",
   "execution_count": 6,
   "id": "66159077",
   "metadata": {},
   "outputs": [
    {
     "name": "stdout",
     "output_type": "stream",
     "text": [
      "My name is Slim Shady.\n",
      "My name is what?.My name is who?.My name is Slim Shady.\n"
     ]
    }
   ],
   "source": [
    "name=\"Slim Shady\"\n",
    "println(\"My name is $name.\")\n",
    "\n",
    "println(\"My name is what?.\",\"My name is who?.\",\"My name is $name.\")"
   ]
  },
  {
   "cell_type": "markdown",
   "id": "e09c94de",
   "metadata": {},
   "source": [
    "# Data Structures\n",
    "\n",
    "1. Dictionaries (not-ordered)\n",
    "2. Tuples (ordered, immutable)\n",
    "3. Arrays (ordered, mutable)"
   ]
  },
  {
   "cell_type": "code",
   "execution_count": 12,
   "id": "6ebc4bc7",
   "metadata": {},
   "outputs": [
    {
     "data": {
      "text/plain": [
       "10"
      ]
     },
     "execution_count": 12,
     "metadata": {},
     "output_type": "execute_result"
    }
   ],
   "source": [
    "a=10\n",
    "b=a\n",
    "b=20\n",
    "a"
   ]
  },
  {
   "cell_type": "code",
   "execution_count": 18,
   "id": "ef830338",
   "metadata": {},
   "outputs": [
    {
     "name": "stdout",
     "output_type": "stream",
     "text": [
      "[5, 10]\n"
     ]
    }
   ],
   "source": [
    "A=[10,10]\n",
    "B=A\n",
    "B[1]=5\n",
    "println(A)"
   ]
  },
  {
   "cell_type": "code",
   "execution_count": null,
   "id": "e27e20d7",
   "metadata": {},
   "outputs": [],
   "source": []
  }
 ],
 "metadata": {
  "kernelspec": {
   "display_name": "Julia 1.8.2",
   "language": "julia",
   "name": "julia-1.8"
  },
  "language_info": {
   "file_extension": ".jl",
   "mimetype": "application/julia",
   "name": "julia",
   "version": "1.8.2"
  }
 },
 "nbformat": 4,
 "nbformat_minor": 5
}
