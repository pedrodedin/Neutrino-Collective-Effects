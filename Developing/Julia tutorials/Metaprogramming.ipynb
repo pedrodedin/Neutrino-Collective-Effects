{
 "cells": [
  {
   "cell_type": "markdown",
   "metadata": {},
   "source": [
    "# Metaprogramming in Julia\n",
    "\n",
    "**Metaprogramming** is writing **code that writes code**.\n",
    "\n",
    "Inspired by several other languages, notably Scheme, Julia provides *built-in* facilities for metaprogramming:\n",
    "\n",
    "* Julia provides access to its parser and [abstract syntax tree](http://en.wikipedia.org/wiki/Abstract_syntax_tree): You can get a *symbolic representation* of any Julia code.\n",
    "\n",
    "* You can manipulate these symbolic representations to transform and generate Julia code at runtime, and *evaluate* it to run the resulting code.\n",
    "\n",
    "* Julia provides **symbolic macros**: these are essentially functions evaluated at *parse time* which take the *syntax tree* of the code, perform arbitrary transformations, and insert new code to be later compiled.\n",
    "\n",
    "Julia macros, inspired by Scheme's [hygienic macros](http://en.wikipedia.org/wiki/Hygienic_macro), effectively allow you to both **extend the syntax of Julia** with arbitrary parse-time code generation.\n",
    "\n",
    "## Symbolic expressions in Julia\n",
    "\n",
    "The following, predictably, does not work:"
   ]
  },
  {
   "cell_type": "code",
   "execution_count": 1,
   "metadata": {
    "collapsed": false
   },
   "outputs": [
    {
     "ename": "LoadError",
     "evalue": "LoadError: UndefVarError: x not defined\nwhile loading In[1], in expression starting on line 1",
     "output_type": "error",
     "traceback": [
      "LoadError: UndefVarError: x not defined\nwhile loading In[1], in expression starting on line 1",
      ""
     ]
    }
   ],
   "source": [
    "ex = x - 2y"
   ]
  },
  {
   "cell_type": "markdown",
   "metadata": {},
   "source": [
    "But using `:(.....)` or `quote .... end` produces a **symbolic expression** of type `Expr`, which contains the **parsed syntax tree** of a Julia expression."
   ]
  },
  {
   "cell_type": "code",
   "execution_count": 2,
   "metadata": {
    "collapsed": false
   },
   "outputs": [
    {
     "data": {
      "text/plain": [
       ":(x - 2y)"
      ]
     },
     "execution_count": 2,
     "metadata": {},
     "output_type": "execute_result"
    }
   ],
   "source": [
    "ex = :(x - 2y)"
   ]
  },
  {
   "cell_type": "markdown",
   "metadata": {},
   "source": [
    "The `dump` function uses **introspection** to print the contents of any data structure:"
   ]
  },
  {
   "cell_type": "code",
   "execution_count": 3,
   "metadata": {
    "collapsed": false
   },
   "outputs": [
    {
     "name": "stdout",
     "output_type": "stream",
     "text": [
      "Expr\n",
      "  head: Symbol call\n",
      "  args: Array{Any}((3,))\n",
      "    1: Symbol -\n",
      "    2: Symbol x\n",
      "    3: Expr\n",
      "      head: Symbol call\n",
      "      args: Array{Any}((3,))\n",
      "        1: Symbol *\n",
      "        2: Int64 2\n",
      "        3: Symbol y\n",
      "      typ: Any\n",
      "  typ: Any\n"
     ]
    }
   ],
   "source": [
    "dump(ex)"
   ]
  },
  {
   "cell_type": "markdown",
   "metadata": {},
   "source": [
    "## Macros in Julia\n",
    "\n",
    "Essentially **functions evaluated at parse-time**, which take a **symbolic expression** as input and produce **another expression** as output, which is **inserted into the code** before compilation:\n",
    "\n",
    "### parse → expressions → macro → new expr. → compile \n",
    "\n",
    "A simple macro example: **reverse the order of function arguments**"
   ]
  },
  {
   "cell_type": "code",
   "execution_count": 4,
   "metadata": {
    "collapsed": false
   },
   "outputs": [
    {
     "data": {
      "text/plain": [
       "@reverse (macro with 1 method)"
      ]
     },
     "execution_count": 4,
     "metadata": {},
     "output_type": "execute_result"
    }
   ],
   "source": [
    "macro reverse(ex)\n",
    "    if isa(ex, Expr) && ex.head == :call\n",
    "        return Expr(:call, ex.args[1], reverse(ex.args[2:end])...)\n",
    "    else\n",
    "        return ex\n",
    "    end\n",
    "end"
   ]
  },
  {
   "cell_type": "code",
   "execution_count": 5,
   "metadata": {
    "collapsed": false
   },
   "outputs": [
    {
     "data": {
      "text/plain": [
       "3"
      ]
     },
     "execution_count": 5,
     "metadata": {},
     "output_type": "execute_result"
    }
   ],
   "source": [
    "# equivalent to 4 - 1\n",
    "@reverse 1 - 4"
   ]
  },
  {
   "cell_type": "markdown",
   "metadata": {},
   "source": [
    "## A useful macro: Polynomial evaluation by Horner\n",
    "\n",
    "The following macro evaluates the polynomial\n",
    "\n",
    "* $p(x) = c_0 + c_1 x + \\cdots + c_n x^n$\n",
    "\n",
    "by **Horner's rule**\n",
    "\n",
    "* $c_0 + x \\cdot (c_1 + x \\cdot (c_2 + x \\cdot (c_3 + \\cdots)))$:"
   ]
  },
  {
   "cell_type": "code",
   "execution_count": 6,
   "metadata": {
    "collapsed": false
   },
   "outputs": [
    {
     "data": {
      "text/plain": [
       "@horner (macro with 1 method)"
      ]
     },
     "execution_count": 6,
     "metadata": {},
     "output_type": "execute_result"
    }
   ],
   "source": [
    "macro horner(x, c...)\n",
    "    ex = esc(c[end])\n",
    "    for i = length(c)-1:-1:1\n",
    "        ex = :($(esc(c[i])) + t * $ex)\n",
    "    end\n",
    "    return Expr(:block, :(t = $(esc(x))), ex)\n",
    "end"
   ]
  },
  {
   "cell_type": "markdown",
   "metadata": {},
   "source": [
    "### Special-function evaluation\n",
    "\n",
    "Fast inline polynomial evaluation is very useful for **special functions**.  For example, evaluating the inverse $\\mathrm{erf}^{-1}(x)$ of the **error function**:\n",
    "\n",
    "* $\\mathrm{erf}(x) = \\frac{2}{\\sqrt{pi}} \\int_0^x e^{-t^2} dt$\n",
    "\n",
    "via **rational approximants** (ratios of polynomials) [Blair (1976)]:"
   ]
  },
  {
   "cell_type": "code",
   "execution_count": 7,
   "metadata": {
    "collapsed": false
   },
   "outputs": [
    {
     "data": {
      "text/plain": [
       "my_erfinv (generic function with 2 methods)"
      ]
     },
     "execution_count": 7,
     "metadata": {},
     "output_type": "execute_result"
    }
   ],
   "source": [
    "function my_erfinv(x::Float32) # specialized for single-precision args\n",
    "    a = abs(x)\n",
    "    if a >= 1.0f0\n",
    "        if x == 1.0f0\n",
    "            return inf(Float32)\n",
    "        elseif x == -1.0f0\n",
    "            return -inf(Float32)\n",
    "        end\n",
    "        throw(DomainError())\n",
    "    elseif a <= 0.75f0 # Table 10 in Blair et al.                               \n",
    "        t = x*x - 0.5625f0\n",
    "        return x * @horner(t, -0.13095_99674_22f2,\n",
    "                               0.26785_22576_0f2,\n",
    "                              -0.92890_57365f1) /\n",
    "                   @horner(t, -0.12074_94262_97f2,\n",
    "                               0.30960_61452_9f2,\n",
    "                              -0.17149_97799_1f2,\n",
    "                               0.1f1)\n",
    "    elseif a <= 0.9375f0 # Table 29 in Blair et al.                             \n",
    "        t = x*x - 0.87890625f0\n",
    "        return x * @horner(t, -0.12402_56522_1f0,\n",
    "                               0.10688_05957_4f1,\n",
    "                              -0.19594_55607_8f1,\n",
    "                               0.42305_81357f0) /\n",
    "                   @horner(t, -0.88276_97997f-1,\n",
    "                               0.89007_43359f0,\n",
    "                              -0.21757_03119_6f1,\n",
    "                               0.1f1)\n",
    "    else # Table 50 in Blair et al.                                             \n",
    "        t = 1.0f0 / sqrt(-log(1.0f0 - a))\n",
    "        return @horner(t, 0.15504_70003_116f0,\n",
    "                          0.13827_19649_631f1,\n",
    "                          0.69096_93488_87f0,\n",
    "                         -0.11280_81391_617f1,\n",
    "                          0.68054_42468_25f0,\n",
    "                         -0.16444_15679_1f0) /\n",
    "              (copysign(t, x) *\n",
    "               @horner(t, 0.15502_48498_22f0,\n",
    "                          0.13852_28141_995f1,\n",
    "                          0.1f1))\n",
    "    end\n",
    "end\n",
    "@vectorize_1arg Real my_erfinv"
   ]
  },
  {
   "cell_type": "markdown",
   "metadata": {},
   "source": [
    "This is precisely how `erfinv` is implemented in Julia (in single and double precision), and is ***3–4× faster*** than the compiled (Fortran?) code in Matlab, and ***2–3× faster*** than the compiled (Fortran Cephes) code used in SciPy.\n",
    "\n",
    "The difference (at least in Cephes) seems to be mainly that **they have explicit arrays of polynomial coefficients** and call a **subroutine** for Horner's rule, versus inlining it via a macro."
   ]
  },
  {
   "cell_type": "code",
   "execution_count": 8,
   "metadata": {
    "collapsed": false
   },
   "outputs": [
    {
     "ename": "LoadError",
     "evalue": "LoadError: UndefVarError: x not defined\nwhile loading In[8], in expression starting on line 184",
     "output_type": "error",
     "traceback": [
      "LoadError: UndefVarError: x not defined\nwhile loading In[8], in expression starting on line 184",
      ""
     ]
    }
   ],
   "source": [
    "@time erfinv(x);\n",
    "\n",
    "using PyCall\n",
    "@pyimport scipy.special as s\n",
    "x = rand(10^7);\n",
    "@time s.erfinv(x);\n",
    "norm(erfinv(x) - s.erfinv(x)) / norm(erfinv(x))"
   ]
  }
 ],
 "metadata": {
  "kernelspec": {
   "display_name": "Julia 0.5.0",
   "language": "julia",
   "name": "julia-0.5"
  },
  "language": "Julia",
  "language_info": {
   "file_extension": ".jl",
   "mimetype": "application/julia",
   "name": "julia",
   "version": "0.5.0"
  }
 },
 "nbformat": 4,
 "nbformat_minor": 0
}
