{
 "cells": [
  {
   "cell_type": "markdown",
   "metadata": {},
   "source": [
    "# (Dynamic) Multiple Dispatch in Julia\n",
    "\n",
    "[Multiple dispatch](http://en.wikipedia.org/wiki/Multiple_dispatch) can be thought of as a generalization of **object-oriented** (OO) programming.\n",
    "\n",
    "In a typical OO language like Python, an object type (class) *owns* certain *methods* (functions), and are typically called via\n",
    "```\n",
    "object.method(arg1, arg2)\n",
    "```\n",
    "Depending on the type of `object`, the runtime system will *dispatch* to different `method` definitions.\n",
    "\n",
    "In Julia, the same call would be \"spelled\" differently:\n",
    "```\n",
    "method(object, arg1, arg2)\n",
    "```\n",
    "Spelled this way, you should notice something odd about OO programming: why is the *first* argument so special?\n",
    "\n",
    "Traditional OO programming corresponds to **single dispatch**: the runtime chooses `method` based on the type of the *first* argument only.   Julia implements **multiple dispatch**: the runtime chooses `method` based on the types of *all* the arguments.\n",
    "\n",
    "## Example: Binary mathematical operators\n",
    "\n",
    "A classic example of the need for multiple dispatch is the case of binary math operators.  If you compute `x * y`, the definition of the `*` function depends upon *both* the arguments, not just on `x`.\n",
    "\n",
    "Julia defines *many versions* of the `*` function:"
   ]
  },
  {
   "cell_type": "code",
   "execution_count": 1,
   "metadata": {
    "collapsed": false
   },
   "outputs": [
    {
     "data": {
      "text/html": [
       "149 methods for generic function <b>*</b>:<ul><li> *(x::<b>Bool</b>, z::<b>Complex{Bool}</b>) at <a href=\"https://github.com/JuliaLang/julia/tree/3c9d75391c72d7c32eea75ff187ce77b2d5effc8/base/complex.jl#L140\" target=\"_blank\">complex.jl:140</a></li> <li> *(x::<b>Bool</b>, y::<b>Bool</b>) at <a href=\"https://github.com/JuliaLang/julia/tree/3c9d75391c72d7c32eea75ff187ce77b2d5effc8/base/bool.jl#L50\" target=\"_blank\">bool.jl:50</a></li> <li> *<i>{T<:Unsigned}</i>(x::<b>Bool</b>, y::<b>T</b>) at <a href=\"https://github.com/JuliaLang/julia/tree/3c9d75391c72d7c32eea75ff187ce77b2d5effc8/base/bool.jl#L63\" target=\"_blank\">bool.jl:63</a></li> <li> *(x::<b>Bool</b>, z::<b>Complex</b>) at <a href=\"https://github.com/JuliaLang/julia/tree/3c9d75391c72d7c32eea75ff187ce77b2d5effc8/base/complex.jl#L147\" target=\"_blank\">complex.jl:147</a></li> <li> *(x::<b>Bool</b>, y::<b>Irrational</b>) at <a href=\"https://github.com/JuliaLang/julia/tree/3c9d75391c72d7c32eea75ff187ce77b2d5effc8/base/irrationals.jl#L90\" target=\"_blank\">irrationals.jl:90</a></li> <li> *<i>{T<:Number}</i>(x::<b>Bool</b>, y::<b>T</b>) at <a href=\"https://github.com/JuliaLang/julia/tree/3c9d75391c72d7c32eea75ff187ce77b2d5effc8/base/bool.jl#L60\" target=\"_blank\">bool.jl:60</a></li> <li> *(x::<b>Float32</b>, y::<b>Float32</b>) at <a href=\"https://github.com/JuliaLang/julia/tree/3c9d75391c72d7c32eea75ff187ce77b2d5effc8/base/float.jl#L243\" target=\"_blank\">float.jl:243</a></li> <li> *(x::<b>Float64</b>, y::<b>Float64</b>) at <a href=\"https://github.com/JuliaLang/julia/tree/3c9d75391c72d7c32eea75ff187ce77b2d5effc8/base/float.jl#L244\" target=\"_blank\">float.jl:244</a></li> <li> *(z::<b>Complex{Bool}</b>, x::<b>Bool</b>) at <a href=\"https://github.com/JuliaLang/julia/tree/3c9d75391c72d7c32eea75ff187ce77b2d5effc8/base/complex.jl#L141\" target=\"_blank\">complex.jl:141</a></li> <li> *(z::<b>Complex{Bool}</b>, x::<b>Real</b>) at <a href=\"https://github.com/JuliaLang/julia/tree/3c9d75391c72d7c32eea75ff187ce77b2d5effc8/base/complex.jl#L159\" target=\"_blank\">complex.jl:159</a></li> <li> *(a::<b>Float16</b>, b::<b>Float16</b>) at <a href=\"https://github.com/JuliaLang/julia/tree/3c9d75391c72d7c32eea75ff187ce77b2d5effc8/base/float16.jl#L136\" target=\"_blank\">float16.jl:136</a></li> <li> *(this::<b>Base.Grisu.Float</b>, other::<b>Base.Grisu.Float</b>) at <a href=\"https://github.com/JuliaLang/julia/tree/3c9d75391c72d7c32eea75ff187ce77b2d5effc8/base/grisu/float.jl#L138\" target=\"_blank\">grisu/float.jl:138</a></li> <li> *(c::<b>BigInt</b>, x::<b>BigFloat</b>) at <a href=\"https://github.com/JuliaLang/julia/tree/3c9d75391c72d7c32eea75ff187ce77b2d5effc8/base/mpfr.jl#L240\" target=\"_blank\">mpfr.jl:240</a></li> <li> *(a::<b>BigInt</b>, b::<b>BigInt</b>, c::<b>BigInt</b>, d::<b>BigInt</b>, e::<b>BigInt</b>) at <a href=\"https://github.com/JuliaLang/julia/tree/3c9d75391c72d7c32eea75ff187ce77b2d5effc8/base/gmp.jl#L298\" target=\"_blank\">gmp.jl:298</a></li> <li> *(a::<b>BigInt</b>, b::<b>BigInt</b>, c::<b>BigInt</b>, d::<b>BigInt</b>) at <a href=\"https://github.com/JuliaLang/julia/tree/3c9d75391c72d7c32eea75ff187ce77b2d5effc8/base/gmp.jl#L291\" target=\"_blank\">gmp.jl:291</a></li> <li> *(a::<b>BigInt</b>, b::<b>BigInt</b>, c::<b>BigInt</b>) at <a href=\"https://github.com/JuliaLang/julia/tree/3c9d75391c72d7c32eea75ff187ce77b2d5effc8/base/gmp.jl#L285\" target=\"_blank\">gmp.jl:285</a></li> <li> *(x::<b>BigInt</b>, y::<b>BigInt</b>) at <a href=\"https://github.com/JuliaLang/julia/tree/3c9d75391c72d7c32eea75ff187ce77b2d5effc8/base/gmp.jl#L255\" target=\"_blank\">gmp.jl:255</a></li> <li> *(x::<b>BigInt</b>, c::<b>Union{UInt16,UInt32,UInt64,UInt8}</b>) at <a href=\"https://github.com/JuliaLang/julia/tree/3c9d75391c72d7c32eea75ff187ce77b2d5effc8/base/gmp.jl#L332\" target=\"_blank\">gmp.jl:332</a></li> <li> *(x::<b>BigInt</b>, c::<b>Union{Int16,Int32,Int64,Int8}</b>) at <a href=\"https://github.com/JuliaLang/julia/tree/3c9d75391c72d7c32eea75ff187ce77b2d5effc8/base/gmp.jl#L338\" target=\"_blank\">gmp.jl:338</a></li> <li> *(a::<b>BigFloat</b>, b::<b>BigFloat</b>, c::<b>BigFloat</b>, d::<b>BigFloat</b>, e::<b>BigFloat</b>) at <a href=\"https://github.com/JuliaLang/julia/tree/3c9d75391c72d7c32eea75ff187ce77b2d5effc8/base/mpfr.jl#L388\" target=\"_blank\">mpfr.jl:388</a></li> <li> *(a::<b>BigFloat</b>, b::<b>BigFloat</b>, c::<b>BigFloat</b>, d::<b>BigFloat</b>) at <a href=\"https://github.com/JuliaLang/julia/tree/3c9d75391c72d7c32eea75ff187ce77b2d5effc8/base/mpfr.jl#L381\" target=\"_blank\">mpfr.jl:381</a></li> <li> *(a::<b>BigFloat</b>, b::<b>BigFloat</b>, c::<b>BigFloat</b>) at <a href=\"https://github.com/JuliaLang/julia/tree/3c9d75391c72d7c32eea75ff187ce77b2d5effc8/base/mpfr.jl#L375\" target=\"_blank\">mpfr.jl:375</a></li> <li> *(x::<b>BigFloat</b>, c::<b>BigInt</b>) at <a href=\"https://github.com/JuliaLang/julia/tree/3c9d75391c72d7c32eea75ff187ce77b2d5effc8/base/mpfr.jl#L236\" target=\"_blank\">mpfr.jl:236</a></li> <li> *(x::<b>BigFloat</b>, y::<b>BigFloat</b>) at <a href=\"https://github.com/JuliaLang/julia/tree/3c9d75391c72d7c32eea75ff187ce77b2d5effc8/base/mpfr.jl#L205\" target=\"_blank\">mpfr.jl:205</a></li> <li> *(x::<b>BigFloat</b>, c::<b>Union{UInt16,UInt32,UInt64,UInt8}</b>) at <a href=\"https://github.com/JuliaLang/julia/tree/3c9d75391c72d7c32eea75ff187ce77b2d5effc8/base/mpfr.jl#L212\" target=\"_blank\">mpfr.jl:212</a></li> <li> *(x::<b>BigFloat</b>, c::<b>Union{Int16,Int32,Int64,Int8}</b>) at <a href=\"https://github.com/JuliaLang/julia/tree/3c9d75391c72d7c32eea75ff187ce77b2d5effc8/base/mpfr.jl#L220\" target=\"_blank\">mpfr.jl:220</a></li> <li> *(x::<b>BigFloat</b>, c::<b>Union{Float16,Float32,Float64}</b>) at <a href=\"https://github.com/JuliaLang/julia/tree/3c9d75391c72d7c32eea75ff187ce77b2d5effc8/base/mpfr.jl#L228\" target=\"_blank\">mpfr.jl:228</a></li> <li> *(B::<b>BitArray{2}</b>, J::<b>UniformScaling</b>) at <a href=\"https://github.com/JuliaLang/julia/tree/3c9d75391c72d7c32eea75ff187ce77b2d5effc8/base/linalg/uniformscaling.jl#L132\" target=\"_blank\">linalg/uniformscaling.jl:132</a></li> <li> *(z::<b>Complex</b>, w::<b>Complex</b>) at <a href=\"https://github.com/JuliaLang/julia/tree/3c9d75391c72d7c32eea75ff187ce77b2d5effc8/base/complex.jl#L127\" target=\"_blank\">complex.jl:127</a></li> <li> *<i>{T<:Union{Int128,UInt128}}</i>(x::<b>T</b>, y::<b>T</b>) at <a href=\"https://github.com/JuliaLang/julia/tree/3c9d75391c72d7c32eea75ff187ce77b2d5effc8/base/int.jl#L426\" target=\"_blank\">int.jl:426</a></li> <li> *<i>{T<:Union{Int128,Int16,Int32,Int64,Int8,UInt128,UInt16,UInt32,UInt64,UInt8}}</i>(x::<b>T</b>, y::<b>T</b>) at <a href=\"https://github.com/JuliaLang/julia/tree/3c9d75391c72d7c32eea75ff187ce77b2d5effc8/base/int.jl#L33\" target=\"_blank\">int.jl:33</a></li> <li> *(z::<b>Complex</b>, x::<b>Bool</b>) at <a href=\"https://github.com/JuliaLang/julia/tree/3c9d75391c72d7c32eea75ff187ce77b2d5effc8/base/complex.jl#L148\" target=\"_blank\">complex.jl:148</a></li> <li> *(x::<b>Real</b>, z::<b>Complex{Bool}</b>) at <a href=\"https://github.com/JuliaLang/julia/tree/3c9d75391c72d7c32eea75ff187ce77b2d5effc8/base/complex.jl#L158\" target=\"_blank\">complex.jl:158</a></li> <li> *(x::<b>Real</b>, z::<b>Complex</b>) at <a href=\"https://github.com/JuliaLang/julia/tree/3c9d75391c72d7c32eea75ff187ce77b2d5effc8/base/complex.jl#L170\" target=\"_blank\">complex.jl:170</a></li> <li> *(z::<b>Complex</b>, x::<b>Real</b>) at <a href=\"https://github.com/JuliaLang/julia/tree/3c9d75391c72d7c32eea75ff187ce77b2d5effc8/base/complex.jl#L171\" target=\"_blank\">complex.jl:171</a></li> <li> *(x::<b>Rational</b>, y::<b>Rational</b>) at <a href=\"https://github.com/JuliaLang/julia/tree/3c9d75391c72d7c32eea75ff187ce77b2d5effc8/base/rational.jl#L206\" target=\"_blank\">rational.jl:206</a></li> <li> *<i>{N}</i>(a::<b>Integer</b>, index::<b>CartesianIndex{N}</b>) at <a href=\"https://github.com/JuliaLang/julia/tree/3c9d75391c72d7c32eea75ff187ce77b2d5effc8/base/multidimensional.jl#L61\" target=\"_blank\">multidimensional.jl:61</a></li> <li> *(c::<b>Union{UInt16,UInt32,UInt64,UInt8}</b>, x::<b>BigInt</b>) at <a href=\"https://github.com/JuliaLang/julia/tree/3c9d75391c72d7c32eea75ff187ce77b2d5effc8/base/gmp.jl#L336\" target=\"_blank\">gmp.jl:336</a></li> <li> *(c::<b>Union{Int16,Int32,Int64,Int8}</b>, x::<b>BigInt</b>) at <a href=\"https://github.com/JuliaLang/julia/tree/3c9d75391c72d7c32eea75ff187ce77b2d5effc8/base/gmp.jl#L342\" target=\"_blank\">gmp.jl:342</a></li> <li> *(c::<b>Union{UInt16,UInt32,UInt64,UInt8}</b>, x::<b>BigFloat</b>) at <a href=\"https://github.com/JuliaLang/julia/tree/3c9d75391c72d7c32eea75ff187ce77b2d5effc8/base/mpfr.jl#L216\" target=\"_blank\">mpfr.jl:216</a></li> <li> *(c::<b>Union{Int16,Int32,Int64,Int8}</b>, x::<b>BigFloat</b>) at <a href=\"https://github.com/JuliaLang/julia/tree/3c9d75391c72d7c32eea75ff187ce77b2d5effc8/base/mpfr.jl#L224\" target=\"_blank\">mpfr.jl:224</a></li> <li> *(c::<b>Union{Float16,Float32,Float64}</b>, x::<b>BigFloat</b>) at <a href=\"https://github.com/JuliaLang/julia/tree/3c9d75391c72d7c32eea75ff187ce77b2d5effc8/base/mpfr.jl#L232\" target=\"_blank\">mpfr.jl:232</a></li> <li> *<i>{T<:Number}</i>(x::<b>T</b>, D::<b>Diagonal</b>) at <a href=\"https://github.com/JuliaLang/julia/tree/3c9d75391c72d7c32eea75ff187ce77b2d5effc8/base/linalg/diagonal.jl#L113\" target=\"_blank\">linalg/diagonal.jl:113</a></li> <li> *(x::<b>Irrational</b>, y::<b>Irrational</b>) at <a href=\"https://github.com/JuliaLang/julia/tree/3c9d75391c72d7c32eea75ff187ce77b2d5effc8/base/irrationals.jl#L88\" target=\"_blank\">irrationals.jl:88</a></li> <li> *(y::<b>Real</b>, x::<b>Base.Dates.Period</b>) at <a href=\"https://github.com/JuliaLang/julia/tree/3c9d75391c72d7c32eea75ff187ce77b2d5effc8/base/dates/periods.jl#L90\" target=\"_blank\">dates/periods.jl:90</a></li> <li> *(x::<b>Number</b>) at <a href=\"https://github.com/JuliaLang/julia/tree/3c9d75391c72d7c32eea75ff187ce77b2d5effc8/base/operators.jl#L116\" target=\"_blank\">operators.jl:116</a></li> <li> *(y::<b>Number</b>, x::<b>Bool</b>) at <a href=\"https://github.com/JuliaLang/julia/tree/3c9d75391c72d7c32eea75ff187ce77b2d5effc8/base/bool.jl#L65\" target=\"_blank\">bool.jl:65</a></li> <li> *<i>{T<:Number}</i>(x::<b>T</b>, y::<b>T</b>) at <a href=\"https://github.com/JuliaLang/julia/tree/3c9d75391c72d7c32eea75ff187ce77b2d5effc8/base/promotion.jl#L256\" target=\"_blank\">promotion.jl:256</a></li> <li> *(x::<b>Number</b>, y::<b>Number</b>) at <a href=\"https://github.com/JuliaLang/julia/tree/3c9d75391c72d7c32eea75ff187ce77b2d5effc8/base/promotion.jl#L191\" target=\"_blank\">promotion.jl:191</a></li> <li> *<i>{T<:Union{Complex{Float32},Complex{Float64},Float32,Float64},S}</i>(A::<b>Union{Base.ReshapedArray{T,2,A<:DenseArray,MI<:Tuple{Vararg{Base.MultiplicativeInverses.SignedMultiplicativeInverse{Int64},N<:Any}}},DenseArray{T,2},SubArray{T,2,A<:Union{Base.ReshapedArray{T<:Any,N<:Any,A<:DenseArray,MI<:Tuple{Vararg{Base.MultiplicativeInverses.SignedMultiplicativeInverse{Int64},N<:Any}}},DenseArray},I<:Tuple{Vararg{Union{Base.AbstractCartesianIndex,Colon,Int64,Range{Int64}},N<:Any}},L<:Any}}</b>, x::<b>Union{Base.ReshapedArray{S,1,A<:DenseArray,MI<:Tuple{Vararg{Base.MultiplicativeInverses.SignedMultiplicativeInverse{Int64},N<:Any}}},DenseArray{S,1},SubArray{S,1,A<:Union{Base.ReshapedArray{T<:Any,N<:Any,A<:DenseArray,MI<:Tuple{Vararg{Base.MultiplicativeInverses.SignedMultiplicativeInverse{Int64},N<:Any}}},DenseArray},I<:Tuple{Vararg{Union{Base.AbstractCartesianIndex,Colon,Int64,Range{Int64}},N<:Any}},L<:Any}}</b>) at <a href=\"https://github.com/JuliaLang/julia/tree/3c9d75391c72d7c32eea75ff187ce77b2d5effc8/base/linalg/matmul.jl#L79\" target=\"_blank\">linalg/matmul.jl:79</a></li> <li> *(A::<b>SymTridiagonal</b>, B::<b>Number</b>) at <a href=\"https://github.com/JuliaLang/julia/tree/3c9d75391c72d7c32eea75ff187ce77b2d5effc8/base/linalg/tridiag.jl#L98\" target=\"_blank\">linalg/tridiag.jl:98</a></li> <li> *(A::<b>Tridiagonal</b>, B::<b>Number</b>) at <a href=\"https://github.com/JuliaLang/julia/tree/3c9d75391c72d7c32eea75ff187ce77b2d5effc8/base/linalg/tridiag.jl#L496\" target=\"_blank\">linalg/tridiag.jl:496</a></li> <li> *(A::<b>UpperTriangular</b>, x::<b>Number</b>) at <a href=\"https://github.com/JuliaLang/julia/tree/3c9d75391c72d7c32eea75ff187ce77b2d5effc8/base/linalg/triangular.jl#L477\" target=\"_blank\">linalg/triangular.jl:477</a></li> <li> *(A::<b>Base.LinAlg.UnitUpperTriangular</b>, x::<b>Number</b>) at <a href=\"https://github.com/JuliaLang/julia/tree/3c9d75391c72d7c32eea75ff187ce77b2d5effc8/base/linalg/triangular.jl#L480\" target=\"_blank\">linalg/triangular.jl:480</a></li> <li> *(A::<b>LowerTriangular</b>, x::<b>Number</b>) at <a href=\"https://github.com/JuliaLang/julia/tree/3c9d75391c72d7c32eea75ff187ce77b2d5effc8/base/linalg/triangular.jl#L477\" target=\"_blank\">linalg/triangular.jl:477</a></li> <li> *(A::<b>Base.LinAlg.UnitLowerTriangular</b>, x::<b>Number</b>) at <a href=\"https://github.com/JuliaLang/julia/tree/3c9d75391c72d7c32eea75ff187ce77b2d5effc8/base/linalg/triangular.jl#L480\" target=\"_blank\">linalg/triangular.jl:480</a></li> <li> *(A::<b>Tridiagonal</b>, B::<b>UpperTriangular</b>) at <a href=\"https://github.com/JuliaLang/julia/tree/3c9d75391c72d7c32eea75ff187ce77b2d5effc8/base/linalg/triangular.jl#L1324\" target=\"_blank\">linalg/triangular.jl:1324</a></li> <li> *(A::<b>Tridiagonal</b>, B::<b>Base.LinAlg.UnitUpperTriangular</b>) at <a href=\"https://github.com/JuliaLang/julia/tree/3c9d75391c72d7c32eea75ff187ce77b2d5effc8/base/linalg/triangular.jl#L1324\" target=\"_blank\">linalg/triangular.jl:1324</a></li> <li> *(A::<b>Tridiagonal</b>, B::<b>LowerTriangular</b>) at <a href=\"https://github.com/JuliaLang/julia/tree/3c9d75391c72d7c32eea75ff187ce77b2d5effc8/base/linalg/triangular.jl#L1324\" target=\"_blank\">linalg/triangular.jl:1324</a></li> <li> *(A::<b>Tridiagonal</b>, B::<b>Base.LinAlg.UnitLowerTriangular</b>) at <a href=\"https://github.com/JuliaLang/julia/tree/3c9d75391c72d7c32eea75ff187ce77b2d5effc8/base/linalg/triangular.jl#L1324\" target=\"_blank\">linalg/triangular.jl:1324</a></li> <li> *(A::<b>LowerTriangular</b>, B::<b>LowerTriangular</b>) at <a href=\"https://github.com/JuliaLang/julia/tree/3c9d75391c72d7c32eea75ff187ce77b2d5effc8/base/linalg/triangular.jl#L1331\" target=\"_blank\">linalg/triangular.jl:1331</a></li> <li> *(A::<b>Base.LinAlg.UnitLowerTriangular</b>, B::<b>LowerTriangular</b>) at <a href=\"https://github.com/JuliaLang/julia/tree/3c9d75391c72d7c32eea75ff187ce77b2d5effc8/base/linalg/triangular.jl#L1339\" target=\"_blank\">linalg/triangular.jl:1339</a></li> <li> *(A::<b>UpperTriangular</b>, B::<b>UpperTriangular</b>) at <a href=\"https://github.com/JuliaLang/julia/tree/3c9d75391c72d7c32eea75ff187ce77b2d5effc8/base/linalg/triangular.jl#L1347\" target=\"_blank\">linalg/triangular.jl:1347</a></li> <li> *(A::<b>Base.LinAlg.UnitUpperTriangular</b>, B::<b>UpperTriangular</b>) at <a href=\"https://github.com/JuliaLang/julia/tree/3c9d75391c72d7c32eea75ff187ce77b2d5effc8/base/linalg/triangular.jl#L1355\" target=\"_blank\">linalg/triangular.jl:1355</a></li> <li> *(A::<b>Base.LinAlg.AbstractTriangular</b>, B::<b>Base.LinAlg.AbstractTriangular</b>) at <a href=\"https://github.com/JuliaLang/julia/tree/3c9d75391c72d7c32eea75ff187ce77b2d5effc8/base/linalg/triangular.jl#L1472\" target=\"_blank\">linalg/triangular.jl:1472</a></li> <li> *(A::<b>Base.LinAlg.AbstractTriangular</b>, D::<b>Diagonal</b>) at <a href=\"https://github.com/JuliaLang/julia/tree/3c9d75391c72d7c32eea75ff187ce77b2d5effc8/base/linalg/diagonal.jl#L119\" target=\"_blank\">linalg/diagonal.jl:119</a></li> <li> *(A::<b>Base.LinAlg.AbstractTriangular</b>, B::<b>Union{Bidiagonal,SymTridiagonal,Tridiagonal}</b>) at <a href=\"https://github.com/JuliaLang/julia/tree/3c9d75391c72d7c32eea75ff187ce77b2d5effc8/base/linalg/bidiag.jl#L415\" target=\"_blank\">linalg/bidiag.jl:415</a></li> <li> *(A::<b>Base.LinAlg.AbstractTriangular</b>, B::<b>AbstractArray{T<:Any,1}</b>) at <a href=\"https://github.com/JuliaLang/julia/tree/3c9d75391c72d7c32eea75ff187ce77b2d5effc8/base/linalg/triangular.jl#L1496\" target=\"_blank\">linalg/triangular.jl:1496</a></li> <li> *(A::<b>Base.LinAlg.AbstractTriangular</b>, B::<b>AbstractArray{T<:Any,2}</b>) at <a href=\"https://github.com/JuliaLang/julia/tree/3c9d75391c72d7c32eea75ff187ce77b2d5effc8/base/linalg/triangular.jl#L1496\" target=\"_blank\">linalg/triangular.jl:1496</a></li> <li> *(A::<b>Union{Base.LinAlg.QRCompactWYQ,Base.LinAlg.QRPackedQ}</b>, b::<b>Union{Base.ReshapedArray{T<:Any,1,A<:DenseArray,MI<:Tuple{Vararg{Base.MultiplicativeInverses.SignedMultiplicativeInverse{Int64},N<:Any}}},DenseArray{T<:Any,1},SubArray{T<:Any,1,A<:Union{Base.ReshapedArray{T<:Any,N<:Any,A<:DenseArray,MI<:Tuple{Vararg{Base.MultiplicativeInverses.SignedMultiplicativeInverse{Int64},N<:Any}}},DenseArray},I<:Tuple{Vararg{Union{Base.AbstractCartesianIndex,Colon,Int64,Range{Int64}},N<:Any}},L<:Any}}</b>) at <a href=\"https://github.com/JuliaLang/julia/tree/3c9d75391c72d7c32eea75ff187ce77b2d5effc8/base/linalg/qr.jl#L372\" target=\"_blank\">linalg/qr.jl:372</a></li> <li> *(A::<b>Union{Base.LinAlg.QRCompactWYQ,Base.LinAlg.QRPackedQ}</b>, B::<b>Union{Base.ReshapedArray{T<:Any,2,A<:DenseArray,MI<:Tuple{Vararg{Base.MultiplicativeInverses.SignedMultiplicativeInverse{Int64},N<:Any}}},DenseArray{T<:Any,2},SubArray{T<:Any,2,A<:Union{Base.ReshapedArray{T<:Any,N<:Any,A<:DenseArray,MI<:Tuple{Vararg{Base.MultiplicativeInverses.SignedMultiplicativeInverse{Int64},N<:Any}}},DenseArray},I<:Tuple{Vararg{Union{Base.AbstractCartesianIndex,Colon,Int64,Range{Int64}},N<:Any}},L<:Any}}</b>) at <a href=\"https://github.com/JuliaLang/julia/tree/3c9d75391c72d7c32eea75ff187ce77b2d5effc8/base/linalg/qr.jl#L384\" target=\"_blank\">linalg/qr.jl:384</a></li> <li> *(A::<b>Union{Base.ReshapedArray{T<:Any,2,A<:DenseArray,MI<:Tuple{Vararg{Base.MultiplicativeInverses.SignedMultiplicativeInverse{Int64},N<:Any}}},DenseArray{T<:Any,2},SubArray{T<:Any,2,A<:Union{Base.ReshapedArray{T<:Any,N<:Any,A<:DenseArray,MI<:Tuple{Vararg{Base.MultiplicativeInverses.SignedMultiplicativeInverse{Int64},N<:Any}}},DenseArray},I<:Tuple{Vararg{Union{Base.AbstractCartesianIndex,Colon,Int64,Range{Int64}},N<:Any}},L<:Any}}</b>, Q::<b>Union{Base.LinAlg.QRCompactWYQ,Base.LinAlg.QRPackedQ}</b>) at <a href=\"https://github.com/JuliaLang/julia/tree/3c9d75391c72d7c32eea75ff187ce77b2d5effc8/base/linalg/qr.jl#L472\" target=\"_blank\">linalg/qr.jl:472</a></li> <li> *<i>{T,S}</i>(Q::<b>Base.LinAlg.HessenbergQ{T,S<:AbstractArray{T<:Any,2}}</b>, X::<b>Union{Base.ReshapedArray{S,1,A<:DenseArray,MI<:Tuple{Vararg{Base.MultiplicativeInverses.SignedMultiplicativeInverse{Int64},N<:Any}}},Base.ReshapedArray{S,2,A<:DenseArray,MI<:Tuple{Vararg{Base.MultiplicativeInverses.SignedMultiplicativeInverse{Int64},N<:Any}}},DenseArray{S,1},DenseArray{S,2},SubArray{S,1,A<:Union{Base.ReshapedArray{T<:Any,N<:Any,A<:DenseArray,MI<:Tuple{Vararg{Base.MultiplicativeInverses.SignedMultiplicativeInverse{Int64},N<:Any}}},DenseArray},I<:Tuple{Vararg{Union{Base.AbstractCartesianIndex,Colon,Int64,Range{Int64}},N<:Any}},L<:Any},SubArray{S,2,A<:Union{Base.ReshapedArray{T<:Any,N<:Any,A<:DenseArray,MI<:Tuple{Vararg{Base.MultiplicativeInverses.SignedMultiplicativeInverse{Int64},N<:Any}}},DenseArray},I<:Tuple{Vararg{Union{Base.AbstractCartesianIndex,Colon,Int64,Range{Int64}},N<:Any}},L<:Any}}</b>) at <a href=\"https://github.com/JuliaLang/julia/tree/3c9d75391c72d7c32eea75ff187ce77b2d5effc8/base/linalg/hessenberg.jl#L76\" target=\"_blank\">linalg/hessenberg.jl:76</a></li> <li> *<i>{T,S}</i>(X::<b>Union{Base.ReshapedArray{S,1,A<:DenseArray,MI<:Tuple{Vararg{Base.MultiplicativeInverses.SignedMultiplicativeInverse{Int64},N<:Any}}},Base.ReshapedArray{S,2,A<:DenseArray,MI<:Tuple{Vararg{Base.MultiplicativeInverses.SignedMultiplicativeInverse{Int64},N<:Any}}},DenseArray{S,1},DenseArray{S,2},SubArray{S,1,A<:Union{Base.ReshapedArray{T<:Any,N<:Any,A<:DenseArray,MI<:Tuple{Vararg{Base.MultiplicativeInverses.SignedMultiplicativeInverse{Int64},N<:Any}}},DenseArray},I<:Tuple{Vararg{Union{Base.AbstractCartesianIndex,Colon,Int64,Range{Int64}},N<:Any}},L<:Any},SubArray{S,2,A<:Union{Base.ReshapedArray{T<:Any,N<:Any,A<:DenseArray,MI<:Tuple{Vararg{Base.MultiplicativeInverses.SignedMultiplicativeInverse{Int64},N<:Any}}},DenseArray},I<:Tuple{Vararg{Union{Base.AbstractCartesianIndex,Colon,Int64,Range{Int64}},N<:Any}},L<:Any}}</b>, Q::<b>Base.LinAlg.HessenbergQ{T,S<:AbstractArray{T<:Any,2}}</b>) at <a href=\"https://github.com/JuliaLang/julia/tree/3c9d75391c72d7c32eea75ff187ce77b2d5effc8/base/linalg/hessenberg.jl#L80\" target=\"_blank\">linalg/hessenberg.jl:80</a></li> <li> *(A::<b>Base.LinAlg.LQPackedQ</b>, B::<b>Union{Base.ReshapedArray{T<:Any,1,A<:DenseArray,MI<:Tuple{Vararg{Base.MultiplicativeInverses.SignedMultiplicativeInverse{Int64},N<:Any}}},Base.ReshapedArray{T<:Any,2,A<:DenseArray,MI<:Tuple{Vararg{Base.MultiplicativeInverses.SignedMultiplicativeInverse{Int64},N<:Any}}},DenseArray{T<:Any,1},DenseArray{T<:Any,2},SubArray{T<:Any,1,A<:Union{Base.ReshapedArray{T<:Any,N<:Any,A<:DenseArray,MI<:Tuple{Vararg{Base.MultiplicativeInverses.SignedMultiplicativeInverse{Int64},N<:Any}}},DenseArray},I<:Tuple{Vararg{Union{Base.AbstractCartesianIndex,Colon,Int64,Range{Int64}},N<:Any}},L<:Any},SubArray{T<:Any,2,A<:Union{Base.ReshapedArray{T<:Any,N<:Any,A<:DenseArray,MI<:Tuple{Vararg{Base.MultiplicativeInverses.SignedMultiplicativeInverse{Int64},N<:Any}}},DenseArray},I<:Tuple{Vararg{Union{Base.AbstractCartesianIndex,Colon,Int64,Range{Int64}},N<:Any}},L<:Any}}</b>) at <a href=\"https://github.com/JuliaLang/julia/tree/3c9d75391c72d7c32eea75ff187ce77b2d5effc8/base/linalg/lq.jl#L134\" target=\"_blank\">linalg/lq.jl:134</a></li> <li> *<i>{TA,TB}</i>(A::<b>Union{Base.ReshapedArray{TA,2,A<:DenseArray,MI<:Tuple{Vararg{Base.MultiplicativeInverses.SignedMultiplicativeInverse{Int64},N<:Any}}},DenseArray{TA,2},SubArray{TA,2,A<:Union{Base.ReshapedArray{T<:Any,N<:Any,A<:DenseArray,MI<:Tuple{Vararg{Base.MultiplicativeInverses.SignedMultiplicativeInverse{Int64},N<:Any}}},DenseArray},I<:Tuple{Vararg{Union{Base.AbstractCartesianIndex,Colon,Int64,Range{Int64}},N<:Any}},L<:Any}}</b>, B::<b>Base.LinAlg.LQPackedQ{TB,S<:AbstractArray{T<:Any,2}}</b>) at <a href=\"https://github.com/JuliaLang/julia/tree/3c9d75391c72d7c32eea75ff187ce77b2d5effc8/base/linalg/lq.jl#L168\" target=\"_blank\">linalg/lq.jl:168</a></li> <li> *(A::<b>Union{Hermitian{T<:Any,S<:Any},Symmetric{T<:Any,S<:Any}}</b>, B::<b>Union{Hermitian{T<:Any,S<:Any},Symmetric{T<:Any,S<:Any}}</b>) at <a href=\"https://github.com/JuliaLang/julia/tree/3c9d75391c72d7c32eea75ff187ce77b2d5effc8/base/linalg/symmetric.jl#L180\" target=\"_blank\">linalg/symmetric.jl:180</a></li> <li> *(A::<b>Union{Base.ReshapedArray{T<:Any,2,A<:DenseArray,MI<:Tuple{Vararg{Base.MultiplicativeInverses.SignedMultiplicativeInverse{Int64},N<:Any}}},DenseArray{T<:Any,2},SubArray{T<:Any,2,A<:Union{Base.ReshapedArray{T<:Any,N<:Any,A<:DenseArray,MI<:Tuple{Vararg{Base.MultiplicativeInverses.SignedMultiplicativeInverse{Int64},N<:Any}}},DenseArray},I<:Tuple{Vararg{Union{Base.AbstractCartesianIndex,Colon,Int64,Range{Int64}},N<:Any}},L<:Any}}</b>, B::<b>Union{Hermitian{T<:Any,S<:Any},Symmetric{T<:Any,S<:Any}}</b>) at <a href=\"https://github.com/JuliaLang/julia/tree/3c9d75391c72d7c32eea75ff187ce77b2d5effc8/base/linalg/symmetric.jl#L181\" target=\"_blank\">linalg/symmetric.jl:181</a></li> <li> *<i>{T<:Number}</i>(D::<b>Diagonal</b>, x::<b>T</b>) at <a href=\"https://github.com/JuliaLang/julia/tree/3c9d75391c72d7c32eea75ff187ce77b2d5effc8/base/linalg/diagonal.jl#L114\" target=\"_blank\">linalg/diagonal.jl:114</a></li> <li> *(Da::<b>Diagonal</b>, Db::<b>Diagonal</b>) at <a href=\"https://github.com/JuliaLang/julia/tree/3c9d75391c72d7c32eea75ff187ce77b2d5effc8/base/linalg/diagonal.jl#L116\" target=\"_blank\">linalg/diagonal.jl:116</a></li> <li> *(D::<b>Diagonal</b>, B::<b>Base.LinAlg.AbstractTriangular</b>) at <a href=\"https://github.com/JuliaLang/julia/tree/3c9d75391c72d7c32eea75ff187ce77b2d5effc8/base/linalg/diagonal.jl#L120\" target=\"_blank\">linalg/diagonal.jl:120</a></li> <li> *(D::<b>Diagonal</b>, A::<b>SparseMatrixCSC</b>) at <a href=\"https://github.com/JuliaLang/julia/tree/3c9d75391c72d7c32eea75ff187ce77b2d5effc8/base/sparse/linalg.jl#L114\" target=\"_blank\">sparse/linalg.jl:114</a></li> <li> *(D::<b>Diagonal</b>, V::<b>AbstractArray{T<:Any,1}</b>) at <a href=\"https://github.com/JuliaLang/julia/tree/3c9d75391c72d7c32eea75ff187ce77b2d5effc8/base/linalg/diagonal.jl#L117\" target=\"_blank\">linalg/diagonal.jl:117</a></li> <li> *(D::<b>Diagonal</b>, A::<b>AbstractArray{T<:Any,2}</b>) at <a href=\"https://github.com/JuliaLang/julia/tree/3c9d75391c72d7c32eea75ff187ce77b2d5effc8/base/linalg/diagonal.jl#L124\" target=\"_blank\">linalg/diagonal.jl:124</a></li> <li> *(A::<b>Bidiagonal</b>, B::<b>Number</b>) at <a href=\"https://github.com/JuliaLang/julia/tree/3c9d75391c72d7c32eea75ff187ce77b2d5effc8/base/linalg/bidiag.jl#L272\" target=\"_blank\">linalg/bidiag.jl:272</a></li> <li> *(A::<b>Union{Bidiagonal,SymTridiagonal,Tridiagonal}</b>, B::<b>Union{Bidiagonal,SymTridiagonal,Tridiagonal}</b>) at <a href=\"https://github.com/JuliaLang/julia/tree/3c9d75391c72d7c32eea75ff187ce77b2d5effc8/base/linalg/bidiag.jl#L416\" target=\"_blank\">linalg/bidiag.jl:416</a></li> <li> *<i>{T}</i>(A::<b>Bidiagonal{T}</b>, B::<b>AbstractArray{T,1}</b>) at <a href=\"https://github.com/JuliaLang/julia/tree/3c9d75391c72d7c32eea75ff187ce77b2d5effc8/base/linalg/bidiag.jl#L420\" target=\"_blank\">linalg/bidiag.jl:420</a></li> <li> *<i>{TX,TvA,TiA}</i>(X::<b>Union{Base.ReshapedArray{TX,2,A<:DenseArray,MI<:Tuple{Vararg{Base.MultiplicativeInverses.SignedMultiplicativeInverse{Int64},N<:Any}}},DenseArray{TX,2},SubArray{TX,2,A<:Union{Base.ReshapedArray{T<:Any,N<:Any,A<:DenseArray,MI<:Tuple{Vararg{Base.MultiplicativeInverses.SignedMultiplicativeInverse{Int64},N<:Any}}},DenseArray},I<:Tuple{Vararg{Union{Base.AbstractCartesianIndex,Colon,Int64,Range{Int64}},N<:Any}},L<:Any}}</b>, A::<b>SparseMatrixCSC{TvA,TiA}</b>) at <a href=\"https://github.com/JuliaLang/julia/tree/3c9d75391c72d7c32eea75ff187ce77b2d5effc8/base/sparse/linalg.jl#L102\" target=\"_blank\">sparse/linalg.jl:102</a></li> <li> *<i>{Ta,Tx}</i>(A::<b>Union{Base.ReshapedArray{Ta,2,A<:DenseArray,MI<:Tuple{Vararg{Base.MultiplicativeInverses.SignedMultiplicativeInverse{Int64},N<:Any}}},DenseArray{Ta,2},SubArray{Ta,2,A<:Union{Base.ReshapedArray{T<:Any,N<:Any,A<:DenseArray,MI<:Tuple{Vararg{Base.MultiplicativeInverses.SignedMultiplicativeInverse{Int64},N<:Any}}},DenseArray},I<:Tuple{Vararg{Union{Base.AbstractCartesianIndex,Colon,Int64,Range{Int64}},N<:Any}},L<:Any}}</b>, x::<b>AbstractSparseArray{Tx,Ti<:Any,1}</b>) at <a href=\"https://github.com/JuliaLang/julia/tree/3c9d75391c72d7c32eea75ff187ce77b2d5effc8/base/sparse/sparsevector.jl#L1360\" target=\"_blank\">sparse/sparsevector.jl:1360</a></li> <li> *(A::<b>SparseMatrixCSC</b>, x::<b>AbstractSparseArray{Tv<:Any,Ti<:Any,1}</b>) at <a href=\"https://github.com/JuliaLang/julia/tree/3c9d75391c72d7c32eea75ff187ce77b2d5effc8/base/sparse/sparsevector.jl#L1538\" target=\"_blank\">sparse/sparsevector.jl:1538</a></li> <li> *<i>{Tv,Ti}</i>(A::<b>SparseMatrixCSC{Tv,Ti}</b>, B::<b>SparseMatrixCSC{Tv,Ti}</b>) at <a href=\"https://github.com/JuliaLang/julia/tree/3c9d75391c72d7c32eea75ff187ce77b2d5effc8/base/sparse/linalg.jl#L125\" target=\"_blank\">sparse/linalg.jl:125</a></li> <li> *<i>{TvA,TiA,TvB,TiB}</i>(A::<b>SparseMatrixCSC{TvA,TiA}</b>, B::<b>SparseMatrixCSC{TvB,TiB}</b>) at <a href=\"https://github.com/JuliaLang/julia/tree/3c9d75391c72d7c32eea75ff187ce77b2d5effc8/base/sparse/linalg.jl#L24\" target=\"_blank\">sparse/linalg.jl:24</a></li> <li> *(A::<b>SparseMatrixCSC</b>, D::<b>Diagonal</b>) at <a href=\"https://github.com/JuliaLang/julia/tree/3c9d75391c72d7c32eea75ff187ce77b2d5effc8/base/sparse/linalg.jl#L118\" target=\"_blank\">sparse/linalg.jl:118</a></li> <li> *(A::<b>Base.SparseArrays.CHOLMOD.Sparse</b>, B::<b>Base.SparseArrays.CHOLMOD.Sparse</b>) at <a href=\"https://github.com/JuliaLang/julia/tree/3c9d75391c72d7c32eea75ff187ce77b2d5effc8/base/sparse/cholmod.jl#L1181\" target=\"_blank\">sparse/cholmod.jl:1181</a></li> <li> *(A::<b>Base.SparseArrays.CHOLMOD.Sparse</b>, B::<b>Base.SparseArrays.CHOLMOD.Dense</b>) at <a href=\"https://github.com/JuliaLang/julia/tree/3c9d75391c72d7c32eea75ff187ce77b2d5effc8/base/sparse/cholmod.jl#L1182\" target=\"_blank\">sparse/cholmod.jl:1182</a></li> <li> *(A::<b>Base.SparseArrays.CHOLMOD.Sparse</b>, B::<b>Union{Array{T<:Any,1},Array{T<:Any,2}}</b>) at <a href=\"https://github.com/JuliaLang/julia/tree/3c9d75391c72d7c32eea75ff187ce77b2d5effc8/base/sparse/cholmod.jl#L1183\" target=\"_blank\">sparse/cholmod.jl:1183</a></li> <li> *<i>{Ti}</i>(A::<b>Symmetric{Float64,SparseMatrixCSC{Float64,Ti}}</b>, B::<b>Union{SparseMatrixCSC{Float64,Ti},SparseVector{Float64,Ti}}</b>) at <a href=\"https://github.com/JuliaLang/julia/tree/3c9d75391c72d7c32eea75ff187ce77b2d5effc8/base/sparse/cholmod.jl#L1584\" target=\"_blank\">sparse/cholmod.jl:1584</a></li> <li> *<i>{Ti}</i>(A::<b>Hermitian{Complex{Float64},SparseMatrixCSC{Complex{Float64},Ti}}</b>, B::<b>Union{SparseMatrixCSC{Complex{Float64},Ti},SparseVector{Complex{Float64},Ti}}</b>) at <a href=\"https://github.com/JuliaLang/julia/tree/3c9d75391c72d7c32eea75ff187ce77b2d5effc8/base/sparse/cholmod.jl#L1585\" target=\"_blank\">sparse/cholmod.jl:1585</a></li> <li> *<i>{Ti}</i>(A::<b>Hermitian{Float64,SparseMatrixCSC{Float64,Ti}}</b>, B::<b>Union{SparseMatrixCSC{Float64,Ti},SparseVector{Float64,Ti}}</b>) at <a href=\"https://github.com/JuliaLang/julia/tree/3c9d75391c72d7c32eea75ff187ce77b2d5effc8/base/sparse/cholmod.jl#L1586\" target=\"_blank\">sparse/cholmod.jl:1586</a></li> <li> *<i>{T<:Number}</i>(x::<b>AbstractArray{T,2}</b>) at <a href=\"https://github.com/JuliaLang/julia/tree/3c9d75391c72d7c32eea75ff187ce77b2d5effc8/base/abstractarraymath.jl#L92\" target=\"_blank\">abstractarraymath.jl:92</a></li> <li> *(B::<b>Number</b>, A::<b>SymTridiagonal</b>) at <a href=\"https://github.com/JuliaLang/julia/tree/3c9d75391c72d7c32eea75ff187ce77b2d5effc8/base/linalg/tridiag.jl#L99\" target=\"_blank\">linalg/tridiag.jl:99</a></li> <li> *(B::<b>Number</b>, A::<b>Tridiagonal</b>) at <a href=\"https://github.com/JuliaLang/julia/tree/3c9d75391c72d7c32eea75ff187ce77b2d5effc8/base/linalg/tridiag.jl#L497\" target=\"_blank\">linalg/tridiag.jl:497</a></li> <li> *(x::<b>Number</b>, A::<b>UpperTriangular</b>) at <a href=\"https://github.com/JuliaLang/julia/tree/3c9d75391c72d7c32eea75ff187ce77b2d5effc8/base/linalg/triangular.jl#L487\" target=\"_blank\">linalg/triangular.jl:487</a></li> <li> *(x::<b>Number</b>, A::<b>Base.LinAlg.UnitUpperTriangular</b>) at <a href=\"https://github.com/JuliaLang/julia/tree/3c9d75391c72d7c32eea75ff187ce77b2d5effc8/base/linalg/triangular.jl#L490\" target=\"_blank\">linalg/triangular.jl:490</a></li> <li> *(x::<b>Number</b>, A::<b>LowerTriangular</b>) at <a href=\"https://github.com/JuliaLang/julia/tree/3c9d75391c72d7c32eea75ff187ce77b2d5effc8/base/linalg/triangular.jl#L487\" target=\"_blank\">linalg/triangular.jl:487</a></li> <li> *(x::<b>Number</b>, A::<b>Base.LinAlg.UnitLowerTriangular</b>) at <a href=\"https://github.com/JuliaLang/julia/tree/3c9d75391c72d7c32eea75ff187ce77b2d5effc8/base/linalg/triangular.jl#L490\" target=\"_blank\">linalg/triangular.jl:490</a></li> <li> *(B::<b>Number</b>, A::<b>Bidiagonal</b>) at <a href=\"https://github.com/JuliaLang/julia/tree/3c9d75391c72d7c32eea75ff187ce77b2d5effc8/base/linalg/bidiag.jl#L273\" target=\"_blank\">linalg/bidiag.jl:273</a></li> <li> *(A::<b>Number</b>, B::<b>AbstractArray</b>) at <a href=\"https://github.com/JuliaLang/julia/tree/3c9d75391c72d7c32eea75ff187ce77b2d5effc8/base/abstractarraymath.jl#L96\" target=\"_blank\">abstractarraymath.jl:96</a></li> <li> *(A::<b>AbstractArray</b>, B::<b>Number</b>) at <a href=\"https://github.com/JuliaLang/julia/tree/3c9d75391c72d7c32eea75ff187ce77b2d5effc8/base/abstractarraymath.jl#L97\" target=\"_blank\">abstractarraymath.jl:97</a></li> <li> *(s1::<b>AbstractString</b>, ss::<b>AbstractString...</b>) at <a href=\"https://github.com/JuliaLang/julia/tree/3c9d75391c72d7c32eea75ff187ce77b2d5effc8/base/strings/basic.jl#L84\" target=\"_blank\">strings/basic.jl:84</a></li> <li> *(index::<b>CartesianIndex</b>, a::<b>Integer</b>) at <a href=\"https://github.com/JuliaLang/julia/tree/3c9d75391c72d7c32eea75ff187ce77b2d5effc8/base/multidimensional.jl#L62\" target=\"_blank\">multidimensional.jl:62</a></li> <li> *(A::<b>AbstractArray{T<:Any,2}</b>, B::<b>Base.LinAlg.AbstractTriangular</b>) at <a href=\"https://github.com/JuliaLang/julia/tree/3c9d75391c72d7c32eea75ff187ce77b2d5effc8/base/linalg/triangular.jl#L1529\" target=\"_blank\">linalg/triangular.jl:1529</a></li> <li> *(A::<b>AbstractArray{T<:Any,2}</b>, D::<b>Diagonal</b>) at <a href=\"https://github.com/JuliaLang/julia/tree/3c9d75391c72d7c32eea75ff187ce77b2d5effc8/base/linalg/diagonal.jl#L122\" target=\"_blank\">linalg/diagonal.jl:122</a></li> <li> *<i>{T,S}</i>(A::<b>AbstractArray{T,2}</b>, x::<b>AbstractArray{S,1}</b>) at <a href=\"https://github.com/JuliaLang/julia/tree/3c9d75391c72d7c32eea75ff187ce77b2d5effc8/base/linalg/matmul.jl#L83\" target=\"_blank\">linalg/matmul.jl:83</a></li> <li> *(A::<b>AbstractArray{T<:Any,1}</b>, B::<b>Base.LinAlg.AbstractTriangular</b>) at <a href=\"https://github.com/JuliaLang/julia/tree/3c9d75391c72d7c32eea75ff187ce77b2d5effc8/base/linalg/triangular.jl#L1529\" target=\"_blank\">linalg/triangular.jl:1529</a></li> <li> *(A::<b>AbstractArray{T<:Any,1}</b>, B::<b>AbstractArray{T<:Any,2}</b>) at <a href=\"https://github.com/JuliaLang/julia/tree/3c9d75391c72d7c32eea75ff187ce77b2d5effc8/base/linalg/matmul.jl#L86\" target=\"_blank\">linalg/matmul.jl:86</a></li> <li> *<i>{T,S}</i>(A::<b>AbstractArray{T,2}</b>, B::<b>AbstractArray{S,2}</b>) at <a href=\"https://github.com/JuliaLang/julia/tree/3c9d75391c72d7c32eea75ff187ce77b2d5effc8/base/linalg/matmul.jl#L128\" target=\"_blank\">linalg/matmul.jl:128</a></li> <li> *<i>{TA,TB}</i>(A::<b>Base.LinAlg.LQ{TA,S<:AbstractArray{T<:Any,2}}</b>, B::<b>Union{Base.ReshapedArray{TB,1,A<:DenseArray,MI<:Tuple{Vararg{Base.MultiplicativeInverses.SignedMultiplicativeInverse{Int64},N<:Any}}},Base.ReshapedArray{TB,2,A<:DenseArray,MI<:Tuple{Vararg{Base.MultiplicativeInverses.SignedMultiplicativeInverse{Int64},N<:Any}}},DenseArray{TB,1},DenseArray{TB,2},SubArray{TB,1,A<:Union{Base.ReshapedArray{T<:Any,N<:Any,A<:DenseArray,MI<:Tuple{Vararg{Base.MultiplicativeInverses.SignedMultiplicativeInverse{Int64},N<:Any}}},DenseArray},I<:Tuple{Vararg{Union{Base.AbstractCartesianIndex,Colon,Int64,Range{Int64}},N<:Any}},L<:Any},SubArray{TB,2,A<:Union{Base.ReshapedArray{T<:Any,N<:Any,A<:DenseArray,MI<:Tuple{Vararg{Base.MultiplicativeInverses.SignedMultiplicativeInverse{Int64},N<:Any}}},DenseArray},I<:Tuple{Vararg{Union{Base.AbstractCartesianIndex,Colon,Int64,Range{Int64}},N<:Any}},L<:Any}}</b>) at <a href=\"https://github.com/JuliaLang/julia/tree/3c9d75391c72d7c32eea75ff187ce77b2d5effc8/base/linalg/lq.jl#L118\" target=\"_blank\">linalg/lq.jl:118</a></li> <li> *<i>{TA,TB}</i>(A::<b>Base.LinAlg.LQ{TA,S<:AbstractArray{T<:Any,2}}</b>, B::<b>Base.LinAlg.QR{TB,S<:AbstractArray{T<:Any,2}}</b>) at <a href=\"https://github.com/JuliaLang/julia/tree/3c9d75391c72d7c32eea75ff187ce77b2d5effc8/base/linalg/lq.jl#L122\" target=\"_blank\">linalg/lq.jl:122</a></li> <li> *<i>{TA,TB}</i>(A::<b>Base.LinAlg.QR{TA,S<:AbstractArray{T<:Any,2}}</b>, B::<b>Base.LinAlg.LQ{TB,S<:AbstractArray{T<:Any,2}}</b>) at <a href=\"https://github.com/JuliaLang/julia/tree/3c9d75391c72d7c32eea75ff187ce77b2d5effc8/base/linalg/lq.jl#L126\" target=\"_blank\">linalg/lq.jl:126</a></li> <li> *(J1::<b>UniformScaling</b>, J2::<b>UniformScaling</b>) at <a href=\"https://github.com/JuliaLang/julia/tree/3c9d75391c72d7c32eea75ff187ce77b2d5effc8/base/linalg/uniformscaling.jl#L131\" target=\"_blank\">linalg/uniformscaling.jl:131</a></li> <li> *(J::<b>UniformScaling</b>, B::<b>BitArray{2}</b>) at <a href=\"https://github.com/JuliaLang/julia/tree/3c9d75391c72d7c32eea75ff187ce77b2d5effc8/base/linalg/uniformscaling.jl#L133\" target=\"_blank\">linalg/uniformscaling.jl:133</a></li> <li> *(A::<b>AbstractArray{T<:Any,2}</b>, J::<b>UniformScaling</b>) at <a href=\"https://github.com/JuliaLang/julia/tree/3c9d75391c72d7c32eea75ff187ce77b2d5effc8/base/linalg/uniformscaling.jl#L134\" target=\"_blank\">linalg/uniformscaling.jl:134</a></li> <li> *(J::<b>UniformScaling</b>, A::<b>Union{AbstractArray{T<:Any,1},AbstractArray{T<:Any,2}}</b>) at <a href=\"https://github.com/JuliaLang/julia/tree/3c9d75391c72d7c32eea75ff187ce77b2d5effc8/base/linalg/uniformscaling.jl#L135\" target=\"_blank\">linalg/uniformscaling.jl:135</a></li> <li> *(x::<b>Number</b>, J::<b>UniformScaling</b>) at <a href=\"https://github.com/JuliaLang/julia/tree/3c9d75391c72d7c32eea75ff187ce77b2d5effc8/base/linalg/uniformscaling.jl#L136\" target=\"_blank\">linalg/uniformscaling.jl:136</a></li> <li> *(J::<b>UniformScaling</b>, x::<b>Number</b>) at <a href=\"https://github.com/JuliaLang/julia/tree/3c9d75391c72d7c32eea75ff187ce77b2d5effc8/base/linalg/uniformscaling.jl#L137\" target=\"_blank\">linalg/uniformscaling.jl:137</a></li> <li> *<i>{T,S}</i>(R::<b>Base.LinAlg.AbstractRotation{T}</b>, A::<b>Union{AbstractArray{S,1},AbstractArray{S,2}}</b>) at <a href=\"https://github.com/JuliaLang/julia/tree/3c9d75391c72d7c32eea75ff187ce77b2d5effc8/base/linalg/givens.jl#L9\" target=\"_blank\">linalg/givens.jl:9</a></li> <li> *<i>{T}</i>(G1::<b>Base.LinAlg.Givens{T}</b>, G2::<b>Base.LinAlg.Givens{T}</b>) at <a href=\"https://github.com/JuliaLang/julia/tree/3c9d75391c72d7c32eea75ff187ce77b2d5effc8/base/linalg/givens.jl#L362\" target=\"_blank\">linalg/givens.jl:362</a></li> <li> *(p::<b>Base.DFT.ScaledPlan</b>, x::<b>AbstractArray</b>) at <a href=\"https://github.com/JuliaLang/julia/tree/3c9d75391c72d7c32eea75ff187ce77b2d5effc8/base/dft.jl#L255\" target=\"_blank\">dft.jl:255</a></li> <li> *<i>{T,K,N}</i>(p::<b>Base.DFT.FFTW.cFFTWPlan{T,K,false,N<:Any}</b>, x::<b>Union{Base.ReshapedArray{T,N,A<:DenseArray,MI<:Tuple{Vararg{Base.MultiplicativeInverses.SignedMultiplicativeInverse{Int64},N<:Any}}},DenseArray{T,N},SubArray{T,N,A<:Union{Base.ReshapedArray{T<:Any,N<:Any,A<:DenseArray,MI<:Tuple{Vararg{Base.MultiplicativeInverses.SignedMultiplicativeInverse{Int64},N<:Any}}},DenseArray},I<:Tuple{Vararg{Union{Base.AbstractCartesianIndex,Colon,Int64,Range{Int64}},N<:Any}},L<:Any}}</b>) at <a href=\"https://github.com/JuliaLang/julia/tree/3c9d75391c72d7c32eea75ff187ce77b2d5effc8/base/fft/FFTW.jl#L616\" target=\"_blank\">fft/FFTW.jl:616</a></li> <li> *<i>{T,K}</i>(p::<b>Base.DFT.FFTW.cFFTWPlan{T,K,true,N<:Any}</b>, x::<b>Union{Base.ReshapedArray{T,N<:Any,A<:DenseArray,MI<:Tuple{Vararg{Base.MultiplicativeInverses.SignedMultiplicativeInverse{Int64},N<:Any}}},DenseArray{T,N<:Any},SubArray{T,N<:Any,A<:Union{Base.ReshapedArray{T<:Any,N<:Any,A<:DenseArray,MI<:Tuple{Vararg{Base.MultiplicativeInverses.SignedMultiplicativeInverse{Int64},N<:Any}}},DenseArray},I<:Tuple{Vararg{Union{Base.AbstractCartesianIndex,Colon,Int64,Range{Int64}},N<:Any}},L<:Any}}</b>) at <a href=\"https://github.com/JuliaLang/julia/tree/3c9d75391c72d7c32eea75ff187ce77b2d5effc8/base/fft/FFTW.jl#L623\" target=\"_blank\">fft/FFTW.jl:623</a></li> <li> *<i>{N}</i>(p::<b>Base.DFT.FFTW.rFFTWPlan{Float32,-1,false,N<:Any}</b>, x::<b>Union{Base.ReshapedArray{Float32,N,A<:DenseArray,MI<:Tuple{Vararg{Base.MultiplicativeInverses.SignedMultiplicativeInverse{Int64},N<:Any}}},DenseArray{Float32,N},SubArray{Float32,N,A<:Union{Base.ReshapedArray{T<:Any,N<:Any,A<:DenseArray,MI<:Tuple{Vararg{Base.MultiplicativeInverses.SignedMultiplicativeInverse{Int64},N<:Any}}},DenseArray},I<:Tuple{Vararg{Union{Base.AbstractCartesianIndex,Colon,Int64,Range{Int64}},N<:Any}},L<:Any}}</b>) at <a href=\"https://github.com/JuliaLang/julia/tree/3c9d75391c72d7c32eea75ff187ce77b2d5effc8/base/fft/FFTW.jl#L693\" target=\"_blank\">fft/FFTW.jl:693</a></li> <li> *<i>{N}</i>(p::<b>Base.DFT.FFTW.rFFTWPlan{Complex{Float32},1,false,N<:Any}</b>, x::<b>Union{Base.ReshapedArray{Complex{Float32},N,A<:DenseArray,MI<:Tuple{Vararg{Base.MultiplicativeInverses.SignedMultiplicativeInverse{Int64},N<:Any}}},DenseArray{Complex{Float32},N},SubArray{Complex{Float32},N,A<:Union{Base.ReshapedArray{T<:Any,N<:Any,A<:DenseArray,MI<:Tuple{Vararg{Base.MultiplicativeInverses.SignedMultiplicativeInverse{Int64},N<:Any}}},DenseArray},I<:Tuple{Vararg{Union{Base.AbstractCartesianIndex,Colon,Int64,Range{Int64}},N<:Any}},L<:Any}}</b>) at <a href=\"https://github.com/JuliaLang/julia/tree/3c9d75391c72d7c32eea75ff187ce77b2d5effc8/base/fft/FFTW.jl#L700\" target=\"_blank\">fft/FFTW.jl:700</a></li> <li> *<i>{N}</i>(p::<b>Base.DFT.FFTW.rFFTWPlan{Float64,-1,false,N<:Any}</b>, x::<b>Union{Base.ReshapedArray{Float64,N,A<:DenseArray,MI<:Tuple{Vararg{Base.MultiplicativeInverses.SignedMultiplicativeInverse{Int64},N<:Any}}},DenseArray{Float64,N},SubArray{Float64,N,A<:Union{Base.ReshapedArray{T<:Any,N<:Any,A<:DenseArray,MI<:Tuple{Vararg{Base.MultiplicativeInverses.SignedMultiplicativeInverse{Int64},N<:Any}}},DenseArray},I<:Tuple{Vararg{Union{Base.AbstractCartesianIndex,Colon,Int64,Range{Int64}},N<:Any}},L<:Any}}</b>) at <a href=\"https://github.com/JuliaLang/julia/tree/3c9d75391c72d7c32eea75ff187ce77b2d5effc8/base/fft/FFTW.jl#L693\" target=\"_blank\">fft/FFTW.jl:693</a></li> <li> *<i>{N}</i>(p::<b>Base.DFT.FFTW.rFFTWPlan{Complex{Float64},1,false,N<:Any}</b>, x::<b>Union{Base.ReshapedArray{Complex{Float64},N,A<:DenseArray,MI<:Tuple{Vararg{Base.MultiplicativeInverses.SignedMultiplicativeInverse{Int64},N<:Any}}},DenseArray{Complex{Float64},N},SubArray{Complex{Float64},N,A<:Union{Base.ReshapedArray{T<:Any,N<:Any,A<:DenseArray,MI<:Tuple{Vararg{Base.MultiplicativeInverses.SignedMultiplicativeInverse{Int64},N<:Any}}},DenseArray},I<:Tuple{Vararg{Union{Base.AbstractCartesianIndex,Colon,Int64,Range{Int64}},N<:Any}},L<:Any}}</b>) at <a href=\"https://github.com/JuliaLang/julia/tree/3c9d75391c72d7c32eea75ff187ce77b2d5effc8/base/fft/FFTW.jl#L700\" target=\"_blank\">fft/FFTW.jl:700</a></li> <li> *<i>{T,K,N}</i>(p::<b>Base.DFT.FFTW.r2rFFTWPlan{T,K,false,N<:Any}</b>, x::<b>Union{Base.ReshapedArray{T,N,A<:DenseArray,MI<:Tuple{Vararg{Base.MultiplicativeInverses.SignedMultiplicativeInverse{Int64},N<:Any}}},DenseArray{T,N},SubArray{T,N,A<:Union{Base.ReshapedArray{T<:Any,N<:Any,A<:DenseArray,MI<:Tuple{Vararg{Base.MultiplicativeInverses.SignedMultiplicativeInverse{Int64},N<:Any}}},DenseArray},I<:Tuple{Vararg{Union{Base.AbstractCartesianIndex,Colon,Int64,Range{Int64}},N<:Any}},L<:Any}}</b>) at <a href=\"https://github.com/JuliaLang/julia/tree/3c9d75391c72d7c32eea75ff187ce77b2d5effc8/base/fft/FFTW.jl#L848\" target=\"_blank\">fft/FFTW.jl:848</a></li> <li> *<i>{T,K}</i>(p::<b>Base.DFT.FFTW.r2rFFTWPlan{T,K,true,N<:Any}</b>, x::<b>Union{Base.ReshapedArray{T,N<:Any,A<:DenseArray,MI<:Tuple{Vararg{Base.MultiplicativeInverses.SignedMultiplicativeInverse{Int64},N<:Any}}},DenseArray{T,N<:Any},SubArray{T,N<:Any,A<:Union{Base.ReshapedArray{T<:Any,N<:Any,A<:DenseArray,MI<:Tuple{Vararg{Base.MultiplicativeInverses.SignedMultiplicativeInverse{Int64},N<:Any}}},DenseArray},I<:Tuple{Vararg{Union{Base.AbstractCartesianIndex,Colon,Int64,Range{Int64}},N<:Any}},L<:Any}}</b>) at <a href=\"https://github.com/JuliaLang/julia/tree/3c9d75391c72d7c32eea75ff187ce77b2d5effc8/base/fft/FFTW.jl#L855\" target=\"_blank\">fft/FFTW.jl:855</a></li> <li> *<i>{T}</i>(p::<b>Base.DFT.FFTW.DCTPlan{T,5,false}</b>, x::<b>Union{Base.ReshapedArray{T,N<:Any,A<:DenseArray,MI<:Tuple{Vararg{Base.MultiplicativeInverses.SignedMultiplicativeInverse{Int64},N<:Any}}},DenseArray{T,N<:Any},SubArray{T,N<:Any,A<:Union{Base.ReshapedArray{T<:Any,N<:Any,A<:DenseArray,MI<:Tuple{Vararg{Base.MultiplicativeInverses.SignedMultiplicativeInverse{Int64},N<:Any}}},DenseArray},I<:Tuple{Vararg{Union{Base.AbstractCartesianIndex,Colon,Int64,Range{Int64}},N<:Any}},L<:Any}}</b>) at <a href=\"https://github.com/JuliaLang/julia/tree/3c9d75391c72d7c32eea75ff187ce77b2d5effc8/base/fft/dct.jl#L170\" target=\"_blank\">fft/dct.jl:170</a></li> <li> *<i>{T}</i>(p::<b>Base.DFT.FFTW.DCTPlan{T,4,false}</b>, x::<b>Union{Base.ReshapedArray{T,N<:Any,A<:DenseArray,MI<:Tuple{Vararg{Base.MultiplicativeInverses.SignedMultiplicativeInverse{Int64},N<:Any}}},DenseArray{T,N<:Any},SubArray{T,N<:Any,A<:Union{Base.ReshapedArray{T<:Any,N<:Any,A<:DenseArray,MI<:Tuple{Vararg{Base.MultiplicativeInverses.SignedMultiplicativeInverse{Int64},N<:Any}}},DenseArray},I<:Tuple{Vararg{Union{Base.AbstractCartesianIndex,Colon,Int64,Range{Int64}},N<:Any}},L<:Any}}</b>) at <a href=\"https://github.com/JuliaLang/julia/tree/3c9d75391c72d7c32eea75ff187ce77b2d5effc8/base/fft/dct.jl#L173\" target=\"_blank\">fft/dct.jl:173</a></li> <li> *<i>{T,K}</i>(p::<b>Base.DFT.FFTW.DCTPlan{T,K,true}</b>, x::<b>Union{Base.ReshapedArray{T,N<:Any,A<:DenseArray,MI<:Tuple{Vararg{Base.MultiplicativeInverses.SignedMultiplicativeInverse{Int64},N<:Any}}},DenseArray{T,N<:Any},SubArray{T,N<:Any,A<:Union{Base.ReshapedArray{T<:Any,N<:Any,A<:DenseArray,MI<:Tuple{Vararg{Base.MultiplicativeInverses.SignedMultiplicativeInverse{Int64},N<:Any}}},DenseArray},I<:Tuple{Vararg{Union{Base.AbstractCartesianIndex,Colon,Int64,Range{Int64}},N<:Any}},L<:Any}}</b>) at <a href=\"https://github.com/JuliaLang/julia/tree/3c9d75391c72d7c32eea75ff187ce77b2d5effc8/base/fft/dct.jl#L176\" target=\"_blank\">fft/dct.jl:176</a></li> <li> *<i>{T}</i>(p::<b>Base.DFT.Plan{T}</b>, x::<b>AbstractArray</b>) at <a href=\"https://github.com/JuliaLang/julia/tree/3c9d75391c72d7c32eea75ff187ce77b2d5effc8/base/dft.jl#L214\" target=\"_blank\">dft.jl:214</a></li> <li> *(α::<b>Number</b>, p::<b>Base.DFT.Plan</b>) at <a href=\"https://github.com/JuliaLang/julia/tree/3c9d75391c72d7c32eea75ff187ce77b2d5effc8/base/dft.jl#L257\" target=\"_blank\">dft.jl:257</a></li> <li> *(p::<b>Base.DFT.Plan</b>, α::<b>Number</b>) at <a href=\"https://github.com/JuliaLang/julia/tree/3c9d75391c72d7c32eea75ff187ce77b2d5effc8/base/dft.jl#L258\" target=\"_blank\">dft.jl:258</a></li> <li> *(I::<b>UniformScaling</b>, p::<b>Base.DFT.ScaledPlan</b>) at <a href=\"https://github.com/JuliaLang/julia/tree/3c9d75391c72d7c32eea75ff187ce77b2d5effc8/base/dft.jl#L259\" target=\"_blank\">dft.jl:259</a></li> <li> *(p::<b>Base.DFT.ScaledPlan</b>, I::<b>UniformScaling</b>) at <a href=\"https://github.com/JuliaLang/julia/tree/3c9d75391c72d7c32eea75ff187ce77b2d5effc8/base/dft.jl#L260\" target=\"_blank\">dft.jl:260</a></li> <li> *(I::<b>UniformScaling</b>, p::<b>Base.DFT.Plan</b>) at <a href=\"https://github.com/JuliaLang/julia/tree/3c9d75391c72d7c32eea75ff187ce77b2d5effc8/base/dft.jl#L261\" target=\"_blank\">dft.jl:261</a></li> <li> *(p::<b>Base.DFT.Plan</b>, I::<b>UniformScaling</b>) at <a href=\"https://github.com/JuliaLang/julia/tree/3c9d75391c72d7c32eea75ff187ce77b2d5effc8/base/dft.jl#L262\" target=\"_blank\">dft.jl:262</a></li> <li> *<i>{P<:Base.Dates.Period}</i>(x::<b>P</b>, y::<b>Real</b>) at <a href=\"https://github.com/JuliaLang/julia/tree/3c9d75391c72d7c32eea75ff187ce77b2d5effc8/base/dates/periods.jl#L89\" target=\"_blank\">dates/periods.jl:89</a></li> <li> *(a, b, c, xs...) at <a href=\"https://github.com/JuliaLang/julia/tree/3c9d75391c72d7c32eea75ff187ce77b2d5effc8/base/operators.jl#L138\" target=\"_blank\">operators.jl:138</a></li> </ul>"
      ],
      "text/plain": [
       "# 149 methods for generic function \"*\":\n",
       "*(x::Bool, z::Complex{Bool}) at complex.jl:140\n",
       "*(x::Bool, y::Bool) at bool.jl:50\n",
       "*{T<:Unsigned}(x::Bool, y::T) at bool.jl:63\n",
       "*(x::Bool, z::Complex) at complex.jl:147\n",
       "*(x::Bool, y::Irrational) at irrationals.jl:90\n",
       "*{T<:Number}(x::Bool, y::T) at bool.jl:60\n",
       "*(x::Float32, y::Float32) at float.jl:243\n",
       "*(x::Float64, y::Float64) at float.jl:244\n",
       "*(z::Complex{Bool}, x::Bool) at complex.jl:141\n",
       "*(z::Complex{Bool}, x::Real) at complex.jl:159\n",
       "*(a::Float16, b::Float16) at float16.jl:136\n",
       "*(this::Base.Grisu.Float, other::Base.Grisu.Float) at grisu/float.jl:138\n",
       "*(c::BigInt, x::BigFloat) at mpfr.jl:240\n",
       "*(a::BigInt, b::BigInt, c::BigInt, d::BigInt, e::BigInt) at gmp.jl:298\n",
       "*(a::BigInt, b::BigInt, c::BigInt, d::BigInt) at gmp.jl:291\n",
       "*(a::BigInt, b::BigInt, c::BigInt) at gmp.jl:285\n",
       "*(x::BigInt, y::BigInt) at gmp.jl:255\n",
       "*(x::BigInt, c::Union{UInt16,UInt32,UInt64,UInt8}) at gmp.jl:332\n",
       "*(x::BigInt, c::Union{Int16,Int32,Int64,Int8}) at gmp.jl:338\n",
       "*(a::BigFloat, b::BigFloat, c::BigFloat, d::BigFloat, e::BigFloat) at mpfr.jl:388\n",
       "*(a::BigFloat, b::BigFloat, c::BigFloat, d::BigFloat) at mpfr.jl:381\n",
       "*(a::BigFloat, b::BigFloat, c::BigFloat) at mpfr.jl:375\n",
       "*(x::BigFloat, c::BigInt) at mpfr.jl:236\n",
       "*(x::BigFloat, y::BigFloat) at mpfr.jl:205\n",
       "*(x::BigFloat, c::Union{UInt16,UInt32,UInt64,UInt8}) at mpfr.jl:212\n",
       "*(x::BigFloat, c::Union{Int16,Int32,Int64,Int8}) at mpfr.jl:220\n",
       "*(x::BigFloat, c::Union{Float16,Float32,Float64}) at mpfr.jl:228\n",
       "*(B::BitArray{2}, J::UniformScaling) at linalg/uniformscaling.jl:132\n",
       "*(z::Complex, w::Complex) at complex.jl:127\n",
       "*{T<:Union{Int128,UInt128}}(x::T, y::T) at int.jl:426\n",
       "*{T<:Union{Int128,Int16,Int32,Int64,Int8,UInt128,UInt16,UInt32,UInt64,UInt8}}(x::T, y::T) at int.jl:33\n",
       "*(z::Complex, x::Bool) at complex.jl:148\n",
       "*(x::Real, z::Complex{Bool}) at complex.jl:158\n",
       "*(x::Real, z::Complex) at complex.jl:170\n",
       "*(z::Complex, x::Real) at complex.jl:171\n",
       "*(x::Rational, y::Rational) at rational.jl:206\n",
       "*{N}(a::Integer, index::CartesianIndex{N}) at multidimensional.jl:61\n",
       "*(c::Union{UInt16,UInt32,UInt64,UInt8}, x::BigInt) at gmp.jl:336\n",
       "*(c::Union{Int16,Int32,Int64,Int8}, x::BigInt) at gmp.jl:342\n",
       "*(c::Union{UInt16,UInt32,UInt64,UInt8}, x::BigFloat) at mpfr.jl:216\n",
       "*(c::Union{Int16,Int32,Int64,Int8}, x::BigFloat) at mpfr.jl:224\n",
       "*(c::Union{Float16,Float32,Float64}, x::BigFloat) at mpfr.jl:232\n",
       "*{T<:Number}(x::T, D::Diagonal) at linalg/diagonal.jl:113\n",
       "*(x::Irrational, y::Irrational) at irrationals.jl:88\n",
       "*(y::Real, x::Base.Dates.Period) at dates/periods.jl:90\n",
       "*(x::Number) at operators.jl:116\n",
       "*(y::Number, x::Bool) at bool.jl:65\n",
       "*{T<:Number}(x::T, y::T) at promotion.jl:256\n",
       "*(x::Number, y::Number) at promotion.jl:191\n",
       "*{T<:Union{Complex{Float32},Complex{Float64},Float32,Float64},S}(A::Union{Base.ReshapedArray{T,2,A<:DenseArray,MI<:Tuple{Vararg{Base.MultiplicativeInverses.SignedMultiplicativeInverse{Int64},N<:Any}}},DenseArray{T,2},SubArray{T,2,A<:Union{Base.ReshapedArray{T<:Any,N<:Any,A<:DenseArray,MI<:Tuple{Vararg{Base.MultiplicativeInverses.SignedMultiplicativeInverse{Int64},N<:Any}}},DenseArray},I<:Tuple{Vararg{Union{Base.AbstractCartesianIndex,Colon,Int64,Range{Int64}},N<:Any}},L<:Any}}, x::Union{Base.ReshapedArray{S,1,A<:DenseArray,MI<:Tuple{Vararg{Base.MultiplicativeInverses.SignedMultiplicativeInverse{Int64},N<:Any}}},DenseArray{S,1},SubArray{S,1,A<:Union{Base.ReshapedArray{T<:Any,N<:Any,A<:DenseArray,MI<:Tuple{Vararg{Base.MultiplicativeInverses.SignedMultiplicativeInverse{Int64},N<:Any}}},DenseArray},I<:Tuple{Vararg{Union{Base.AbstractCartesianIndex,Colon,Int64,Range{Int64}},N<:Any}},L<:Any}}) at linalg/matmul.jl:79\n",
       "*(A::SymTridiagonal, B::Number) at linalg/tridiag.jl:98\n",
       "*(A::Tridiagonal, B::Number) at linalg/tridiag.jl:496\n",
       "*(A::UpperTriangular, x::Number) at linalg/triangular.jl:477\n",
       "*(A::Base.LinAlg.UnitUpperTriangular, x::Number) at linalg/triangular.jl:480\n",
       "*(A::LowerTriangular, x::Number) at linalg/triangular.jl:477\n",
       "*(A::Base.LinAlg.UnitLowerTriangular, x::Number) at linalg/triangular.jl:480\n",
       "*(A::Tridiagonal, B::UpperTriangular) at linalg/triangular.jl:1324\n",
       "*(A::Tridiagonal, B::Base.LinAlg.UnitUpperTriangular) at linalg/triangular.jl:1324\n",
       "*(A::Tridiagonal, B::LowerTriangular) at linalg/triangular.jl:1324\n",
       "*(A::Tridiagonal, B::Base.LinAlg.UnitLowerTriangular) at linalg/triangular.jl:1324\n",
       "*(A::LowerTriangular, B::LowerTriangular) at linalg/triangular.jl:1331\n",
       "*(A::Base.LinAlg.UnitLowerTriangular, B::LowerTriangular) at linalg/triangular.jl:1339\n",
       "*(A::UpperTriangular, B::UpperTriangular) at linalg/triangular.jl:1347\n",
       "*(A::Base.LinAlg.UnitUpperTriangular, B::UpperTriangular) at linalg/triangular.jl:1355\n",
       "*(A::Base.LinAlg.AbstractTriangular, B::Base.LinAlg.AbstractTriangular) at linalg/triangular.jl:1472\n",
       "*(A::Base.LinAlg.AbstractTriangular, D::Diagonal) at linalg/diagonal.jl:119\n",
       "*(A::Base.LinAlg.AbstractTriangular, B::Union{Bidiagonal,SymTridiagonal,Tridiagonal}) at linalg/bidiag.jl:415\n",
       "*(A::Base.LinAlg.AbstractTriangular, B::AbstractArray{T<:Any,1}) at linalg/triangular.jl:1496\n",
       "*(A::Base.LinAlg.AbstractTriangular, B::AbstractArray{T<:Any,2}) at linalg/triangular.jl:1496\n",
       "*(A::Union{Base.LinAlg.QRCompactWYQ,Base.LinAlg.QRPackedQ}, b::Union{Base.ReshapedArray{T<:Any,1,A<:DenseArray,MI<:Tuple{Vararg{Base.MultiplicativeInverses.SignedMultiplicativeInverse{Int64},N<:Any}}},DenseArray{T<:Any,1},SubArray{T<:Any,1,A<:Union{Base.ReshapedArray{T<:Any,N<:Any,A<:DenseArray,MI<:Tuple{Vararg{Base.MultiplicativeInverses.SignedMultiplicativeInverse{Int64},N<:Any}}},DenseArray},I<:Tuple{Vararg{Union{Base.AbstractCartesianIndex,Colon,Int64,Range{Int64}},N<:Any}},L<:Any}}) at linalg/qr.jl:372\n",
       "*(A::Union{Base.LinAlg.QRCompactWYQ,Base.LinAlg.QRPackedQ}, B::Union{Base.ReshapedArray{T<:Any,2,A<:DenseArray,MI<:Tuple{Vararg{Base.MultiplicativeInverses.SignedMultiplicativeInverse{Int64},N<:Any}}},DenseArray{T<:Any,2},SubArray{T<:Any,2,A<:Union{Base.ReshapedArray{T<:Any,N<:Any,A<:DenseArray,MI<:Tuple{Vararg{Base.MultiplicativeInverses.SignedMultiplicativeInverse{Int64},N<:Any}}},DenseArray},I<:Tuple{Vararg{Union{Base.AbstractCartesianIndex,Colon,Int64,Range{Int64}},N<:Any}},L<:Any}}) at linalg/qr.jl:384\n",
       "*(A::Union{Base.ReshapedArray{T<:Any,2,A<:DenseArray,MI<:Tuple{Vararg{Base.MultiplicativeInverses.SignedMultiplicativeInverse{Int64},N<:Any}}},DenseArray{T<:Any,2},SubArray{T<:Any,2,A<:Union{Base.ReshapedArray{T<:Any,N<:Any,A<:DenseArray,MI<:Tuple{Vararg{Base.MultiplicativeInverses.SignedMultiplicativeInverse{Int64},N<:Any}}},DenseArray},I<:Tuple{Vararg{Union{Base.AbstractCartesianIndex,Colon,Int64,Range{Int64}},N<:Any}},L<:Any}}, Q::Union{Base.LinAlg.QRCompactWYQ,Base.LinAlg.QRPackedQ}) at linalg/qr.jl:472\n",
       "*{T,S}(Q::Base.LinAlg.HessenbergQ{T,S<:AbstractArray{T<:Any,2}}, X::Union{Base.ReshapedArray{S,1,A<:DenseArray,MI<:Tuple{Vararg{Base.MultiplicativeInverses.SignedMultiplicativeInverse{Int64},N<:Any}}},Base.ReshapedArray{S,2,A<:DenseArray,MI<:Tuple{Vararg{Base.MultiplicativeInverses.SignedMultiplicativeInverse{Int64},N<:Any}}},DenseArray{S,1},DenseArray{S,2},SubArray{S,1,A<:Union{Base.ReshapedArray{T<:Any,N<:Any,A<:DenseArray,MI<:Tuple{Vararg{Base.MultiplicativeInverses.SignedMultiplicativeInverse{Int64},N<:Any}}},DenseArray},I<:Tuple{Vararg{Union{Base.AbstractCartesianIndex,Colon,Int64,Range{Int64}},N<:Any}},L<:Any},SubArray{S,2,A<:Union{Base.ReshapedArray{T<:Any,N<:Any,A<:DenseArray,MI<:Tuple{Vararg{Base.MultiplicativeInverses.SignedMultiplicativeInverse{Int64},N<:Any}}},DenseArray},I<:Tuple{Vararg{Union{Base.AbstractCartesianIndex,Colon,Int64,Range{Int64}},N<:Any}},L<:Any}}) at linalg/hessenberg.jl:76\n",
       "*{T,S}(X::Union{Base.ReshapedArray{S,1,A<:DenseArray,MI<:Tuple{Vararg{Base.MultiplicativeInverses.SignedMultiplicativeInverse{Int64},N<:Any}}},Base.ReshapedArray{S,2,A<:DenseArray,MI<:Tuple{Vararg{Base.MultiplicativeInverses.SignedMultiplicativeInverse{Int64},N<:Any}}},DenseArray{S,1},DenseArray{S,2},SubArray{S,1,A<:Union{Base.ReshapedArray{T<:Any,N<:Any,A<:DenseArray,MI<:Tuple{Vararg{Base.MultiplicativeInverses.SignedMultiplicativeInverse{Int64},N<:Any}}},DenseArray},I<:Tuple{Vararg{Union{Base.AbstractCartesianIndex,Colon,Int64,Range{Int64}},N<:Any}},L<:Any},SubArray{S,2,A<:Union{Base.ReshapedArray{T<:Any,N<:Any,A<:DenseArray,MI<:Tuple{Vararg{Base.MultiplicativeInverses.SignedMultiplicativeInverse{Int64},N<:Any}}},DenseArray},I<:Tuple{Vararg{Union{Base.AbstractCartesianIndex,Colon,Int64,Range{Int64}},N<:Any}},L<:Any}}, Q::Base.LinAlg.HessenbergQ{T,S<:AbstractArray{T<:Any,2}}) at linalg/hessenberg.jl:80\n",
       "*(A::Base.LinAlg.LQPackedQ, B::Union{Base.ReshapedArray{T<:Any,1,A<:DenseArray,MI<:Tuple{Vararg{Base.MultiplicativeInverses.SignedMultiplicativeInverse{Int64},N<:Any}}},Base.ReshapedArray{T<:Any,2,A<:DenseArray,MI<:Tuple{Vararg{Base.MultiplicativeInverses.SignedMultiplicativeInverse{Int64},N<:Any}}},DenseArray{T<:Any,1},DenseArray{T<:Any,2},SubArray{T<:Any,1,A<:Union{Base.ReshapedArray{T<:Any,N<:Any,A<:DenseArray,MI<:Tuple{Vararg{Base.MultiplicativeInverses.SignedMultiplicativeInverse{Int64},N<:Any}}},DenseArray},I<:Tuple{Vararg{Union{Base.AbstractCartesianIndex,Colon,Int64,Range{Int64}},N<:Any}},L<:Any},SubArray{T<:Any,2,A<:Union{Base.ReshapedArray{T<:Any,N<:Any,A<:DenseArray,MI<:Tuple{Vararg{Base.MultiplicativeInverses.SignedMultiplicativeInverse{Int64},N<:Any}}},DenseArray},I<:Tuple{Vararg{Union{Base.AbstractCartesianIndex,Colon,Int64,Range{Int64}},N<:Any}},L<:Any}}) at linalg/lq.jl:134\n",
       "*{TA,TB}(A::Union{Base.ReshapedArray{TA,2,A<:DenseArray,MI<:Tuple{Vararg{Base.MultiplicativeInverses.SignedMultiplicativeInverse{Int64},N<:Any}}},DenseArray{TA,2},SubArray{TA,2,A<:Union{Base.ReshapedArray{T<:Any,N<:Any,A<:DenseArray,MI<:Tuple{Vararg{Base.MultiplicativeInverses.SignedMultiplicativeInverse{Int64},N<:Any}}},DenseArray},I<:Tuple{Vararg{Union{Base.AbstractCartesianIndex,Colon,Int64,Range{Int64}},N<:Any}},L<:Any}}, B::Base.LinAlg.LQPackedQ{TB,S<:AbstractArray{T<:Any,2}}) at linalg/lq.jl:168\n",
       "*(A::Union{Hermitian{T<:Any,S<:Any},Symmetric{T<:Any,S<:Any}}, B::Union{Hermitian{T<:Any,S<:Any},Symmetric{T<:Any,S<:Any}}) at linalg/symmetric.jl:180\n",
       "*(A::Union{Base.ReshapedArray{T<:Any,2,A<:DenseArray,MI<:Tuple{Vararg{Base.MultiplicativeInverses.SignedMultiplicativeInverse{Int64},N<:Any}}},DenseArray{T<:Any,2},SubArray{T<:Any,2,A<:Union{Base.ReshapedArray{T<:Any,N<:Any,A<:DenseArray,MI<:Tuple{Vararg{Base.MultiplicativeInverses.SignedMultiplicativeInverse{Int64},N<:Any}}},DenseArray},I<:Tuple{Vararg{Union{Base.AbstractCartesianIndex,Colon,Int64,Range{Int64}},N<:Any}},L<:Any}}, B::Union{Hermitian{T<:Any,S<:Any},Symmetric{T<:Any,S<:Any}}) at linalg/symmetric.jl:181\n",
       "*{T<:Number}(D::Diagonal, x::T) at linalg/diagonal.jl:114\n",
       "*(Da::Diagonal, Db::Diagonal) at linalg/diagonal.jl:116\n",
       "*(D::Diagonal, B::Base.LinAlg.AbstractTriangular) at linalg/diagonal.jl:120\n",
       "*(D::Diagonal, A::SparseMatrixCSC) at sparse/linalg.jl:114\n",
       "*(D::Diagonal, V::AbstractArray{T<:Any,1}) at linalg/diagonal.jl:117\n",
       "*(D::Diagonal, A::AbstractArray{T<:Any,2}) at linalg/diagonal.jl:124\n",
       "*(A::Bidiagonal, B::Number) at linalg/bidiag.jl:272\n",
       "*(A::Union{Bidiagonal,SymTridiagonal,Tridiagonal}, B::Union{Bidiagonal,SymTridiagonal,Tridiagonal}) at linalg/bidiag.jl:416\n",
       "*{T}(A::Bidiagonal{T}, B::AbstractArray{T,1}) at linalg/bidiag.jl:420\n",
       "*{TX,TvA,TiA}(X::Union{Base.ReshapedArray{TX,2,A<:DenseArray,MI<:Tuple{Vararg{Base.MultiplicativeInverses.SignedMultiplicativeInverse{Int64},N<:Any}}},DenseArray{TX,2},SubArray{TX,2,A<:Union{Base.ReshapedArray{T<:Any,N<:Any,A<:DenseArray,MI<:Tuple{Vararg{Base.MultiplicativeInverses.SignedMultiplicativeInverse{Int64},N<:Any}}},DenseArray},I<:Tuple{Vararg{Union{Base.AbstractCartesianIndex,Colon,Int64,Range{Int64}},N<:Any}},L<:Any}}, A::SparseMatrixCSC{TvA,TiA}) at sparse/linalg.jl:102\n",
       "*{Ta,Tx}(A::Union{Base.ReshapedArray{Ta,2,A<:DenseArray,MI<:Tuple{Vararg{Base.MultiplicativeInverses.SignedMultiplicativeInverse{Int64},N<:Any}}},DenseArray{Ta,2},SubArray{Ta,2,A<:Union{Base.ReshapedArray{T<:Any,N<:Any,A<:DenseArray,MI<:Tuple{Vararg{Base.MultiplicativeInverses.SignedMultiplicativeInverse{Int64},N<:Any}}},DenseArray},I<:Tuple{Vararg{Union{Base.AbstractCartesianIndex,Colon,Int64,Range{Int64}},N<:Any}},L<:Any}}, x::AbstractSparseArray{Tx,Ti<:Any,1}) at sparse/sparsevector.jl:1360\n",
       "*(A::SparseMatrixCSC, x::AbstractSparseArray{Tv<:Any,Ti<:Any,1}) at sparse/sparsevector.jl:1538\n",
       "*{Tv,Ti}(A::SparseMatrixCSC{Tv,Ti}, B::SparseMatrixCSC{Tv,Ti}) at sparse/linalg.jl:125\n",
       "*{TvA,TiA,TvB,TiB}(A::SparseMatrixCSC{TvA,TiA}, B::SparseMatrixCSC{TvB,TiB}) at sparse/linalg.jl:24\n",
       "*(A::SparseMatrixCSC, D::Diagonal) at sparse/linalg.jl:118\n",
       "*(A::Base.SparseArrays.CHOLMOD.Sparse, B::Base.SparseArrays.CHOLMOD.Sparse) at sparse/cholmod.jl:1181\n",
       "*(A::Base.SparseArrays.CHOLMOD.Sparse, B::Base.SparseArrays.CHOLMOD.Dense) at sparse/cholmod.jl:1182\n",
       "*(A::Base.SparseArrays.CHOLMOD.Sparse, B::Union{Array{T<:Any,1},Array{T<:Any,2}}) at sparse/cholmod.jl:1183\n",
       "*{Ti}(A::Symmetric{Float64,SparseMatrixCSC{Float64,Ti}}, B::Union{SparseMatrixCSC{Float64,Ti},SparseVector{Float64,Ti}}) at sparse/cholmod.jl:1584\n",
       "*{Ti}(A::Hermitian{Complex{Float64},SparseMatrixCSC{Complex{Float64},Ti}}, B::Union{SparseMatrixCSC{Complex{Float64},Ti},SparseVector{Complex{Float64},Ti}}) at sparse/cholmod.jl:1585\n",
       "*{Ti}(A::Hermitian{Float64,SparseMatrixCSC{Float64,Ti}}, B::Union{SparseMatrixCSC{Float64,Ti},SparseVector{Float64,Ti}}) at sparse/cholmod.jl:1586\n",
       "*{T<:Number}(x::AbstractArray{T,2}) at abstractarraymath.jl:92\n",
       "*(B::Number, A::SymTridiagonal) at linalg/tridiag.jl:99\n",
       "*(B::Number, A::Tridiagonal) at linalg/tridiag.jl:497\n",
       "*(x::Number, A::UpperTriangular) at linalg/triangular.jl:487\n",
       "*(x::Number, A::Base.LinAlg.UnitUpperTriangular) at linalg/triangular.jl:490\n",
       "*(x::Number, A::LowerTriangular) at linalg/triangular.jl:487\n",
       "*(x::Number, A::Base.LinAlg.UnitLowerTriangular) at linalg/triangular.jl:490\n",
       "*(B::Number, A::Bidiagonal) at linalg/bidiag.jl:273\n",
       "*(A::Number, B::AbstractArray) at abstractarraymath.jl:96\n",
       "*(A::AbstractArray, B::Number) at abstractarraymath.jl:97\n",
       "*(s1::AbstractString, ss::AbstractString...) at strings/basic.jl:84\n",
       "*(index::CartesianIndex, a::Integer) at multidimensional.jl:62\n",
       "*(A::AbstractArray{T<:Any,2}, B::Base.LinAlg.AbstractTriangular) at linalg/triangular.jl:1529\n",
       "*(A::AbstractArray{T<:Any,2}, D::Diagonal) at linalg/diagonal.jl:122\n",
       "*{T,S}(A::AbstractArray{T,2}, x::AbstractArray{S,1}) at linalg/matmul.jl:83\n",
       "*(A::AbstractArray{T<:Any,1}, B::Base.LinAlg.AbstractTriangular) at linalg/triangular.jl:1529\n",
       "*(A::AbstractArray{T<:Any,1}, B::AbstractArray{T<:Any,2}) at linalg/matmul.jl:86\n",
       "*{T,S}(A::AbstractArray{T,2}, B::AbstractArray{S,2}) at linalg/matmul.jl:128\n",
       "*{TA,TB}(A::Base.LinAlg.LQ{TA,S<:AbstractArray{T<:Any,2}}, B::Union{Base.ReshapedArray{TB,1,A<:DenseArray,MI<:Tuple{Vararg{Base.MultiplicativeInverses.SignedMultiplicativeInverse{Int64},N<:Any}}},Base.ReshapedArray{TB,2,A<:DenseArray,MI<:Tuple{Vararg{Base.MultiplicativeInverses.SignedMultiplicativeInverse{Int64},N<:Any}}},DenseArray{TB,1},DenseArray{TB,2},SubArray{TB,1,A<:Union{Base.ReshapedArray{T<:Any,N<:Any,A<:DenseArray,MI<:Tuple{Vararg{Base.MultiplicativeInverses.SignedMultiplicativeInverse{Int64},N<:Any}}},DenseArray},I<:Tuple{Vararg{Union{Base.AbstractCartesianIndex,Colon,Int64,Range{Int64}},N<:Any}},L<:Any},SubArray{TB,2,A<:Union{Base.ReshapedArray{T<:Any,N<:Any,A<:DenseArray,MI<:Tuple{Vararg{Base.MultiplicativeInverses.SignedMultiplicativeInverse{Int64},N<:Any}}},DenseArray},I<:Tuple{Vararg{Union{Base.AbstractCartesianIndex,Colon,Int64,Range{Int64}},N<:Any}},L<:Any}}) at linalg/lq.jl:118\n",
       "*{TA,TB}(A::Base.LinAlg.LQ{TA,S<:AbstractArray{T<:Any,2}}, B::Base.LinAlg.QR{TB,S<:AbstractArray{T<:Any,2}}) at linalg/lq.jl:122\n",
       "*{TA,TB}(A::Base.LinAlg.QR{TA,S<:AbstractArray{T<:Any,2}}, B::Base.LinAlg.LQ{TB,S<:AbstractArray{T<:Any,2}}) at linalg/lq.jl:126\n",
       "*(J1::UniformScaling, J2::UniformScaling) at linalg/uniformscaling.jl:131\n",
       "*(J::UniformScaling, B::BitArray{2}) at linalg/uniformscaling.jl:133\n",
       "*(A::AbstractArray{T<:Any,2}, J::UniformScaling) at linalg/uniformscaling.jl:134\n",
       "*(J::UniformScaling, A::Union{AbstractArray{T<:Any,1},AbstractArray{T<:Any,2}}) at linalg/uniformscaling.jl:135\n",
       "*(x::Number, J::UniformScaling) at linalg/uniformscaling.jl:136\n",
       "*(J::UniformScaling, x::Number) at linalg/uniformscaling.jl:137\n",
       "*{T,S}(R::Base.LinAlg.AbstractRotation{T}, A::Union{AbstractArray{S,1},AbstractArray{S,2}}) at linalg/givens.jl:9\n",
       "*{T}(G1::Base.LinAlg.Givens{T}, G2::Base.LinAlg.Givens{T}) at linalg/givens.jl:362\n",
       "*(p::Base.DFT.ScaledPlan, x::AbstractArray) at dft.jl:255\n",
       "*{T,K,N}(p::Base.DFT.FFTW.cFFTWPlan{T,K,false,N<:Any}, x::Union{Base.ReshapedArray{T,N,A<:DenseArray,MI<:Tuple{Vararg{Base.MultiplicativeInverses.SignedMultiplicativeInverse{Int64},N<:Any}}},DenseArray{T,N},SubArray{T,N,A<:Union{Base.ReshapedArray{T<:Any,N<:Any,A<:DenseArray,MI<:Tuple{Vararg{Base.MultiplicativeInverses.SignedMultiplicativeInverse{Int64},N<:Any}}},DenseArray},I<:Tuple{Vararg{Union{Base.AbstractCartesianIndex,Colon,Int64,Range{Int64}},N<:Any}},L<:Any}}) at fft/FFTW.jl:616\n",
       "*{T,K}(p::Base.DFT.FFTW.cFFTWPlan{T,K,true,N<:Any}, x::Union{Base.ReshapedArray{T,N<:Any,A<:DenseArray,MI<:Tuple{Vararg{Base.MultiplicativeInverses.SignedMultiplicativeInverse{Int64},N<:Any}}},DenseArray{T,N<:Any},SubArray{T,N<:Any,A<:Union{Base.ReshapedArray{T<:Any,N<:Any,A<:DenseArray,MI<:Tuple{Vararg{Base.MultiplicativeInverses.SignedMultiplicativeInverse{Int64},N<:Any}}},DenseArray},I<:Tuple{Vararg{Union{Base.AbstractCartesianIndex,Colon,Int64,Range{Int64}},N<:Any}},L<:Any}}) at fft/FFTW.jl:623\n",
       "*{N}(p::Base.DFT.FFTW.rFFTWPlan{Float32,-1,false,N<:Any}, x::Union{Base.ReshapedArray{Float32,N,A<:DenseArray,MI<:Tuple{Vararg{Base.MultiplicativeInverses.SignedMultiplicativeInverse{Int64},N<:Any}}},DenseArray{Float32,N},SubArray{Float32,N,A<:Union{Base.ReshapedArray{T<:Any,N<:Any,A<:DenseArray,MI<:Tuple{Vararg{Base.MultiplicativeInverses.SignedMultiplicativeInverse{Int64},N<:Any}}},DenseArray},I<:Tuple{Vararg{Union{Base.AbstractCartesianIndex,Colon,Int64,Range{Int64}},N<:Any}},L<:Any}}) at fft/FFTW.jl:693\n",
       "*{N}(p::Base.DFT.FFTW.rFFTWPlan{Complex{Float32},1,false,N<:Any}, x::Union{Base.ReshapedArray{Complex{Float32},N,A<:DenseArray,MI<:Tuple{Vararg{Base.MultiplicativeInverses.SignedMultiplicativeInverse{Int64},N<:Any}}},DenseArray{Complex{Float32},N},SubArray{Complex{Float32},N,A<:Union{Base.ReshapedArray{T<:Any,N<:Any,A<:DenseArray,MI<:Tuple{Vararg{Base.MultiplicativeInverses.SignedMultiplicativeInverse{Int64},N<:Any}}},DenseArray},I<:Tuple{Vararg{Union{Base.AbstractCartesianIndex,Colon,Int64,Range{Int64}},N<:Any}},L<:Any}}) at fft/FFTW.jl:700\n",
       "*{N}(p::Base.DFT.FFTW.rFFTWPlan{Float64,-1,false,N<:Any}, x::Union{Base.ReshapedArray{Float64,N,A<:DenseArray,MI<:Tuple{Vararg{Base.MultiplicativeInverses.SignedMultiplicativeInverse{Int64},N<:Any}}},DenseArray{Float64,N},SubArray{Float64,N,A<:Union{Base.ReshapedArray{T<:Any,N<:Any,A<:DenseArray,MI<:Tuple{Vararg{Base.MultiplicativeInverses.SignedMultiplicativeInverse{Int64},N<:Any}}},DenseArray},I<:Tuple{Vararg{Union{Base.AbstractCartesianIndex,Colon,Int64,Range{Int64}},N<:Any}},L<:Any}}) at fft/FFTW.jl:693\n",
       "*{N}(p::Base.DFT.FFTW.rFFTWPlan{Complex{Float64},1,false,N<:Any}, x::Union{Base.ReshapedArray{Complex{Float64},N,A<:DenseArray,MI<:Tuple{Vararg{Base.MultiplicativeInverses.SignedMultiplicativeInverse{Int64},N<:Any}}},DenseArray{Complex{Float64},N},SubArray{Complex{Float64},N,A<:Union{Base.ReshapedArray{T<:Any,N<:Any,A<:DenseArray,MI<:Tuple{Vararg{Base.MultiplicativeInverses.SignedMultiplicativeInverse{Int64},N<:Any}}},DenseArray},I<:Tuple{Vararg{Union{Base.AbstractCartesianIndex,Colon,Int64,Range{Int64}},N<:Any}},L<:Any}}) at fft/FFTW.jl:700\n",
       "*{T,K,N}(p::Base.DFT.FFTW.r2rFFTWPlan{T,K,false,N<:Any}, x::Union{Base.ReshapedArray{T,N,A<:DenseArray,MI<:Tuple{Vararg{Base.MultiplicativeInverses.SignedMultiplicativeInverse{Int64},N<:Any}}},DenseArray{T,N},SubArray{T,N,A<:Union{Base.ReshapedArray{T<:Any,N<:Any,A<:DenseArray,MI<:Tuple{Vararg{Base.MultiplicativeInverses.SignedMultiplicativeInverse{Int64},N<:Any}}},DenseArray},I<:Tuple{Vararg{Union{Base.AbstractCartesianIndex,Colon,Int64,Range{Int64}},N<:Any}},L<:Any}}) at fft/FFTW.jl:848\n",
       "*{T,K}(p::Base.DFT.FFTW.r2rFFTWPlan{T,K,true,N<:Any}, x::Union{Base.ReshapedArray{T,N<:Any,A<:DenseArray,MI<:Tuple{Vararg{Base.MultiplicativeInverses.SignedMultiplicativeInverse{Int64},N<:Any}}},DenseArray{T,N<:Any},SubArray{T,N<:Any,A<:Union{Base.ReshapedArray{T<:Any,N<:Any,A<:DenseArray,MI<:Tuple{Vararg{Base.MultiplicativeInverses.SignedMultiplicativeInverse{Int64},N<:Any}}},DenseArray},I<:Tuple{Vararg{Union{Base.AbstractCartesianIndex,Colon,Int64,Range{Int64}},N<:Any}},L<:Any}}) at fft/FFTW.jl:855\n",
       "*{T}(p::Base.DFT.FFTW.DCTPlan{T,5,false}, x::Union{Base.ReshapedArray{T,N<:Any,A<:DenseArray,MI<:Tuple{Vararg{Base.MultiplicativeInverses.SignedMultiplicativeInverse{Int64},N<:Any}}},DenseArray{T,N<:Any},SubArray{T,N<:Any,A<:Union{Base.ReshapedArray{T<:Any,N<:Any,A<:DenseArray,MI<:Tuple{Vararg{Base.MultiplicativeInverses.SignedMultiplicativeInverse{Int64},N<:Any}}},DenseArray},I<:Tuple{Vararg{Union{Base.AbstractCartesianIndex,Colon,Int64,Range{Int64}},N<:Any}},L<:Any}}) at fft/dct.jl:170\n",
       "*{T}(p::Base.DFT.FFTW.DCTPlan{T,4,false}, x::Union{Base.ReshapedArray{T,N<:Any,A<:DenseArray,MI<:Tuple{Vararg{Base.MultiplicativeInverses.SignedMultiplicativeInverse{Int64},N<:Any}}},DenseArray{T,N<:Any},SubArray{T,N<:Any,A<:Union{Base.ReshapedArray{T<:Any,N<:Any,A<:DenseArray,MI<:Tuple{Vararg{Base.MultiplicativeInverses.SignedMultiplicativeInverse{Int64},N<:Any}}},DenseArray},I<:Tuple{Vararg{Union{Base.AbstractCartesianIndex,Colon,Int64,Range{Int64}},N<:Any}},L<:Any}}) at fft/dct.jl:173\n",
       "*{T,K}(p::Base.DFT.FFTW.DCTPlan{T,K,true}, x::Union{Base.ReshapedArray{T,N<:Any,A<:DenseArray,MI<:Tuple{Vararg{Base.MultiplicativeInverses.SignedMultiplicativeInverse{Int64},N<:Any}}},DenseArray{T,N<:Any},SubArray{T,N<:Any,A<:Union{Base.ReshapedArray{T<:Any,N<:Any,A<:DenseArray,MI<:Tuple{Vararg{Base.MultiplicativeInverses.SignedMultiplicativeInverse{Int64},N<:Any}}},DenseArray},I<:Tuple{Vararg{Union{Base.AbstractCartesianIndex,Colon,Int64,Range{Int64}},N<:Any}},L<:Any}}) at fft/dct.jl:176\n",
       "*{T}(p::Base.DFT.Plan{T}, x::AbstractArray) at dft.jl:214\n",
       "*(α::Number, p::Base.DFT.Plan) at dft.jl:257\n",
       "*(p::Base.DFT.Plan, α::Number) at dft.jl:258\n",
       "*(I::UniformScaling, p::Base.DFT.ScaledPlan) at dft.jl:259\n",
       "*(p::Base.DFT.ScaledPlan, I::UniformScaling) at dft.jl:260\n",
       "*(I::UniformScaling, p::Base.DFT.Plan) at dft.jl:261\n",
       "*(p::Base.DFT.Plan, I::UniformScaling) at dft.jl:262\n",
       "*{P<:Base.Dates.Period}(x::P, y::Real) at dates/periods.jl:89\n",
       "*(a, b, c, xs...) at operators.jl:138"
      ]
     },
     "execution_count": 1,
     "metadata": {},
     "output_type": "execute_result"
    }
   ],
   "source": [
    "methods(*)"
   ]
  },
  {
   "cell_type": "markdown",
   "metadata": {},
   "source": [
    "We can add new methods to a given function at any time.  The methods don't \"belong\" to a particular type, and aren't part of the type's definition.\n",
    "\n",
    "For example, string concatenation in Julia is done via `*`:"
   ]
  },
  {
   "cell_type": "code",
   "execution_count": 2,
   "metadata": {
    "collapsed": false
   },
   "outputs": [
    {
     "data": {
      "text/plain": [
       "\"helloworld\""
      ]
     },
     "execution_count": 2,
     "metadata": {},
     "output_type": "execute_result"
    }
   ],
   "source": [
    "\"hello\" * \"world\""
   ]
  },
  {
   "cell_type": "code",
   "execution_count": 3,
   "metadata": {
    "collapsed": false
   },
   "outputs": [
    {
     "ename": "LoadError",
     "evalue": "LoadError: MethodError: no method matching +(::String, ::String)\nClosest candidates are:\n  +(::Any, ::Any, !Matched::Any, !Matched::Any...) at operators.jl:138\nwhile loading In[3], in expression starting on line 1",
     "output_type": "error",
     "traceback": [
      "LoadError: MethodError: no method matching +(::String, ::String)\nClosest candidates are:\n  +(::Any, ::Any, !Matched::Any, !Matched::Any...) at operators.jl:138\nwhile loading In[3], in expression starting on line 1",
      ""
     ]
    }
   ],
   "source": [
    "\"hello\" + \"world\""
   ]
  },
  {
   "cell_type": "markdown",
   "metadata": {},
   "source": [
    "But we can easily extend `+` to support a concatenation for strings, if we want:"
   ]
  },
  {
   "cell_type": "code",
   "execution_count": 4,
   "metadata": {
    "collapsed": false
   },
   "outputs": [
    {
     "data": {
      "text/plain": [
       "+ (generic function with 164 methods)"
      ]
     },
     "execution_count": 4,
     "metadata": {},
     "output_type": "execute_result"
    }
   ],
   "source": [
    "import Base.+ # we must import a method to add methods (as opposed to replacing it)\n",
    "+(x::String, y::String) = x * \" \" * y"
   ]
  },
  {
   "cell_type": "code",
   "execution_count": 5,
   "metadata": {
    "collapsed": false
   },
   "outputs": [
    {
     "data": {
      "text/plain": [
       "\"hello world\""
      ]
     },
     "execution_count": 5,
     "metadata": {},
     "output_type": "execute_result"
    }
   ],
   "source": [
    "\"hello\" + \"world\""
   ]
  },
  {
   "cell_type": "markdown",
   "metadata": {},
   "source": [
    "## Not the same as C++ overloading: Dynamic vs. static"
   ]
  },
  {
   "cell_type": "markdown",
   "metadata": {},
   "source": [
    "This may look a lot like function overloading in languages like C++.   The difference is that C++'s overloading is **static** (= *dispatch at compile-time*), whereas Julia's overloading is dynamic (= *dispatch at run-time*), like OO polymorphism.\n",
    "\n",
    "For example, now that we've defined `+`, we can use strings with any previously defined function that requires a `+` operation, like `sum` (summation):"
   ]
  },
  {
   "cell_type": "code",
   "execution_count": 6,
   "metadata": {
    "collapsed": false
   },
   "outputs": [
    {
     "data": {
      "text/plain": [
       "\"The quick brown fox jumped over the lazy dog.\""
      ]
     },
     "execution_count": 6,
     "metadata": {},
     "output_type": "execute_result"
    }
   ],
   "source": [
    "sum([\"The\", \"quick\", \"brown\", \"fox\", \"jumped\", \"over\", \"the\", \"lazy\", \"dog.\"])"
   ]
  },
  {
   "cell_type": "markdown",
   "metadata": {},
   "source": [
    "## Type declarations are \"function filters\"\n",
    "\n",
    "Type declarations are *not* required for performance — Julia automatically specializes a function on its argument types during compilation.  They act like **filters**, allowing us to specify *which functions are used when*.\n",
    "\n",
    "Without this, in a language like Python, you sometimes have to write *manual function filters* (see, for example, `_parse_args(*args)` in Matplotlib's [quiver.py](https://github.com/matplotlib/matplotlib/blob/43150ef012e405de5c2fb7b779d1bffa77f7af81/lib/matplotlib/quiver.py)).\n",
    "\n",
    "In Julia, you could define different methods for differing numbers of arguments, arrays vs. scalars, etcetera (all eventually calling a single lower-level function to do the work once the arguments have been transformed).\n",
    "\n",
    "The work is done by the assertion operator `::`, as seen below:"
   ]
  },
  {
   "cell_type": "code",
   "execution_count": 7,
   "metadata": {
    "collapsed": false
   },
   "outputs": [
    {
     "ename": "LoadError",
     "evalue": "LoadError: TypeError: typeassert: expected AbstractFloat, got Int64\nwhile loading In[7], in expression starting on line 1",
     "output_type": "error",
     "traceback": [
      "LoadError: TypeError: typeassert: expected AbstractFloat, got Int64\nwhile loading In[7], in expression starting on line 1",
      ""
     ]
    }
   ],
   "source": [
    "(1+2)::AbstractFloat"
   ]
  },
  {
   "cell_type": "code",
   "execution_count": 8,
   "metadata": {
    "collapsed": false
   },
   "outputs": [
    {
     "data": {
      "text/plain": [
       "3"
      ]
     },
     "execution_count": 8,
     "metadata": {},
     "output_type": "execute_result"
    }
   ],
   "source": [
    "(1+2)::Int"
   ]
  },
  {
   "cell_type": "markdown",
   "metadata": {},
   "source": [
    "Julia works with a dynamic tree of types:"
   ]
  },
  {
   "cell_type": "code",
   "execution_count": 9,
   "metadata": {
    "collapsed": false
   },
   "outputs": [
    {
     "data": {
      "text/plain": [
       "true"
      ]
     },
     "execution_count": 9,
     "metadata": {},
     "output_type": "execute_result"
    }
   ],
   "source": [
    "Integer <: Number"
   ]
  },
  {
   "cell_type": "markdown",
   "metadata": {},
   "source": [
    "This allows type assertions attached in-place, both in in-line code and in function declarations. They are useful to structure and describe the logical flow of your program, as well as enabling some performance improvements from the compiler. A type assertion for returned values is also possible; here is an example that gives some of the flavour:"
   ]
  },
  {
   "cell_type": "code",
   "execution_count": 10,
   "metadata": {
    "collapsed": false
   },
   "outputs": [
    {
     "data": {
      "text/plain": [
       "clip (generic function with 1 method)"
      ]
     },
     "execution_count": 10,
     "metadata": {},
     "output_type": "execute_result"
    }
   ],
   "source": [
    "function clip{T<:Real}(x::T, lo::Real, hi::Real)::T\n",
    "    if x < lo\n",
    "        return lo\n",
    "    elseif x > hi\n",
    "        return hi\n",
    "    else\n",
    "        return x\n",
    "    end\n",
    "end"
   ]
  },
  {
   "cell_type": "code",
   "execution_count": 11,
   "metadata": {
    "collapsed": false
   },
   "outputs": [
    {
     "data": {
      "text/plain": [
       "1.0"
      ]
     },
     "execution_count": 11,
     "metadata": {},
     "output_type": "execute_result"
    }
   ],
   "source": [
    "clip(0.5, 1, 2) # converts lo to T"
   ]
  },
  {
   "cell_type": "code",
   "execution_count": 12,
   "metadata": {
    "collapsed": false
   },
   "outputs": [
    {
     "data": {
      "text/plain": [
       "1.5"
      ]
     },
     "execution_count": 12,
     "metadata": {},
     "output_type": "execute_result"
    }
   ],
   "source": [
    "clip(1.5, 1, 2)"
   ]
  },
  {
   "cell_type": "code",
   "execution_count": 13,
   "metadata": {
    "collapsed": false
   },
   "outputs": [
    {
     "data": {
      "text/plain": [
       "2//1"
      ]
     },
     "execution_count": 13,
     "metadata": {},
     "output_type": "execute_result"
    }
   ],
   "source": [
    "clip(5//2, 1, 2) # converts hi to T"
   ]
  }
 ],
 "metadata": {
  "kernelspec": {
   "display_name": "Julia 0.5.0",
   "language": "julia",
   "name": "julia-0.5"
  },
  "language": "Julia",
  "language_info": {
   "file_extension": ".jl",
   "mimetype": "application/julia",
   "name": "julia",
   "version": "0.5.0"
  }
 },
 "nbformat": 4,
 "nbformat_minor": 0
}
